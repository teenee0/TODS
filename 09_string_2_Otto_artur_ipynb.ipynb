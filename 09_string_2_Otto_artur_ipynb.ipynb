{
  "cells": [
    {
      "cell_type": "markdown",
      "metadata": {
        "id": "-MUUCWkbBTAz"
      },
      "source": [
        "# Введение в обработку текста на естественном языке"
      ]
    },
    {
      "cell_type": "markdown",
      "metadata": {
        "id": "lLTrGCv2BTA0"
      },
      "source": [
        "Материалы:\n",
        "* Макрушин С.В. Лекция 9: Введение в обработку текста на естественном языке\\\n",
        "* https://realpython.com/nltk-nlp-python/\n",
        "* https://scikit-learn.org/stable/modules/feature_extraction.html"
      ]
    },
    {
      "cell_type": "markdown",
      "metadata": {
        "id": "GM7G1bzzBTA1"
      },
      "source": [
        "## Задачи для совместного разбора"
      ]
    },
    {
      "cell_type": "code",
      "source": [
        "import pandas as pd\n",
        "from nltk.tokenize import  word_tokenize\n"
      ],
      "metadata": {
        "id": "kP0IzK0-E3Ab"
      },
      "execution_count": null,
      "outputs": []
    },
    {
      "cell_type": "code",
      "source": [
        "nltk.download('punkt')"
      ],
      "metadata": {
        "colab": {
          "base_uri": "https://localhost:8080/"
        },
        "id": "Ym-m7BglCEoN",
        "outputId": "b081ed02-1fd4-4f6b-aabe-221e8fb4c4fd"
      },
      "execution_count": null,
      "outputs": [
        {
          "output_type": "stream",
          "name": "stderr",
          "text": [
            "[nltk_data] Downloading package punkt to /root/nltk_data...\n",
            "[nltk_data]   Unzipping tokenizers/punkt.zip.\n"
          ]
        },
        {
          "output_type": "execute_result",
          "data": {
            "text/plain": [
              "True"
            ]
          },
          "metadata": {},
          "execution_count": 15
        }
      ]
    },
    {
      "cell_type": "code",
      "source": [
        "filee = pd.read_csv(\"litw-win.txt\",  names = [\"col1\"], encoding='cp1251')\n",
        "filee"
      ],
      "metadata": {
        "id": "c6JLazcGCTSs",
        "colab": {
          "base_uri": "https://localhost:8080/",
          "height": 423
        },
        "outputId": "7bd77985-ca1a-4934-fb5e-641be2044825"
      },
      "execution_count": null,
      "outputs": [
        {
          "output_type": "execute_result",
          "data": {
            "text/plain": [
              "                                              col1\n",
              "0                                         101167 и\n",
              "1                                          53913 в\n",
              "2                                          35629 я\n",
              "3                                          31815 с\n",
              "4                                          21715 а\n",
              "...                                            ...\n",
              "162161                  1 высокопревосходительства\n",
              "162162                 1 попреблагорассмотрительст\n",
              "162163        1 попреблагорассмотрительствующемуся\n",
              "162164                                 1 убегающих\n",
              "162165                             1 уменьшившейся\n",
              "\n",
              "[162166 rows x 1 columns]"
            ],
            "text/html": [
              "\n",
              "  <div id=\"df-67b79d18-eca3-4d68-bc9a-797151e0d6ea\">\n",
              "    <div class=\"colab-df-container\">\n",
              "      <div>\n",
              "<style scoped>\n",
              "    .dataframe tbody tr th:only-of-type {\n",
              "        vertical-align: middle;\n",
              "    }\n",
              "\n",
              "    .dataframe tbody tr th {\n",
              "        vertical-align: top;\n",
              "    }\n",
              "\n",
              "    .dataframe thead th {\n",
              "        text-align: right;\n",
              "    }\n",
              "</style>\n",
              "<table border=\"1\" class=\"dataframe\">\n",
              "  <thead>\n",
              "    <tr style=\"text-align: right;\">\n",
              "      <th></th>\n",
              "      <th>col1</th>\n",
              "    </tr>\n",
              "  </thead>\n",
              "  <tbody>\n",
              "    <tr>\n",
              "      <th>0</th>\n",
              "      <td>101167 и</td>\n",
              "    </tr>\n",
              "    <tr>\n",
              "      <th>1</th>\n",
              "      <td>53913 в</td>\n",
              "    </tr>\n",
              "    <tr>\n",
              "      <th>2</th>\n",
              "      <td>35629 я</td>\n",
              "    </tr>\n",
              "    <tr>\n",
              "      <th>3</th>\n",
              "      <td>31815 с</td>\n",
              "    </tr>\n",
              "    <tr>\n",
              "      <th>4</th>\n",
              "      <td>21715 а</td>\n",
              "    </tr>\n",
              "    <tr>\n",
              "      <th>...</th>\n",
              "      <td>...</td>\n",
              "    </tr>\n",
              "    <tr>\n",
              "      <th>162161</th>\n",
              "      <td>1 высокопревосходительства</td>\n",
              "    </tr>\n",
              "    <tr>\n",
              "      <th>162162</th>\n",
              "      <td>1 попреблагорассмотрительст</td>\n",
              "    </tr>\n",
              "    <tr>\n",
              "      <th>162163</th>\n",
              "      <td>1 попреблагорассмотрительствующемуся</td>\n",
              "    </tr>\n",
              "    <tr>\n",
              "      <th>162164</th>\n",
              "      <td>1 убегающих</td>\n",
              "    </tr>\n",
              "    <tr>\n",
              "      <th>162165</th>\n",
              "      <td>1 уменьшившейся</td>\n",
              "    </tr>\n",
              "  </tbody>\n",
              "</table>\n",
              "<p>162166 rows × 1 columns</p>\n",
              "</div>\n",
              "      <button class=\"colab-df-convert\" onclick=\"convertToInteractive('df-67b79d18-eca3-4d68-bc9a-797151e0d6ea')\"\n",
              "              title=\"Convert this dataframe to an interactive table.\"\n",
              "              style=\"display:none;\">\n",
              "        \n",
              "  <svg xmlns=\"http://www.w3.org/2000/svg\" height=\"24px\"viewBox=\"0 0 24 24\"\n",
              "       width=\"24px\">\n",
              "    <path d=\"M0 0h24v24H0V0z\" fill=\"none\"/>\n",
              "    <path d=\"M18.56 5.44l.94 2.06.94-2.06 2.06-.94-2.06-.94-.94-2.06-.94 2.06-2.06.94zm-11 1L8.5 8.5l.94-2.06 2.06-.94-2.06-.94L8.5 2.5l-.94 2.06-2.06.94zm10 10l.94 2.06.94-2.06 2.06-.94-2.06-.94-.94-2.06-.94 2.06-2.06.94z\"/><path d=\"M17.41 7.96l-1.37-1.37c-.4-.4-.92-.59-1.43-.59-.52 0-1.04.2-1.43.59L10.3 9.45l-7.72 7.72c-.78.78-.78 2.05 0 2.83L4 21.41c.39.39.9.59 1.41.59.51 0 1.02-.2 1.41-.59l7.78-7.78 2.81-2.81c.8-.78.8-2.07 0-2.86zM5.41 20L4 18.59l7.72-7.72 1.47 1.35L5.41 20z\"/>\n",
              "  </svg>\n",
              "      </button>\n",
              "      \n",
              "  <style>\n",
              "    .colab-df-container {\n",
              "      display:flex;\n",
              "      flex-wrap:wrap;\n",
              "      gap: 12px;\n",
              "    }\n",
              "\n",
              "    .colab-df-convert {\n",
              "      background-color: #E8F0FE;\n",
              "      border: none;\n",
              "      border-radius: 50%;\n",
              "      cursor: pointer;\n",
              "      display: none;\n",
              "      fill: #1967D2;\n",
              "      height: 32px;\n",
              "      padding: 0 0 0 0;\n",
              "      width: 32px;\n",
              "    }\n",
              "\n",
              "    .colab-df-convert:hover {\n",
              "      background-color: #E2EBFA;\n",
              "      box-shadow: 0px 1px 2px rgba(60, 64, 67, 0.3), 0px 1px 3px 1px rgba(60, 64, 67, 0.15);\n",
              "      fill: #174EA6;\n",
              "    }\n",
              "\n",
              "    [theme=dark] .colab-df-convert {\n",
              "      background-color: #3B4455;\n",
              "      fill: #D2E3FC;\n",
              "    }\n",
              "\n",
              "    [theme=dark] .colab-df-convert:hover {\n",
              "      background-color: #434B5C;\n",
              "      box-shadow: 0px 1px 3px 1px rgba(0, 0, 0, 0.15);\n",
              "      filter: drop-shadow(0px 1px 2px rgba(0, 0, 0, 0.3));\n",
              "      fill: #FFFFFF;\n",
              "    }\n",
              "  </style>\n",
              "\n",
              "      <script>\n",
              "        const buttonEl =\n",
              "          document.querySelector('#df-67b79d18-eca3-4d68-bc9a-797151e0d6ea button.colab-df-convert');\n",
              "        buttonEl.style.display =\n",
              "          google.colab.kernel.accessAllowed ? 'block' : 'none';\n",
              "\n",
              "        async function convertToInteractive(key) {\n",
              "          const element = document.querySelector('#df-67b79d18-eca3-4d68-bc9a-797151e0d6ea');\n",
              "          const dataTable =\n",
              "            await google.colab.kernel.invokeFunction('convertToInteractive',\n",
              "                                                     [key], {});\n",
              "          if (!dataTable) return;\n",
              "\n",
              "          const docLinkHtml = 'Like what you see? Visit the ' +\n",
              "            '<a target=\"_blank\" href=https://colab.research.google.com/notebooks/data_table.ipynb>data table notebook</a>'\n",
              "            + ' to learn more about interactive tables.';\n",
              "          element.innerHTML = '';\n",
              "          dataTable['output_type'] = 'display_data';\n",
              "          await google.colab.output.renderOutput(dataTable, element);\n",
              "          const docLink = document.createElement('div');\n",
              "          docLink.innerHTML = docLinkHtml;\n",
              "          element.appendChild(docLink);\n",
              "        }\n",
              "      </script>\n",
              "    </div>\n",
              "  </div>\n",
              "  "
            ]
          },
          "metadata": {},
          "execution_count": 40
        }
      ]
    },
    {
      "cell_type": "code",
      "execution_count": null,
      "metadata": {
        "id": "cOgLR5dwBTA1"
      },
      "outputs": [],
      "source": [
        "from sklearn.feature_extraction.text import CountVectorizer\n",
        "import pymorphy2"
      ]
    },
    {
      "cell_type": "markdown",
      "metadata": {
        "id": "HUryzqeUBTA2"
      },
      "source": [
        "1. Считайте слова из файла `litw-win.txt` и запишите их в список `words`. В заданном предложении исправьте все опечатки, заменив слова с опечатками на ближайшие (в смысле расстояния Левенштейна) к ним слова из списка `words`. Считайте, что в слове есть опечатка, если данное слово не содержится в списке `words`. "
      ]
    },
    {
      "cell_type": "code",
      "source": [
        "import Levenshtein\n",
        "\n",
        "def fix_typos(data, words):\n",
        "    for i in range(len(data)):\n",
        "        for j in range(len(data[i])):\n",
        "            closest_word = min(words, key=lambda x: Levenshtein.distance(x, data[i][j]))\n",
        "            if closest_word != data[i][j]:\n",
        "                data[i][j] = closest_word\n",
        "    return data"
      ],
      "metadata": {
        "id": "slV1LGqvOdsg"
      },
      "execution_count": null,
      "outputs": []
    },
    {
      "cell_type": "code",
      "source": [
        "words = [i.lstrip() for i in filee[\"col1\"]]\n",
        "# for i in filee[\"col1\"]:\n",
        "#   print(i)\n",
        "words[0]"
      ],
      "metadata": {
        "id": "wbTqCutxCZ4D",
        "colab": {
          "base_uri": "https://localhost:8080/",
          "height": 36
        },
        "outputId": "b950ee91-0df4-40e0-f300-d3d383ad746e"
      },
      "execution_count": null,
      "outputs": [
        {
          "output_type": "execute_result",
          "data": {
            "text/plain": [
              "'101167 и'"
            ],
            "application/vnd.google.colaboratory.intrinsic+json": {
              "type": "string"
            }
          },
          "metadata": {},
          "execution_count": 50
        }
      ]
    },
    {
      "cell_type": "code",
      "execution_count": null,
      "metadata": {
        "id": "I2rQZlXuBTA2"
      },
      "outputs": [],
      "source": [
        "text = '''с велечайшим усилием выбравшись из потока убегающих людей Кутузов со свитой уменьшевшейся вдвое поехал на звуки выстрелов русских орудий'''"
      ]
    },
    {
      "cell_type": "markdown",
      "metadata": {
        "id": "X1x6BtvpBTA2"
      },
      "source": [
        "2. Разбейте текст из формулировки задания 1 на слова; проведите стемминг и лемматизацию слов."
      ]
    },
    {
      "cell_type": "markdown",
      "metadata": {
        "id": "G5LY144WBTA2"
      },
      "source": [
        "3. Преобразуйте предложения из формулировки задания 1 в векторы при помощи `CountVectorizer`."
      ]
    },
    {
      "cell_type": "markdown",
      "metadata": {
        "id": "kewop7plBTA2"
      },
      "source": [
        "## Лабораторная работа 9"
      ]
    },
    {
      "cell_type": "code",
      "source": [
        "filee = pd.read_csv(\"preprocessed_descriptions.csv\", index_col = 0)\n",
        "filee"
      ],
      "metadata": {
        "colab": {
          "base_uri": "https://localhost:8080/",
          "height": 423
        },
        "id": "qTBQxFBE9I4E",
        "outputId": "67ddff9a-1886-4108-8a04-4b98af7ab06a"
      },
      "execution_count": null,
      "outputs": [
        {
          "output_type": "execute_result",
          "data": {
            "text/plain": [
              "                                               name  \\\n",
              "0             george s at the cove  black bean soup   \n",
              "1                healthy for them  yogurt popsicles   \n",
              "2                      i can t believe it s spinach   \n",
              "3                              italian  gut busters   \n",
              "4          love is in the air  beef fondue   sauces   \n",
              "...                                             ...   \n",
              "29995  zurie s holey rustic olive and cheddar bread   \n",
              "29996          zwetschgenkuchen  bavarian plum cake   \n",
              "29997   zwiebelkuchen   southwest german onion cake   \n",
              "29998                                   zydeco soup   \n",
              "29999        cookies by design   cookies on a stick   \n",
              "\n",
              "                               preprocessed_descriptions  \n",
              "0      an original recipe created by chef scott meska...  \n",
              "1      my children and their friends ask for my homem...  \n",
              "2                  these were so go it surprised even me  \n",
              "3      my sisterinlaw made these for us at a family g...  \n",
              "4      i think a fondue is a very romantic casual din...  \n",
              "...                                                  ...  \n",
              "29995  this is based on a french recipe but i changed...  \n",
              "29996  this is a traditional fresh plum cake thought ...  \n",
              "29997  this is a traditional late summer early fall s...  \n",
              "29998  this is a delicious soup that i originally fou...  \n",
              "29999  ive heard of the cookies by design company but...  \n",
              "\n",
              "[30000 rows x 2 columns]"
            ],
            "text/html": [
              "\n",
              "  <div id=\"df-219fe1ec-99d9-45b7-9b6f-489201f62f28\">\n",
              "    <div class=\"colab-df-container\">\n",
              "      <div>\n",
              "<style scoped>\n",
              "    .dataframe tbody tr th:only-of-type {\n",
              "        vertical-align: middle;\n",
              "    }\n",
              "\n",
              "    .dataframe tbody tr th {\n",
              "        vertical-align: top;\n",
              "    }\n",
              "\n",
              "    .dataframe thead th {\n",
              "        text-align: right;\n",
              "    }\n",
              "</style>\n",
              "<table border=\"1\" class=\"dataframe\">\n",
              "  <thead>\n",
              "    <tr style=\"text-align: right;\">\n",
              "      <th></th>\n",
              "      <th>name</th>\n",
              "      <th>preprocessed_descriptions</th>\n",
              "    </tr>\n",
              "  </thead>\n",
              "  <tbody>\n",
              "    <tr>\n",
              "      <th>0</th>\n",
              "      <td>george s at the cove  black bean soup</td>\n",
              "      <td>an original recipe created by chef scott meska...</td>\n",
              "    </tr>\n",
              "    <tr>\n",
              "      <th>1</th>\n",
              "      <td>healthy for them  yogurt popsicles</td>\n",
              "      <td>my children and their friends ask for my homem...</td>\n",
              "    </tr>\n",
              "    <tr>\n",
              "      <th>2</th>\n",
              "      <td>i can t believe it s spinach</td>\n",
              "      <td>these were so go it surprised even me</td>\n",
              "    </tr>\n",
              "    <tr>\n",
              "      <th>3</th>\n",
              "      <td>italian  gut busters</td>\n",
              "      <td>my sisterinlaw made these for us at a family g...</td>\n",
              "    </tr>\n",
              "    <tr>\n",
              "      <th>4</th>\n",
              "      <td>love is in the air  beef fondue   sauces</td>\n",
              "      <td>i think a fondue is a very romantic casual din...</td>\n",
              "    </tr>\n",
              "    <tr>\n",
              "      <th>...</th>\n",
              "      <td>...</td>\n",
              "      <td>...</td>\n",
              "    </tr>\n",
              "    <tr>\n",
              "      <th>29995</th>\n",
              "      <td>zurie s holey rustic olive and cheddar bread</td>\n",
              "      <td>this is based on a french recipe but i changed...</td>\n",
              "    </tr>\n",
              "    <tr>\n",
              "      <th>29996</th>\n",
              "      <td>zwetschgenkuchen  bavarian plum cake</td>\n",
              "      <td>this is a traditional fresh plum cake thought ...</td>\n",
              "    </tr>\n",
              "    <tr>\n",
              "      <th>29997</th>\n",
              "      <td>zwiebelkuchen   southwest german onion cake</td>\n",
              "      <td>this is a traditional late summer early fall s...</td>\n",
              "    </tr>\n",
              "    <tr>\n",
              "      <th>29998</th>\n",
              "      <td>zydeco soup</td>\n",
              "      <td>this is a delicious soup that i originally fou...</td>\n",
              "    </tr>\n",
              "    <tr>\n",
              "      <th>29999</th>\n",
              "      <td>cookies by design   cookies on a stick</td>\n",
              "      <td>ive heard of the cookies by design company but...</td>\n",
              "    </tr>\n",
              "  </tbody>\n",
              "</table>\n",
              "<p>30000 rows × 2 columns</p>\n",
              "</div>\n",
              "      <button class=\"colab-df-convert\" onclick=\"convertToInteractive('df-219fe1ec-99d9-45b7-9b6f-489201f62f28')\"\n",
              "              title=\"Convert this dataframe to an interactive table.\"\n",
              "              style=\"display:none;\">\n",
              "        \n",
              "  <svg xmlns=\"http://www.w3.org/2000/svg\" height=\"24px\"viewBox=\"0 0 24 24\"\n",
              "       width=\"24px\">\n",
              "    <path d=\"M0 0h24v24H0V0z\" fill=\"none\"/>\n",
              "    <path d=\"M18.56 5.44l.94 2.06.94-2.06 2.06-.94-2.06-.94-.94-2.06-.94 2.06-2.06.94zm-11 1L8.5 8.5l.94-2.06 2.06-.94-2.06-.94L8.5 2.5l-.94 2.06-2.06.94zm10 10l.94 2.06.94-2.06 2.06-.94-2.06-.94-.94-2.06-.94 2.06-2.06.94z\"/><path d=\"M17.41 7.96l-1.37-1.37c-.4-.4-.92-.59-1.43-.59-.52 0-1.04.2-1.43.59L10.3 9.45l-7.72 7.72c-.78.78-.78 2.05 0 2.83L4 21.41c.39.39.9.59 1.41.59.51 0 1.02-.2 1.41-.59l7.78-7.78 2.81-2.81c.8-.78.8-2.07 0-2.86zM5.41 20L4 18.59l7.72-7.72 1.47 1.35L5.41 20z\"/>\n",
              "  </svg>\n",
              "      </button>\n",
              "      \n",
              "  <style>\n",
              "    .colab-df-container {\n",
              "      display:flex;\n",
              "      flex-wrap:wrap;\n",
              "      gap: 12px;\n",
              "    }\n",
              "\n",
              "    .colab-df-convert {\n",
              "      background-color: #E8F0FE;\n",
              "      border: none;\n",
              "      border-radius: 50%;\n",
              "      cursor: pointer;\n",
              "      display: none;\n",
              "      fill: #1967D2;\n",
              "      height: 32px;\n",
              "      padding: 0 0 0 0;\n",
              "      width: 32px;\n",
              "    }\n",
              "\n",
              "    .colab-df-convert:hover {\n",
              "      background-color: #E2EBFA;\n",
              "      box-shadow: 0px 1px 2px rgba(60, 64, 67, 0.3), 0px 1px 3px 1px rgba(60, 64, 67, 0.15);\n",
              "      fill: #174EA6;\n",
              "    }\n",
              "\n",
              "    [theme=dark] .colab-df-convert {\n",
              "      background-color: #3B4455;\n",
              "      fill: #D2E3FC;\n",
              "    }\n",
              "\n",
              "    [theme=dark] .colab-df-convert:hover {\n",
              "      background-color: #434B5C;\n",
              "      box-shadow: 0px 1px 3px 1px rgba(0, 0, 0, 0.15);\n",
              "      filter: drop-shadow(0px 1px 2px rgba(0, 0, 0, 0.3));\n",
              "      fill: #FFFFFF;\n",
              "    }\n",
              "  </style>\n",
              "\n",
              "      <script>\n",
              "        const buttonEl =\n",
              "          document.querySelector('#df-219fe1ec-99d9-45b7-9b6f-489201f62f28 button.colab-df-convert');\n",
              "        buttonEl.style.display =\n",
              "          google.colab.kernel.accessAllowed ? 'block' : 'none';\n",
              "\n",
              "        async function convertToInteractive(key) {\n",
              "          const element = document.querySelector('#df-219fe1ec-99d9-45b7-9b6f-489201f62f28');\n",
              "          const dataTable =\n",
              "            await google.colab.kernel.invokeFunction('convertToInteractive',\n",
              "                                                     [key], {});\n",
              "          if (!dataTable) return;\n",
              "\n",
              "          const docLinkHtml = 'Like what you see? Visit the ' +\n",
              "            '<a target=\"_blank\" href=https://colab.research.google.com/notebooks/data_table.ipynb>data table notebook</a>'\n",
              "            + ' to learn more about interactive tables.';\n",
              "          element.innerHTML = '';\n",
              "          dataTable['output_type'] = 'display_data';\n",
              "          await google.colab.output.renderOutput(dataTable, element);\n",
              "          const docLink = document.createElement('div');\n",
              "          docLink.innerHTML = docLinkHtml;\n",
              "          element.appendChild(docLink);\n",
              "        }\n",
              "      </script>\n",
              "    </div>\n",
              "  </div>\n",
              "  "
            ]
          },
          "metadata": {},
          "execution_count": 5
        }
      ]
    },
    {
      "cell_type": "code",
      "source": [
        "filee[\"preprocessed_descriptions\"].tolist()"
      ],
      "metadata": {
        "colab": {
          "base_uri": "https://localhost:8080/"
        },
        "id": "u_s_a3tbJs9p",
        "outputId": "6067970d-2ab9-45ff-ed54-e1e86e6f2adb"
      },
      "execution_count": null,
      "outputs": [
        {
          "output_type": "execute_result",
          "data": {
            "text/plain": [
              "['an original recipe created by chef scott meskan georges at the cove we enjoyed this when we visited this restaurant in la jolla california this recipe is requested so often they have it printed and ready at the hostess stand its unbeatable at the restaurant but i do a pretty good job at home too if i do say so myself',\n",
              " 'my children and their friends ask for my homemade popsicles morning noon and night i never turn them down who am i to tell them that they are good for them for variety i substitute different flavours of frozen juice  grape fruit punch tropical etc',\n",
              " 'these were so go it surprised even me',\n",
              " 'my sisterinlaw made these for us at a family get together they are delicious a little messy to make but worth the effort have a helper and make an ',\n",
              " 'i think a fondue is a very romantic casual dinner or wonderful for after the theatre snack served with a robust red wine for dinner serve with rice  a small salad almond rice pilaf is a great accompaniment recipe posted separately  to cook the meat you must first heat your oil  i do this by heating it to almost boiling on the stove and then transfering it to your fondue burner buy good quality meat i recommend only using a fillet have at least 3 sauces if you want to serve 46 people just increase the meat to 2 lbs there will be enough saucethese sauce recipes came from ',\n",
              " 'ok  my heritage has been revealed  these are simply wonderful a favorite among our community theyre sure to bring a smile to your face enjoy',\n",
              " 'this is a very versatile and widely enjoyed pasta dish with chicken it has an asian influence with a very nice sesame flavor i whipped it up one evening with a limited pantry and my little one named it joint collaboration on this one folks oh yea and the key is with the fresh ginger',\n",
              " 'you just have to try it to believe it',\n",
              " 'this is the recipe that we use at my school cafeteria for chocolate chip cookies they must be the best chocolate chip cookies i have ever had if you dont have margarine or dont like it then just use butter softened instead',\n",
              " 'since there are already 411 recipes for broccoli casserole posted to zaar i decided to call this one  412 broccoli casserolei dont think there are any like this one in the database i based this one on the famous green bean casserole from campbells soup but i think mine is better since i dont like cream of mushroom soupsubmitted to zaar on may 28th2008',\n",
              " 'this is a recipe that my mother got from some cooking contest in the 50s it is delicious and filling on a cold night we all loved it so much that we would call it the 25 billion dollar casserole unfortunately my family isnt big on dumplings so i cant make this as often as i would like',\n",
              " 'these are great the perfect name for them',\n",
              " 'i made this recipe myself when i was 13 i was on here trying to find a recipe for potato soup because i liked my moms so much  when i was looking i couldnt find a simple recipe for it that looked good so i decided to make my own  now my soup tastes even better than my moms and i always make it for family',\n",
              " 'this recipe has been posted here for play in zwt9  scandinavia  this recipe was found at website mindspringcom  christians danish recipes',\n",
              " 'this is a neverfail muffin recipe its a blank canvas for anything you can dream up i like coconut and canned chopped pineapple that has been well drained you choose what you want to add in if you like a sweet muffin add in more sugar',\n",
              " 'this is again from vegwebcom this got absolutely amazing reviews over there so im guessing its pretty darn good multiple users said it would even fool the dairy lovers a few users suggested only using half the recommended amount of tofu 1 12oz container others said they used turbinado sugar in place of the syrup cant wait to try it  lemme know what you think',\n",
              " 'ok there are different version of burek some eastern europeans even greeks roll a fresh dough and then spend more time rolling folding and waiting but if youre like me and my mom use phyllo its quick and you can always keep it in the freezer  i remember while i was growing up and my mom would make this every sunday the smell alone coming from our kitchen used to make me come running home please excuse the directions but the recipe doesnt really have measurements or written directions this is an old recipe and no one ever wrote it down',\n",
              " 'tender garlicky and full of oregano n stuff start this one a day ahead the beef slices need an overnight stay in da gravy to be at their best and please dont overcook the roast as it rests right out of the oven and as its reheated itll stop mooing serve on crusty italian sandwich rolls add sauteed peppers if you like but too much more and it starts looking like a philly steak n cheese a whole other beast prep time includes overnight marinating',\n",
              " 'this is something my grandma made at christmas i dont know where she originally got the recipe but the recipe card for it has her handwriting on it i call them german carrots because grandmas grandparents came over from germany my family mostly eats these at christmas and we usually fight over who gets the little bit thats leftover  its a really good barbecued carrot recipe',\n",
              " 'i made this once hoping to have something light for lunch not only was it easy but it tasted great and the bulk of the rice kept me full for hours',\n",
              " 'my old friend pat gave me this recipe 20 years ago and i really love these easy puffsa little too much as my waistline attests',\n",
              " 'im not a big fan of peas but like them in things this salad is one of my favorites happy to share',\n",
              " 'i make mine on one cookie rack placed on a baking sheet but im sure that the chicken could still be great placed directly on a foillined baking sheet although i dont think it would be as crispy plan ahead the chicken needs to soak in the buttermilk for a minimum of 4 hours or overnight if you like a lot of heat then use 2 tablespoons of hot pepper sauce or you can omit the hot pepper sauce completely but i suggest adding it in it really brings out the kick in this chicken you will love this recipe i know my family does ',\n",
              " 'this cool and creamy dip is a refreshing treat for a hot summer day serve it with cut up fresh or grilled fruit from kraft kitchens',\n",
              " 'a delicious yet lowfat twicebaked potato side dish with a blend of classic middle eastern flavours chickpeas cumin and coriander  serve with roasts or with your favourite middle eastern main course dish  adapted from practical cookery low fat  these potatoes could also be served on their own as a light vegetarian meal in view of the comments by reviewers about the potatoes being a bit dry i have added a tablespoon of tahini i have also added some garlic im not sure how the recipe escaped having garlic in it when i first posted it',\n",
              " 'this recipe is from an appetizer book that i inherited from my mother it was published in 1952 and i have fond memories of this dip as a child',\n",
              " 'a nice low carb way to feel like you are eating pasta',\n",
              " 'theres a pub we go to that makes their own french fries and instead of throwing out the skins they fry them up and bake them with toppings in a pizza pan they bring them sizzling to your table in the pizza pan with sour cream for dipping dare i say that they are better than the french fries not a low calorie item but so good this is my attempt to duplicate them',\n",
              " 'this is a wonderful quick bread to make as an acompaniment to most any dish it is very versatile and delicious 1 ',\n",
              " 'i know what you might be thinkingho hum another meatloaf recipe  well your right but i think the secret ingredient sets this recipe apart from any other meatloaf in the zaardata baseplease feel free to adjust any of the seasonings or veggies to suit your own personal tastes submitted to zaar on december 9th2008',\n",
              " 'i took this recipe from a vegan tastes of greece for a  recipe called skordalia which seemed like a dip  i wanted this flavour without dip so i changed it a bit  hence skordy  i listened to penulum while making greek treats which was rather funky do try',\n",
              " 'i found this recipe online the idea here is that you put all the sauce ingredients in a freezer bag along with the chicken freeze it and then thaw it and dump it into a pan to cook i find that premixing this sauce helps though as it is fairly thick its one of my favorites with a somewhat oriental flavor',\n",
              " 'this was made by a friend of mine who is in a recipe club and everyone loved it  if you like mounds bar candy you will love this cake  read all of the recipe before you start it does take a while to make but oh my god its worth it',\n",
              " 'one of the first questions i asked on this site was for homemade v8 juice have been constantly looking until the other day at the dentist office when the assistant gave me her mothers recipe wow so simple and so good071908 update  i made a large pitcherfull today and added about 112 tbsp of worcestershire sauce for an added kick the guys really liked it  mestill like the original best 091608 another update  i have now had two different members point out to me that the former name of this name of this recipe homemade v8 juice is a poor choice as it is not homemadeand i agree thus the new name',\n",
              " 'try this carrot cake recipe i baked 4 different carrot cakes and tuned the recipe to this one i am so happy with the result also most of the guests at my sister in law baby shower including the older and experienced ladies said that it was the best carrot cake ever so enjoy',\n",
              " 'whenever we had a potluck lunch at the office or a neighborhood bbq i would make these the night before tripling the recipe then plug in the crock pot to heat them up for whichever event was going on they always went quickly i think they are very good and are really easy to make if you are making this for a family meal they are really nice served with rice if you are making it for a crowd just put out a bunch of toothpicks and let folks help themselves',\n",
              " 'my son recently showed me a recipe for artisan bread that is incredibly tasty and easy to make  you can find the recipe at httpshoottocookcomrecipesbakingartisanbreadinfiveminutes   the name is artisan bread in five minutes and you really need to try it its greatusing the dough i prepared from that recipe i made my pizza crust and it turned out fantastic  this is also a great way to experiment use different ingredients and adapt the pizza to your own taste',\n",
              " 'since i serve this is very large glasses i have listed at two servings you may divide into as many servings as you wish make certain to use very strong coffee for this  this is very good',\n",
              " 'yummmmmy my amish motherinlaw shared this passeddownthegenerations recipe and it is amazing hard to beat  and goes well with almost any flavor of cake enjoy',\n",
              " 'my son asked for cheeseburger soup and having never made it i researched zaar while i was browsing i had a vision the best baconcheeseburger and fries i ever had chopped into a soup or chowder this is my vision realized it came out even better than i had hoped the flavors are layered no one thing stands out but each ingredient is recognizable the celery stands in for lettuce and everthing else is present it is very rich',\n",
              " 'risotto is the ultimate comfort food its like being hugged by your dinner you can make do with a spoon and dont even need to bother with proper grownup cutlerya bowl of this can almost make everything better again when your down',\n",
              " 'to make a boxed cake mix even better add these 3 ingredientsit real does make a superior cake',\n",
              " 'i love  those chicken burrito bowls at the restaurant chipotle and this version is just as good  to me and my family anyway the recipe appears to be long but it consists of mostly toppings enjoy',\n",
              " 'yes this cake is made with beets and you wont believe how great it is i got the recipe from a friend who said it is the most requested cake in her family even the kids want it for their birthday cake i baked it for one of our family gatherings and now i get lots of requests for it too the batter looks red but the red bakes out i use an almond flavored frosting on it sometimes other times i just serve it with homemade whipped cream',\n",
              " 'this is the delicious green smoothie recipe that i make and serve at my vitamix sales demonstrations  it always wows the crowd when something that is so bright green tastes so surprisingly delicious  it is designed for a vitamix so i dont know how it would work in any other kitchen applianceadd ingredients into the 64 oz container in the following order',\n",
              " 'a one in a million dish craved by thousands of attendees of the maui swap meet it is still sought after it was discontinued when the swap meet moved to a new location  popular toppings for this dish are grilled terichicken teribeef shrimp curry or just with chopped green onions',\n",
              " 'this is a lovely salad dressing from a local glutenfree cookbook it is extremely simple and youll most likely already have all the ingredients at home',\n",
              " 'a recipe from ricardo that is popular with kids  so i had to try it my son is beginning kindergarten tomorrow and i wanted to do something hell like  and this recipe is a winner with it  with us also  its so easy to do',\n",
              " 'i first tasted these muffins at a brunch and the hostess was kind enough to give me the recipei asked her about the name she had given them and she said if any food could ever say good morning these muffins were it',\n",
              " 'noodle beef stew in the slow cookereasy comfort food',\n",
              " 'this started out life as just leek and potato soup one of a plethora of soups in my husbands box of cheffy tricks  when i saw him about to just chuck the chicken frames into the bin after having made the stock i protested and told him to chip off the meat and put it back in the soup  he was a bit dubious but has now changed the recipe to include chicken',\n",
              " 'recipe from a box of jiffy brand pizza crust mix adapted slightly to our own taste when we get tired of homemade pizza we make these quick breadsticks great to dip make extra cuz they go fast',\n",
              " 'all i can say is yummmmmm    a simple to make peach cobbler cooks note a 28oz can of peaches drained or 4 to 5 large fresh peaches skinned and sliced can be substituted for the frozen peaches i use only real butter and real vanilla',\n",
              " 'ive had lots of people ask for this recipethere are similar ones but this is how i make it',\n",
              " 'this recipe was originally submitted to taste of homes healthy cooking magazine by dawn dhooghe of concord north carolina  i lightened up one of my husbands favorite burgers although the original was good we actually like this better',\n",
              " 'my mom taught me how to make from scratch chicken noodle soup and i added to it until it was my own when i was in college i would make it for my friends and roommates when they were sick or even just feeling blue thats how it earned the nickname magic penicillin soup im not sure its all that but i sure like it',\n",
              " 'these are so great as pancakes but even better as sandwiches can be frozen for oamc also',\n",
              " 'years ago i started experimenting with a chicken variety of my moms old basic chili recipe    i never ever make a chili the same way  thats the beauty of it   just use what you have in your pantry or what you are cravingtheres really no way you can go wrong   every time i make chili with chicken it is different for my family  friends who think there is an actual melanies chicken chili recipe heres my attempt to finally publish it with approximate ingredients for you    feel free to mix it up anyway you please  but my biggest rule is please dont use canned diced chilies in that acidic gross tasting preservative juice  yeah you know what im talking about and gross',\n",
              " 'this is the recipe i have been using for years and i am putting it here for safekeeping  i was making it this morning for thanksgiving and noticed that my copy is starting to get soiled  this is so good you could almost eat it for dessert',\n",
              " 'found this in a magazine yet to try but look tasty',\n",
              " 'this recipe is so simple and the flavors are so amazing it was the hit at a recent dinner everyone had to have the recipe better double the recipe they will all want seconds',\n",
              " 'i make this often for my son who gave the dish its name  he claims it tastes like pizza  im not so sure',\n",
              " 'okay i probably didnt make this up but i felt like i did  i was looking for something new to make that my kids would love  it was colorful and my 3 year old called it rainbow chicken so easy and i liked it toothe amounts and times are not exact i didnt really measure as i was going along',\n",
              " 'this is a recipe my mother and i made upit is both easy to make and delicious  it is the most tender chicken ive ever had  if you like things less sour use a little less lemon juice',\n",
              " 'family legend has it that this originated with the danish royal family  apparently my mothers friend knew the cook  it is by far my favorite stuffing and of course we stuff chickens etc with it and even make it as a vegan casserole by leaving out the poultry all together  i have modified it somewhat over the years but it is still basically the same recipe',\n",
              " 'my daughters ages 12 and 6 love my meatloaf but when i want to give them something close to it but different these meatballs are just the thing',\n",
              " 'this recipe comes from the new american diet cookbook with some changes by me  the secret here is to soak the potatoes in ice water for 10 to 15 minutes while the oven is preheating',\n",
              " 'ya so it is kinda cheating but these come out so good everytime fast simple and easy just dont tell em you cheated they keep for 6 months in the fridge but always disappear faster than that a family recipe here in tx',\n",
              " 'a spicy chex mix that will really warm your guests up during the holidays',\n",
              " 'great for parties and superbowl gettogethers serve with crackers bagel chips or vegetable sticks prep time includes time to chill cheese ball',\n",
              " 'as the name indicates fix a sauce from ingredients in your fridge you can make a luscious gravy from your fridge prepare ahead of time and cook when needed a 1 inch chop is like a mini roast you can carve when cooked served with asparagus and a baked potato and dinner is done',\n",
              " 'another all time household favorite from the best of bridge series  going bananas is an excellent bread and our fmaily has enjoyed it for years  12 minutes to mix and 60 minutes to bake and the rest is history',\n",
              " 'this comes from a very highly rated restaurant in my area high in chesse content but so good',\n",
              " 'this recipe was is an insight into my childhood as a reminder of my first love for baking bread my grandpa used to make it for me and i loved it so much that i set my mind to mastering the process myself awesomefor this an more awesome gluten free recipes check out my blog wwwglutenfreegirlsblogspotcom',\n",
              " 'this cheeseburger pizza is so different from the others on zaar i renamed it big mac because it tastes like a big mac only better  my son christopher was served this as an appetizer at a bar very surprising how good',\n",
              " 'i found these at the mr food site my friends says they really are called get up and go bars because with all the fiber you really will have to get up and run especially if you have one of these bars with your first morning cup of coffee',\n",
              " 'this is a great meal eaten the same day but even better the next day  if you can wait add your favourite spices but try it first as it is and i think that you will enjoy the vegetable taste good for freezing',\n",
              " 'this recipe was pulled off the internet',\n",
              " 'this is the best corn bread out there and super easy beware it is moist you also can double the recipe to make a thicker batch of corn bread',\n",
              " 'a little different than most soda bread recipes which makes it even more delicious the beer and pepper add a little different flavor not mention a genuine irishness i got this out of a womans world magazine this bread tastes best eaten right out of the oven',\n",
              " 'this is something my daughter does to get her boys to eat more vegetables it sure works for hershould work for you',\n",
              " 'this was the winning entry at the 2010 iowa state fair for the  tones spices best cinnamon roll contest  overall winner  2010 iowa state fairrecipe created by janice nostrom of humboldt   janice i cant wait to try this as my rolls are so bad i dont even try to make them any more  i have high hopes with this recipe from janice  thank you  rise time about 212 hours',\n",
              " 'these flaky sausage foldovers can be made ahead of time making them great for parties',\n",
              " 'i remember when i was growing up watching my great aunt cook and listening to all her tips on cooking and was thinking about her fried cabbage so this morning new years day i decided to use up the cabbage i had left in the refrigerator i added my own touch to my aunts way of steaming she just usually steamed her cabbage in bacon grease i like to kick my food up just a notch  the measurements in this recipe might be off a bit but the main thing is getting the flavor of the spices',\n",
              " 'this is an easy to make shrimp sauce it makes about 1 12 cups',\n",
              " 'i think this chain is mostly out west but i went to the one in portland me with my sister and am now a huge fan  this is very similar to the rice that they use in the burritos and salads  yummy',\n",
              " 'highfiber muffins that are full of flavor  full of apples carrots and nuts these muffins are so good and great for you i adapted this recipe from one that came on a box of hodgon mill mulitgrain hot cereal found in the gourmet or health food area of a regular grocery store  if you can find the hodgon mill hot cereal use it but if you cant find it you can put the same amount of oatmeal in a blender or food chopper and chop until it is very fine  note the more you use the lowfat options the quicker these will cook  best is to stick to just one or two lowfat options eg just egg whites and skim milk and use veg oil etc',\n",
              " 'this is it the real deal very time consuming but worth it delicious and decadent this is a fourlayer chocolate mousse cake',\n",
              " 'only 3 ingredients  this is my alltime favorite dessert recipe and ironically one of the easiest ive come across  anyone can make it yet the taste is something youd expect from a professional chocolatier',\n",
              " 'tasty and i collaborated on this colorful springsummer salad today there are as many variations of the salad as there are vegetables fruits and herbs use a light vinaigrette of your choice to complete the recipe read note below in the directions tasty dish would like to dedicate this recipe to flower7',\n",
              " 'pineapple mimosa was changed to hawaiian sunrise suggested by kelbels dh and i did like it so i went for it a toast to kelbel and her dh i made this to help the campagne go a little farther and i wish we had an other bottle of champagne because we enjoyed these so',\n",
              " 'mmmm i love bananas a tasty dish original tasty says for a deluxe version stir in pureed strawberries',\n",
              " 'this is fantastic served with grilled seafood or chicken plan ahead this needs to chill for 30 minutes before serving this can be made up to 2 hours in advance but does not keep well overnight',\n",
              " 'its not a fancy cake but when you eat it warm with whipped cream ice cream or a chocolate glaze it tastes pretty good its great for when youre craving for something sweet but dont want the temptation of an entire cake in your house plus its super fast to make',\n",
              " 'this is a real short cut for cooks in a hurry use the cooked sausage bits like you would any meatball in soups stews spaghetti casseroles or as an appetizer with a sauce cheating not really just using a good shortcut',\n",
              " 'from hungry girl emailper serving 10 pickle chips 40 cal 5g fat 10g carbs  2g fiber 2g protein',\n",
              " 'a delicious arabian honey treat and very quick and easy to prepare the cake is butteryeggy and the topping is a chewy confection of butter sugar honey almonds and cinnamon ed compares the topping to pecan pie but its much more caramelized and toothsome',\n",
              " 'i use this everytime i make onion rings hot poppers and other fried finger food  once you use it for the first time you wont have to reach for the recipe again cuz its so easy  to make more just change the 111 to 222 or more',\n",
              " 'a quick easy bread to make',\n",
              " 'this is the best recipe for quick enchiladas that people devour when i make it it is easy and uses stuff you already have in your house i like to use 2 cans of chili i got this recipe off the httpwwweversavecomeversaveconsumersrecipejsp website',\n",
              " 'i found this years ago in a magazine and have been making it since its very easy and healthy serve on tortillas with sour cream and shredded cheese or eat right out of a bowl',\n",
              " 'my mother just gave me a whole box of recipes and i found this recipe in it it sounded so good i baked it for a bake sale a woman bought a couple of pieces liked it so much that she came back and bought the rest of the cake definitely a keeper very easy tasty and versatile i made it in a 9x13 pan you can use milk or water instead of orange juice but i really liked the flavour of the orange juice and the raisins in it',\n",
              " 'from a fleischmanns ad in country living  an ohsoeasy and ohsoyummy treat',\n",
              " 'a quick recipe with only 20 minutes preparation using fleishchmanns rapid rise yeast',\n",
              " 'i was craving blueberry tonight but wanted none of the caloriesso i reached for my proteinrich friend friendship cottage cheese cottage cheese is rough on its own and makes you think its another miseryinducing diet food well it doesnt have to be frozen blueberries are a must for this not fresh because i find that the frozen actually tends to be of better quality no bitterness and when you nuke em they give off this syrup that has no added sugars this takes barely 1 minute to whip up tastes great and is a great rushhour breakfast afterschool or afterdinner treat',\n",
              " 'theres no excuse to skip breakfast when its this easy',\n",
              " 'a moist chocolate cookie that reminds me of a flourless chocolate torte pictures at httpmitochondrialdepletionsyndromeblogspotcom20120410calorieorangesiclemiraclecookiehtml',\n",
              " 'most italian homes rarely have ovens so that leaves them roasting on the stove top its the perfect way to make a rare roast beef turning the meat is the hardest part',\n",
              " 'i call this the 10 lb lasagna because the ingredients total about 10 lbs  i have been practicing my lasagna recipe for years and this is what i have finally come up withnote  this lasagna can be made the day before and baked the next day  or you can make this lasagna and freeze to bake at a later time  if you freeze please remember to allow extra baking time',\n",
              " 'got this recipe from the essentially food magazine its not the best chocolate selfsaucing pudding ive had but it is so quick and great if you have an afterdinner chocolate craving',\n",
              " 'this bread is terrific for sandwiches its slight sweetness and hint of orange marries well with turkey particularly if youre one of the people who loves turkey sandwiches with a dollop of cranberry sauce in the filling',\n",
              " 'i had to come up with a kidadult friendly recipe to please everybody while my stepdaughter was visiting so this is what i did we all loved this it ended up making a lot though so you might want to make a half a recipe ill be taking this to the next potluck or family gathering that comes up it was so good it came out way better than i thought it would i was quite surprised and happy hope you try it',\n",
              " 'a super easy standin for traditional key lime pie slightly altered from the version posted on serious eats httpwwwseriouseatscomrecipes20110710minutelimecrackerpierecipehtml squeezing the limes can be a chore but you can always skip it by buying fresh lime juice',\n",
              " 'this soup is good served with parmesan toasts recipe is from womans day',\n",
              " 'the trick to making 100 whole wheat bread is the extra knead which gives the yeast and gluten a second chance to creat a lighter loaf gluten gives the whole wheat flour the structure needed for a good loaf if your store doesnt carry it try the local health food store',\n",
              " 'this recipe was listed as the featured recipe in an email today from the wwwsparkrecipescom website  submitted by amroz123  i am known for my pancakes so trust me on this one30 minutes to prepare and cook  serving size is one pancake if you use less than 13 of a cup batter like 14 or 16 you can have two for 100 calories smaller but more ',\n",
              " 'you can make this even fewer calories if you sweeten it with a zero calorie sweetner instead of sugar this cam from 101 coffee recipes',\n",
              " 'very nice light crust',\n",
              " 'i wanted 100 which is light and fluffy so i started tinkering away and this is the recipe i got i really love it and its easypeasy lemonsqeasy as my kids would say as a result ive retired my 5050 bread hopefully s',\n",
              " 'this recipe was included with my old black and decker bread machine  this bread is wonderful',\n",
              " 'most whole wheat pancake recipes sneak in some refined flour but not these  great to make ahead and freeze for later',\n",
              " 'this is a delicious yet quick and easy vegetable dip  i got this recipe from my mom  it has been a favorite at family gatherings for years  i like to substitute low calfatcarb ingredients to reduce calories and fat  enjoy',\n",
              " 'a malty sharp chilly  hot breathtaking blast of flavor we used toenjoy poolside in phoenix  recipe from thecafe terra cotta in tucson  later the black mountain brewing company in cave creek began brewing their own chili beer with a whole serrano chili in the bottle an equally good poolside libation',\n",
              " 'this creamy corn chowder is quick easy and so tasty it calls for evaporated milkand thats the secret',\n",
              " 'from joe yonans cookbook',\n",
              " 'i have not tried this recipe i got it from parish pickens from lakeshore united methodist the recipe was submitted by mary knighton',\n",
              " 'heres a recipe a friend sent when i wanted to make homemade maple candy let me know what you think of it',\n",
              " 'i recently tried a russian honey cake which was one of the yummiest cakes i have ever tasted it was so nice i decided to find the recipe and learn to make it myself it took me about 6 months searching the net on websites mostly in russian which i definitely dont read or speak translating from russian using an online translator and trying different recipes before i found this recipe which has produced a result at least as nice as the one i triedi baked 2 pieces at a time on baking paper on an oven tray each batch took just long enough to cook that i had two more ready to swap when the first ones were donethe cream filling and coating is made from sour cream and sugar the sour cream is simply whipped with the sugar until the sugar dissolves the original recipe said to add sugar by intuition i think youre supposed to keep adding more until it thickens but the time i tried that it was too sickly sweeti have also made the fillingcoating using fresh cream  750ml soured with 12 cup lemon juice and beaten until just starting to thicken you still use the sugar  honey this was for a vegetarian who pointed out that the cultured sour cream i used had gelatin in it a slightly different taste but a very nice variationi personally dont like walnuts all that much so i leave them out whenever i cook this',\n",
              " 'from a lipton email newsletter',\n",
              " 'this recipe is an old campbells soup recipe its simple and very good',\n",
              " 'a super simple stove top dish  especially good on cold nights  i originally got this from a kraft box i believe',\n",
              " 'havent tried this yet but it looked delicious',\n",
              " 'this is from worlds healthiest foods  i tried this because it is so easy and quick to make  the asparagus is wonderful too  it fits most any health diet though it didnt include  nutrition data  with it  this is one ill be making often  i used powdered ginger as i dont usually have fresh ginger on hand',\n",
              " 'when i was a vegetarian as a teenager i used to make the recipe all the time it is very inexpensive maybe 3 for the recipe and takes almost no time at all eat alone or use it as a burrito filling omit the cheese for a vegan recipe',\n",
              " 'my own version of oatmeal cooked in the rice cooker all it takes is only 15 minutes of your time ',\n",
              " 'eggplant parmesan an italian standby is one of my favorite dishes we developed this quick version so that i could have it more often its super low in carbs and fat and you wont even miss the breading  dr mike moreno',\n",
              " 'i tore this recipe out of family circle  i have not tried it yet but it sounded very easy to do would be great topped with vanilla ice cream',\n",
              " 'egg free and very moist you can make a cake or do muffins and its so easy and if you wanted you could safely lick the spoon as its egg free',\n",
              " 'from an index card in a recipe box i bought at a garage sale in 1960 the recipe uses canned tomatoes but i have also used fresh tomatoes with great results too substitute olive or vegetable oil for the bacon grease if you like but the taste wont be quite the same good with meatloaf or for serving with leftovers or biscuits',\n",
              " 'from the green thumb harvest cookbook this won first prize in 1889 at the wabash indiana county fair by her greatgrandmother according to the woman who submitted it this makes 2 loaves',\n",
              " 'came out of my los angeles fair cookbookserve with chili or soup',\n",
              " 'a hearty soupi might even qualify it more as a stew great for filling bellies on a cold day great for stretching a dollar',\n",
              " 'this marinade gives an extra zip to you usual pimiento stuffed olives do not keep more tham a few days so only make what you plane to use lovely served along with other appetizers',\n",
              " 'so easy  tender crisp  hot steamed broccoli in 2 minutes do it',\n",
              " 'i needed a delicious sugary fix and fast and as im suffering a bit a of a coldflu virus as i type this and much to my extreme irritation i can hardly taste anything   i guess my body needs extra energy to fight off the infection  well this will certainly help boost the energy and this really simple and extremely sweet strawberrybanana instant dessert certainly tastes great   i wanted as few calories and fat as i could persuade my cravings to settle for  so obviously there are a few  but theyre all made up of good stuff  very little fat and not so many calories that im being ridiculous',\n",
              " 'yet another smoothiemilkshake experiment gone well yea i love cottage cheese you can tell',\n",
              " 'while trying to come up with a satisfying snack or dessert that fit the requirements of my low carb low calorie low fat diet ugh but im only on it for 3 weeks as a jumpstart i invented this ive experimented often with doityourself coffee mixes and i think this is better than most  im mostly putting this here to calculate the nutritional informationfor cocoa use the best you can find  currently im using ghirardelli unsweetened cocoa from a 10 oz can sold in the baking section of publix  my current sweetener is sucaryl tablets from canada and i use 2 tablets easy to rememberthats why i tried these proportionsedit after publishing when i found out the total carb count and realized it was too high due to the milk powder i decided to wait until i go back to lowcarbing and then use cream which has zero carbs  however this is still quite low in calories so many dieters should find it useful',\n",
              " 'this is the starch for the easter dinner from good housekeeping receipe 1 was roast leg of lamb with figs and wine',\n",
              " 'similar to cheesy chicken simmer  k  i posted however this one has the rice cooked in the dish and has no cheese submitted by haleemah6sal7 on kraft foods site',\n",
              " 'right out of the garden goods to make a yummy spicy salsausing really hot chilies but skip them if you want it calmgarden fresh zucchini tomatoes and onions with fresh herbsdo use a food processor for chopping your veggies to save on time',\n",
              " 'from the splendid table this serves four and doubles easily',\n",
              " 'this is great for people who are on a nonwheat diet  you can also substitute ground hazelnuts for the almonds if you wish  i think this recipe was in a cuisine new zealand recipe book  the cake will be quite fudgy and not dry in the middle  it will also sink a little as it cools so dont worry if this happens',\n",
              " 'this is a wonderful brunch item that tastes like a french toastbread puddingcustard combination i love it when someone says honey please bring me some honey pudding honey puddin pie',\n",
              " 'this is our creation of a wonderful summertime treat add a shot of tequila for the adult version ',\n",
              " 'this is a nice healthy low calorie big bar perfect for part of breakfast or an afternoon snack you can rough chop the nuts in a food processor or place into a ziploc bag and use a rolling pin to crush to make things go faster',\n",
              " 'i was in the mood for chili but i couldnt find a good recipe that i liked so i took some ideas and created this  of course you can use half a jalepeno or a chili or use no pepper for a mild chili but the jalepeno gives it a nice kick add more or less seasonings depending on taste 9 i cant really remember the exact measurements',\n",
              " 'i got this from a ragu ad',\n",
              " 'cheesy spicy good serve with chips or veggies',\n",
              " 'bhgcom',\n",
              " 'going off of applebees dish decided to try my own version at home this is made with a jarred alfredo sauce for quick meals but of course homemade is always better feel free to use your favorite alfredo for really quick meal use the precooked chicken slices you can find in the freezer section at your grocer freezer',\n",
              " 'i like everything in my lasagna but theres gotta be 3 cheeses and meat to make it properits even better if you add a little cheddar feta and gouda of course the goudas just getting excessive',\n",
              " 'very very easy to make meal that will please almost anyone what a great way to get the little ones to eat spinach heh 8',\n",
              " 'the mixture of melted cottage cheese cheddar cheese and parmesan cheese is irresistible paired in crisp toasted bread  delicious from better homes and gardens new dieters cookbook',\n",
              " 'i served this with goulash and it was perfect',\n",
              " 'i sort of invented this goulash with the help of my wife i was trying to make a goulash like my mom served to all of the youngunsand i was one of them i enjoy eating it and after eating a couple of bowls there is enough left to put in the refrigerator to warm up and enjoy again for the next 2 days sure hope you try itand that you like it as much as i do',\n",
              " 'we have this at the holidays like everyone else for 3 generations its very easy and very good a good beginning job for the cooks that want to help the faster you peel and chop the faster this dish is lol',\n",
              " 'delicious pot roast  the meat stays together so it is easily sliced but tender too fabulous gravy',\n",
              " 'born and raised in texas i am a snob when it comes to mexican food i have tried so many recipes for the perfect salsa and always come back to this one its absolutely delicious fresh amazingly healthyand only 3 ingredients trust me simple is the way to go with fresh salsa',\n",
              " 'who says that recipes have to be complicated to be amazing this one will prove that it doesnt try it on chicken or really any other meat great for grilled veggies too you only have to remember to use equal parts of each spice to make this this is a chatelaine magazine recipe enjoy',\n",
              " 'these are so moist chewy and delicious plus  you can make them so easily not to mention its vegan',\n",
              " 'this can easily be halved and baked in an 8x8 pan',\n",
              " 'this was submitted by usha l acharya to the thursday magazine dated jan 6th12th06 enjoy',\n",
              " 'ohhi think i gained 10 pounds just typing this one heh does this sound goodor what 8',\n",
              " 'this recipe is really good and simple i make it for all kinds of parties and its always all gone by the time we go home',\n",
              " 'this recipe is a taste of home spin off with a couple of things changed to give it more flavor  we found this final recipe worked the best and tastes delicious dont worry if your meat or cheese doesnt cover everything you will be rolling this up so it will be fine also create you combination of herbs i used a seasoned mix from penzeys and used that and it was wonderful',\n",
              " 'this is too simple and no bread machine required  this makes a beautiful and really healthy bread i was really skeptical when a friend gave me this recipe but the result was great the 3 minutes is prep time it does take an hour to bake',\n",
              " 'this is super simple and easy to make not too vinegary and not too sweet time is less than 10 minutes to throw together',\n",
              " 'a must try there are tons of recipes for baked beans but these will really stand out and how greatthey freeze beautifully i call them 3 way because you can really use any 3 kinds of beans you like and once combined you have 3 options to choose what to do with them i adapted this recipe to suit my family and the freezer the original is from beyond macaroni and cheese',\n",
              " 'i got this from a friend  its easy and delicious and fattening  serve with cocktail bread  there will be a lot of oil at the top of the dish when it comes out of the oven so be sure to spoon it all off before serving  also if you like more onion dice a medium onion instead of a small onion',\n",
              " 'great for cookouts family gatherings potlucks or if youre just having hot dogs at home  the 3 variety of beans in addition to ground beef and bacon give a hearty dish  this recipe is not overly sweet but very flavorful and filling  easy preparation',\n",
              " 'this came off the side of a goya can of beans to give credit where it is due and im thinking about subbing the crushed tomatoes with a 28oz can of pumpkin putting it here for safekeeping the topping listed came with the recipe but i prefer just to use some cheese to make chili cheese fries or nachos i also would like to add extra salt and pepper because tomatoes have a natural sweetness and most vegetarian chilis are too sweet because the tomatoes and beans make up for the lack of beef',\n",
              " 'whenever you need a lastminute dessert this is perfect  it can be mixed up baked and served in a jiffy  this cake is especially delicious topped with scoops of vanilla ice cream',\n",
              " 'food  family fall 2005 issue',\n",
              " 'this was adapted from a recipe i found on the net but i added julienne onion to the peppers  this is a meal in itself or you could have a small slice with a meat dish  for those that like to have brunch its a bit different to your traditional quiche recipes  if you love cheese you could add 12 cup of your favorite to the egg mixture then pour over peppers',\n",
              " 'super fast  easy  feel free to substitute another ready made sauce or your favorite homemade this variety just happens to be our current favorite a great add of course is mushrooms',\n",
              " 'basically its a campbells chicken and soup recipe that i had tweaked i had 4 hungry friends over and no real food or money since where in college this is a cheap dinner to make and easy to double good for big families all i had on hand was chicken and rice and mushroom soup lucky i had a few spare items on hand i didnt like the idea of chicken just sitting there in cream of mushroom soup for an hour in the oven with rice so i tweaked it with white wine and made it on the stovetop we couldnt wait an hour with the brown bits it made the greyish looking soup into a pretty golden color and the garlic woke everything up the uncle ben flavor rices are awesomewhen youre in a pinch i totally recommend them you can also use egg noodlesit makes it a bit more richer ever since then i get this request about twice a week and people still dont believe its cream of mushroom soupwho knew ',\n",
              " 'this is cream of mushroom soup for dummies  it is unbelievably easy and super fast',\n",
              " 'i made these one time to go with soup that we were having for dinner i made the dough balls too big andor let them rise too much and they ended up being huge but they were good and they were easy to make',\n",
              " 'for a quick and easy lemon meringue pie',\n",
              " 'i love corn chowder have a pot on now recipe is from special choice recipes cookbook',\n",
              " 'new from campbells kitchen',\n",
              " 'this hits the spot for a quick meal on blustery fall days',\n",
              " 'is it a carrot cake with a rich caramel flavour or a caramel cake with a carrot undertone either way this layer cake has a caramel frosting topped with a butterscotchchocolate glaze',\n",
              " 'these cookies are absolutely delicious and practically guilt free only about 35 calories per cookie they are so tasty and soft you would never guess how healthy they really are great dessert or snack for the fall and winter seasons i have a few in my fridge all year long to keep me from snacking on more sinful temptations',\n",
              " 'found this on a ',\n",
              " 'i found this salad on another website and am posting to try later',\n",
              " 'this will literally take you between five and ten minutes to make i used to make this when i worked in a deli it flew out of the bowl and into customers carts easy easy easy',\n",
              " 'i was looking for another type of macaroni and cheese dish and came across this one from emeril lagasse i havent made it yet but plan on trying it out on my crew at thanksgiving whats not to like about cream and cheese  the epitome of comfort food',\n",
              " 'must like cheese for this one its like adult mac and cheese',\n",
              " 'adopted recipethe original recipe calls for baking in the oven but you could also make this in a slow cooker on low if you dont want to tie up your oven for that long this is a very easy stew to make there isnt much prep to it just some rough chopping of the veggiesmake sure you dont lift the foil in the oven bc the steam helps cook the veggies just rightthis would be great with a nice crusty bread on the side',\n",
              " 'a family favorite for years',\n",
              " 'this is a crock pot recipe my mom has been making for years  it is a nice change from plain old baked beans  it is great to take for pot lucks and bbqs',\n",
              " 'this is the simplest toffee recipe ever  i love it because it only takes 4 ingredients that i always have around the house  follow a few easy steps and voilainstant gratification  this recipe makes great holiday gifts for the neighbors theyll think you slaved over a hot stove all day but the truth will be our little secret',\n",
              " 'i got this recipe from the local newspaper and the chicken is so moist and full of sweet garlic flavor  i always serve with a loaf of french bread and spread the garlic on the bread like butter  it is to die for',\n",
              " 'this wonderfully garlicy chicken from cusine is suggested to be served with lemon rice pilaf see recipe i posted',\n",
              " 'there are so many luscioussounding recipes on zaar for pork tenderloin marinades that we plan to spend all spring and summer grilling our way through the list i honestly think though that this one can stand up to the best of them its from a local community cookbook and its way up there on the list of family favorites you can cut the marinating time to 24 hours but 48 is better just promise me that you wont cook it to death  a light char on the outside and pale pink on the inside is perfect when im expecting a bigger crowd than usual and have to buy 2 packages of tenderloin i stick all 4 pieces of meat in one big ziplock and double the marinade recipe',\n",
              " 'quick and easy makes a great lunch',\n",
              " 'dont like too sweet pecan pie youll like this one then its mostly nuts with just enough filling to hold them together nice change of pace and very decadent  i saw a pecan pie at a local creole restaurant in a suburb of washington dc  that gave me the idea to develop this one',\n",
              " 'tasty pork chops cooked up with no fuss right in your crock potabsolutely great',\n",
              " 'this recipe has been passed down from my best friends mom barb guesman it is super easy with only 5 ingredients and practically no prep time  its perfect for throwing together for an unexpected guest or a quick snack  we love it for football games holiday parties or any get together i have eaten many pans of this for dinner by myself i am sorry to sayyou can prep this at home and bring it with you travels well and it has no beans enjoy',\n",
              " 'i found this in my mothers recipe collectioni had to post itnever seen anything like thisi will be making this very soon 8',\n",
              " 'quick add this to your cookbook dont let this one get away heh i found this a while back and it spoke to me  it really is a perfect recipe i hope you will give it a try 8',\n",
              " nan,\n",
              " 'this is the basic boule bread mix from the book artisan bread in five minutes a day by jeff hertzberg and zoe francois  ive mainly posted this recipe so that i dont have to hook out the book every time  the dough is stored in the fridge for up to 2 weeks taking out a bit each day as you need it forming it and baking it  a forum i belong to love this bread which is what inspired me to get the book  most of them cook it in a remoska which is a gadget that i find invaluable  remoskas are from checkoslavakia and i believe theyve just come to the states  in the uk theyre available from strongly recommend getting the book if you like this bread  they have lots of different kinds of bread which you make in this way also sweet ones plus ideas on how to ring the changes recipes to use up the stale bread etc  ps  someone said they were having difficulty getting hold of the book so i tried to post an amazon link for it here  but it just comes out as html gobbledey gook  if anyone knows how to do it please let me know  otherwise try amazon guys    very very worth getting the book',\n",
              " 'easy recipe delicious topped with minced jalapenos jack cheese and sour cream i usually serve it with corn bread or muffins and a green salad',\n",
              " 'inspired by recipe361967 i experimented and made up this cake for the two of us  i did try it with twice as much baking soda and baking powder reduced them both to 18 as the cake touched the microwave ceiling and started to curve down tasted fine but sure looked bizaar think it needs these ingredients to get a cake texture i doubt that this recipe can be reduced and work out thank you especially to debbwl and diner524 for trying to help me improve this recipe for two',\n",
              " 'served at the 5 star pieros italian restaurant in las vegas  this is the original recipe for the most delicious creamed corn not sweet youll ever taste  given to me by the kind executive chef of pieros las vegasthe recipe is so incredibly simple but the taste is out of this world  not at all sticky sweet or mushy like canned cream corn rather barely sweet but just enough to make you know you are eating something very special  you cant go wrong with this dishsuper simple elegant and impressive',\n",
              " 'this sauce was like heaven had come to my lips i used it on a freshly peppered steak which was an experience this is now my favourite sauce it is more of a gourmet sauce and is not sickly so you can serve large quantitys on a single piece of meat',\n",
              " 'this came from a dear friend of mines mother she makes it for her family and the grown children always ask for take home containers',\n",
              " 'this is a really easy shrimp stirfry that i came up with  it has shrimp with 5 tablespoons for the marinade',\n",
              " 'found this on a diabetic website while surfing for healthy salads to make ahead and take to work since my mom developed diabetes i have an interest in finding healthier recipes to put into our diets  you could really add or substitute just about any vegetable you wantedbulgur comes from wheat it is actually the kernel of wheat cracked for cooking it has a nutty chewy flavor and contains fiber olive oil is a healthy choice for vegetable oil this recipe is fiber rich and full of vitamins and py',\n",
              " 'from bhg a very well seasoned but not necessarily hot chili add cayenne or hot sauce or both if you want a hotter chili',\n",
              " 'if you dont have time to cook your beans canned garbanzo beans bpa free makes this mediterraneanstyle salad an easy addition to your healthiest way of eating and you will also be enjoying a rich source of healthpromoting dietary fiber',\n",
              " 'i saw melissa make these on the next food network star show and wanted to try these for my family quicker baking time with the smaller portions note i layered the potatoes cheese seasonings and onion several times and cooked it closer to an hour in my oven',\n",
              " 'the best rib recipe ever all my friends and family love this one',\n",
              " 'can be served hot or iced  use sweetener of choice  i use splenda  can also use black tea for a stronger flavor',\n",
              " 'this is a nice light bread that is very tasty for sandwiches and does not require the whole wheat cycle on the abm it is from the canadian bread machine baking with roxanne mcquilkin',\n",
              " 'this recipe comes from carbohydrate counting made easy cookbook sponsored by the diabetes support group at knoxville area community hospital  nutritional facts are as follows calories 134 protein 4g fat 2g carb26g  i bought this cookbook when we took sarah to diabetes camp at camp hertko hollow in boone iowa   phone 5152762237  give them a call and get your child into a great camp were they are not different from the other kids you just cant believe all the volunteer physicians nurses pharmacists endocrinologists dietitians and other people that are there for that week   here is their web site httpwwwdiabetesorgcommunityprogramsandlocaleventsdiabetescampsiahollowjsp',\n",
              " 'this recipe came from the sunday paper coupon inserts it makes a great sauce to cook the cocktail weenies in or a yummy dipping sauce for the side this is such an great recipe to make for a gathering and is very easily doubled serving size approximate',\n",
              " 'this recipe is from tailgate cookin booklet from heinz kitchens  its really good',\n",
              " 'i made this up tonight and the sauce was really savory the exact measurements need tweaking and the sauce was good but runnyi am up for any suggestionsserve over elbow macaroni',\n",
              " 'chunks of beef are simmered in beer with scallions garlic tomatoes cumin and cilantro serve this over rice with a little aji picante and youll have a delicious comfort dish latin styleweight watchers points plus value 6',\n",
              " 'i love hearty stews like this on chilly nights they smell so nice bubbling away in the kitchen',\n",
              " nan,\n",
              " 'i was trying to make simple three ingredient peanut butter cookies but i ended up short on peanut butter and had to improvise they turned out very light crispy and delicious i am very happy with them w',\n",
              " 'this disappears really fast whenever i make this',\n",
              " 'low fat 7 layer salad great for folks on la weightloss',\n",
              " 'great easy frosting for a devils food cake',\n",
              " 'there are many layered dip recipes out there  i have a couple of excellent ones in my collection too but this is a tasty new version that i think youll enjoy ',\n",
              " 'this is a diabetic recipe and is courtesy of onetouch gold it is called 7minute soup but really takes about 30 minutes',\n",
              " 'closest thing to kfc biscuits ive ever tried once you try this simple recipe you will be sold melt in your mouth good',\n",
              " 'very simple and easy to make spice it up if you wish or leave as is and you can omit the meat and use chopped mushrooms',\n",
              " 'was requested to bring a salad to a halloween party by 730 pm and i didnt have a moment to lose try this served with recipe 251430',\n",
              " 'this is beautiful when cut all the layers and colors of the jello  it helps at it taste good too  very refreshing    for the 4th of july i have done red white and blue then cut it with star shaped cookie cutter  enjoy   great hit at church pot lucks',\n",
              " 'this is a heavenly quick delicious soup  i got this from a church dinner we had  the pastors wife hates to cook and this is her favorite quick takeone taste and it is mine now too  great for socials',\n",
              " 'from the crisco websiteposting for safe keepingthis are a bit different then the other recipes listedi have not made these yettimes are approximate',\n",
              " 'this recipe is by don mauer a syndicated food columnist the technique used here makes for a fast yet tender pot roast the 90 minutes refers to time in the oven there is additional time needed for brining and cooking do not cook vegetables with the pot roast  cook them separately or parboil and add to the gravy as it cooks prep times are estimated as i have not made this yet but am looking forward to doing so please note that the sodium count is off  the sodium is principally in the brine which is discarded',\n",
              " 'cooking time does not include chill time',\n",
              " 'a dish commonly found on menus in new mexico is chile cheese fries it normally is french fries topped with chile sauce and melted cheese  very fattening to say the least this variation is less fatty easier to do at home and can be a main dish quantities are very flexible with this recipe',\n",
              " 'had never heard of johnny marzetti until recently stumbling on his recipe in some newspaper website actually research shows marzettis restaurant in columbus ohio was the source of this great comfort food dish back in the 20s is it still there have seen ingredients of several versions of this dish here but none with all these great ingredients this is an ultimate comfort food that is even better at the second and third sitting i think that the sausage and italian cheese blend is key to success of this rendition dish is great with a nice green salad',\n",
              " 'this has become a favorite snacklunch just spread it on crackers',\n",
              " 'a flavorful one dish meal dried beef flavor really blends well with chicken a house pleaser dried beef can be found near chili and potted meat section one of the few meals my husband will have as a left over',\n",
              " 'most eclair cakes or desserts use graham crackers i find that by using club crackers the desert actually tastes more like a true chocolate eclair i find its not as sweet using the club crackers alsoif you dont want to make the frosting use a ready made chocolate fudge frosting just heat for a few seconds so its pourable cook time is chill timeto make it lighter you can use sugar free pudding low fat milk low fat club crackers and sugar free cool whip',\n",
              " 'a friend gave me this recipe and it sounds really interesting  i have not tried it yet but look forward to making it soon  i am posting it here so i wont lose it',\n",
              " 'this salad combines fresh spinach with strawberries bananas walnuts and raspberry dressing  not like the bacon grease dressing type spinach saladan altogether different experience  very tasty',\n",
              " 'got this from everyday with rachael ray  a wonderful twist to eggs and rice',\n",
              " 'a wonderfull company dessert lovely presentation and tastes great too chill time is cook time',\n",
              " 'for an easy tasty and different twist on the tomatomozzarella salad try this dressing the tastes of the balsamic and soy are so good together',\n",
              " 'tuna casserole with a twist and a family favourite cheap to make',\n",
              " 'one for you one for me one for you one for me',\n",
              " 'this a fantastic cakegreat in the summer',\n",
              " 'this takes a traditional full english breakfast and gives it a healthier twist thanks to chef jamie oliver you can get a full monty in under 500 calories its actually a lot healthier than most pastries muffins and croissants give it a go i have to admit that i used regular bacon instead of the canadian bacon personal preference its up to you',\n",
              " 'you can smell the bacon from the outside the house fall is approaching and the wind has picked up a little bit and a nice breeze is blowing from the south which in turn transfers the aroma of fresh bacon right out the window and into your nose dennis was wondering what was going on after all it was the middle of a fall afternoon the door creaks open dennis slips off his boots hangs up his hat on the pegged hanger and rushes into the kitchen i turned around to greet him with a smile and laughing at his questioning look i tilt my head and say its bacon dennis i know i know tests dennis with a small voice dennis loves bacon he will eat a couple of pieces a day that would be if i let him i decided i would at least bring some healthfulness to him and something tasty at the same time one piece of bacon wrapped in a tortilla or pita for that matter with an abundance of lettuce tomato and special spritely green onion with a spot of cheese dotted on the top would be the answer to his dream',\n",
              " 'no need for cream in this soup some fresh seasoning from sage and the sweetness of the apples make this an amazing easy quick soup one of the things i like best about this soup is that it has a very clean fresh flavor this to me makes an amazing starter for a dinner party soup for lunch or served with sandwiches or salad for a great light dinner and the best part  this is just as good served chilled as it is hot i love to serve this with my sweet savory bread sticks',\n",
              " 'any goddess would enjoy this delicious concoction with a doublewhammy of jamaica in it  jamaican blue mountain coffee and tia maria  created for zwt9',\n",
              " 'not your regular brownie these have a kiss in then they are easy to make and i can say everyone should enjoy them',\n",
              " 'luscious fresh strawberries nestle amongst light sponge cake sandwiched with strawberry jam which are then covered with creamy custard and topped with clotted cream simple this trifle may be simple but it is the star on any teatime or dessert table and if you cannot obtain clotted cream use whipping cream heavy cream or double cream instead madeira is used in place of sherry in this trifle which gives a mellow flavour to the trifle this is a recipe that my mum sent to me from a cutting in a british magazine promoting devon and cornwall in the west country  home of the cream tea  if you wish to serve this to children or nondrinkers substitute the madeira with fruit juice of your choice in the summer scatter some pink rose petals over the top for the ultimate and romantic finish prep time includes the chilling and soaking time',\n",
              " 'this sandwich is based wholly on potato salad  invented by my mother and me  put it in the icebox for lunch anywhere  use any type of potato salad',\n",
              " 'from the scandinavian and american recipes cookbook which contains recipes submitted by parents and friends of the svenskarnas dag girls choir recipe by julie vaillancourt',\n",
              " 'posting for zwt6 great britain region adapted from recipehoundcom',\n",
              " 'i am always on the lookout for a delicious dahl recipe to serve with roti this one hits the mark as it incorporates tomatoes and potatoes and is fairly watery  which is what i prefer to dry dahls',\n",
              " 'this cookie is made without flour and without sweetened condensed milk  light and chewy  i prefer using unsweetened coconut but sweetened is fine  this was my grandmothers recipe probably from better homes and gardens  they are flat not the traditional mounded cookie  perfect for dipping',\n",
              " 'there once was a restaurant chain called ln seafood grille  this is their rice pilaf recipe almost exactly  their recipe called for 1 gallon of uncooked rice  you can see that i have cut it down a little  obviously this recipe can be much more than quadrupled easily',\n",
              " 'found on apartment therapy via melissa clarks cook this now the test recipe was cut in half fireroasted tomatoes are strongly suggested for this soup recipe both stove top and crock pot directions are given',\n",
              " 'i love using my crock pot for those nights when i know i wont have time to make dinner but i want to have dinner ready when someone walks through the door when i made of this recipe it just reminded me of fall thus the name',\n",
              " 'ive never been to florida but i love this drink and i understand it gets me pretty close',\n",
              " 'this is what happens when a vegetarian doesnt have a date on friday night im still working on this recipe so the measurements are sort of estimated feel free to get creative',\n",
              " 'this is a tasty soup and kids seem to love the alphabet pasta i got the recipe from a a cookbook called yuletide on hilton head',\n",
              " 'an omlet made with asparagus and lemon from flavors of greece by rosemary barron',\n",
              " 'ooh if ever there was a wild rice dish worthy of an award its this one its a well balanced appetizer salad or vegetarian main course the nuttiness of the wild and brown rice paired with a zippy vinaigrette sweet plumped fruit nuts and creamy avocado  you cant go wrong with this one',\n",
              " 'the broth is outstanding serve with fresh homemade bread and salad and you are set great for leftovers',\n",
              " 'a quick copycat recipe that doesnt use dry ice  this does not store well so only make up what you want to useroot beer concentrate can be found at your grocery store next to the extracts and flavorings',\n",
              " 'this is the best potato soup ive ever had  especially on cold days  years ago a friend gave it to me and it has become one of our favorites',\n",
              " 'i was looking for a different type of burger and came up with these  they are moist and flavorful',\n",
              " 'from famous steakhouse recipes by a1 steak sauce this is from the original old homestead in new york city',\n",
              " 'from a fbnr cookbook',\n",
              " 'based on a recipe from the januaryfebruary 2011 issue of weightwatchers magazine this is featured as a 10 minute breakfast for one',\n",
              " 'a1 original sauce recipe contest entry  this is a new twist on traditional asian pot stickers  they are savory spicy and a little sweet  the all in one perfect bite',\n",
              " 'persianiranian dinner',\n",
              " 'persianiranian dinner',\n",
              " 'a sweet egg pudding using mashed potatoes given to the bride',\n",
              " 'recipe courtesy aarti sequeira',\n",
              " 'in my voyage to healthier eating i have started using ground turkey instead of beef in doing so i had to make it tasty too i do not use salt for those that choose to season well thats on you',\n",
              " nan,\n",
              " 'i found this recipe in a bread machine book that i received for my birthday from my mother last yearif your machine has instuctions that the yeast should be placed in the pan first then reverse the order in which you add the liquid and dry ingredients',\n",
              " nan,\n",
              " 'an attempt to copy rock ola grilles fabulous chicken quesadillas  after having many quesadillas in several restaurants this is absolutely the best  the flavor just cant be beat  melt in your mouth easy',\n",
              " 'i got this recipe from a website for which ive long since lost the address  i wish i could credit the author because this is truly an amazing soup  id recommend not skipping the avocadosthey are what puts it over the top in my opinion',\n",
              " 'soaking overnight makes this the best oatmeal youve ever had created for the ready set cook contest 10 the ingredients have been updated based on the reviewers suggestions that it was too sweet but feel free to increase the sugar and syrup to 12 cup each if you prefer a cakelike sweetness this saves wonderfully in the refrigerator and can be cut in oatmealtogo pieces after chilling',\n",
              " 'i discovered this in an old cookbook on a scrap of paper its so easy is almost like cheating its so delicious everyone asks for the recipe and cant believe how simple it is',\n",
              " 'i know i know everyone claims the best sweet tea around i only say mine is best because everyone and i do mean everyone says so so far but now its posted so that may change posted by request  sometimes we will substitute two of the lipton tea bags for two green tea bags which gives this tea another wonderful flavor some tea bag history tea bags were originally created by manufacturers as samples of their fine teas and given to the distributors to boost sales',\n",
              " 'i actually won a local contest with this recipe our favorite restaurant who served the best dip closed downand we could not find another that was even close so i came up with this homemade replica which is just as delicious',\n",
              " 'this is one of my favorite pizza recipes i stole the idea from a local grocery store deli that stopped making this pizza several years ago i think this is just as good as what they sold',\n",
              " 'when our family visited puerto rico the only thing in the refrigerator that was edible was bread and cheese  so our grandpaabuelito wato sliced us some cheese and grilled it on some bread for lunch and a snack  when i got back home we modified it and added tomatoes but it is really delicious',\n",
              " 'i love asparagus and dill so i decided to create a easy side dish tonight utilizing both',\n",
              " 'well the eggplants are coming in from the garden in a big way the last time i looked there were 10 eggplant fruit on the plant plus another 10 purple flowers i guess im going to be searching the eggplant section of zaar foradditional ideas lol',\n",
              " 'yet another recipe for eggplant lol i have seven eggplants on my eggplant and about 6 purple flowers how many different ways can you serve up eggplant eggplant ice cream anyone lol',\n",
              " 'i came up with this recipe with ingredients i had on hand in my cupboard the chops were so delicious that we devoured them before i remembered to take a photo enjoy',\n",
              " 'im on a smoothie kick currently and these were ingredients i had on handmakes a refreshing beverage for a hot summers dayenjoy',\n",
              " nan,\n",
              " 'who needs the booze with this yummy creation',\n",
              " 'this recipe came from my greataunt tina it is very very old honestly if i see this recipe it would never cross my mind to try it buti had them when i was a child and they are fabulous times have change and i know we are not suppose to eat raw eggs so if anybody has a suggestion on how to fix that please zmail',\n",
              " 'i had this craving for nachos tonight i tried making up a recipe and i was worried it would turn out too strong while cooking it so i added a bit too much milk so i just ate it as a soup and it was hearty very tasty and somewhat low fat too hope you like it as much as i do',\n",
              " 'i was making tortilla pizza for supper had some ground turkey defrosted in the fridge for it had the whole wheat tortillas on the cookie sheet and put the sauce on then the spinach grated carrots diced red pepper and diced tomatoes  topped them with the grated cheese and popped it in the oven there we were eating and dh says my gowd this is good but i cant see the turkey on mine   ha ha   the ground turkey was still in the fridge completely forgot to cook and put it on and we didnt even miss it  very tasty accidental veggie pizza',\n",
              " 'chicken salad apples almonds',\n",
              " 'this is an americanized version of a popular indian dish  it is traditionally made with whole chicken parts and served with naan andor basmati rice',\n",
              " 'my grandma used to make this on a weekly basis to give to friends and relatives   this is a perfect accompaniment to grilledbarbecued chicken pork fish etc the list is endless',\n",
              " 'i just love the achiote seasoning found in the fish tacos in the yucatan so i decided to venture out and try to make the fish myself  success  very simple too  i suggest serving with a squeeze of lime a few slices of avocado and cilantro as a garnish  adapted from a ritz carlton recipe in which they use this sauce to marinate whole red snappers',\n",
              " 'adjust the cayenne if you like your biscuits less spicy biscuits can be reheated but are always best freshly made',\n",
              " 'a family favorite and a fond memory from my childhood',\n",
              " 'adapted from  fine cooking light this is a colorful summery side dish',\n",
              " 'these make a lovely breakfast treat or a great snack at any time of day you can alter them by filling them with cream cheese and raisins or my favourite chocolate mmmmadapted from a recipe from binnurs turkish cookbook preparation time does not the 2 hours for proofing',\n",
              " 'this recipe is a mealinone dish  i love acorn squash and was happy to find another way to use it in cooking  enjoy',\n",
              " 'if you like acorn squash this is a tasty recipe and one that smells great on the campfire i like it cause you can leave it and forget about it for 30 minutes at a time',\n",
              " 'im not a big fan of acorn squash but i really like this recipe from my motherinlaw',\n",
              " 'just got back from apple hill with some nice acorn squash decided to stuff them and this is what i came up with working with what we had on hand did have a little stuffing left after stuffing 2 smallish size squash',\n",
              " 'dad used to make this for us at thanksgiving the penultimate holiday treat  i could eat this all the time',\n",
              " 'some days i need a little inspiration i knew that i would be baking squash for our shabbat dinner tonight and i knew it would have some delicious dried cranberries in it i just wasnt entirely sure what form it would all takei looked around on the internet for a bit and saw this scrumptious looking recipe for a southern style baked acorn squash and was on my way well a hrefhttpwwwelanaspantrycomcookedveggiesacornsquashwithcranberryapplestuffing targetblankhere it isa',\n",
              " 'i didnt care for acorn squash until i tried this recipe',\n",
              " 'the flavors of this squash just scream fall to me i originally put this sauce on a small carnival squash but it went really well with acorn squash which serves a few more',\n",
              " 'this is the actual recipe of the mongolian beef at pf changsenjoy found on pf changs website httpwwwpfchangscomchefscornerrecipesglutenfreemongolianbeefrecipepdf',\n",
              " 'adapted from everyday with rachael ray august 2009  adam perry lang is the author of serious barbecue',\n",
              " 'from my celebrity recipe collection',\n",
              " 'i have not tried this recipe i got it from everyday health',\n",
              " 'my daughter got this recipe from a fellow army work friend we have adapted this recipe to what ever is in the fridge at the time it is a delicious flavour and the flavour changes all the time depending of what you feel like using at the time although this is for one we just increase the ingredients to the number of people coming to dinner this is an easy peasy laksa recipe',\n",
              " 'this is a lovely glazed carrotparsnip dish its a two step from stovetop to oven process you can sub turnips for the parsnips this is for the britishirish section of the tour',\n",
              " 'forget bland 1 minute oatmeal try this my own favourite start to the day and get addicted to the taste and the energy it provides i eat this serve on my own but most will want to share it my husband loves it when i omit the polenta and add chopped banana instead  he eats it as a dessert',\n",
              " 'this is kind of similar to some of the other versions out there but it is the best and easiest i have found',\n",
              " 'i found this recipe on a lowcarb site dh is doing a lowcarb diet i modified it some and dh says the name is very appropriate he craves this so i end up making it once or twice a week good thing it is easy',\n",
              " 'great flavor and so easy to make  its best to let it sit in the fridge overnight  the cayenne definitely adds some spice so use sparingly if you wish',\n",
              " 'one slice is worth a thousand words this is an amazingly moist carrot cake which i first tasted over 20 yrs ago at a cousins home she served this luscious cake and i didnt leave without the recipe try it  i think youll definately agree with meits the best',\n",
              " 'this is the best version ive tried from allrecipescom',\n",
              " 'this hearty recipe was provided by a coworker who is filipino  serve over sticky rice',\n",
              " 'wet adobo will keep 5 to 6 days in the refrigerator which gives you a chance to try it on anything you like from fish fillets and pork chops to turkey cutlets and steaks this is not shy or subtle but a very up in your face rub',\n",
              " 'there are many oven fry recipes but this combibation gives a tasty slightly crunchy fry i do not use any oil on the potatoes but the spices  cheese stick better if you do i will suggest spraying them in the recipe but it is not necessary holding the fries in the ice cold water until baking prevents them from discoloring i use a baking stone but a cookie sheet works too if you wish leave the skin on but scrub them well',\n",
              " 'this was for a girl guide cooking badge  it is my favourite  dill is a must for the right flavour',\n",
              " 'i got this recipe off the net and its a nice change from rum and coke ',\n",
              " 'thanks to the bevvie tag gang im having a ton of fun experimenting this one tastes kind of like an adult chocolate milk with a splash of coffee and a little kick from the vodka enjoy',\n",
              " 'this is a drink that my friend served at one of our euchre group nightsit was a big hit but they can sneek up on you as they go down so smooth',\n",
              " 'another one from cowboy cocktails',\n",
              " 'aduki beans are wonderful meaty tasting little japanese red beans this recipe is suitable for a vegan meal and is posted by a request canned beans can be used in place of the dried to save time prep time includes soaking beans overnight but cook time does not reflect cooking the beans before adding to soup',\n",
              " 'this is a thick stew like soup  very meaty tasing with little meat i got this from my boyfriends mom',\n",
              " 'these small red beans have a texture and flavor that approximates ground beef in my opinion but you could also use black beans or pinto beans in this recipe  cooking time includes soaking the beans overnight',\n",
              " 'this recipe comes from the 1973 cookbook scandinavian cooking',\n",
              " 'created for the rsc summer 2005 contest i must admit that if i hadnt needed the orzo to make up the 5th ingredient required for the contest i would have omitted it you can peel the eggplant if you want i dont bother but i do wash it',\n",
              " 'this is from cooking light zwt3',\n",
              " 'this is the easiest fancy dessert i have up my sleeve  since youre putting so little work into making such a fab dessert be sure to use the best espresso roast and vanilla ice cream you can',\n",
              " 'this is a recipe that is in the bbq bible by steven raichlen that he says despite the name this recipe comes from india not afghanistan  its the specialty of new delhis famous karim restaurant  note  make sure to allow 46 hours to strain yogurt and 46 hours to marinade the chicken',\n",
              " 'this recipe is from an afghan cookbook that came out in the 1990s  i think that the restaurant was in minnesota  their recipies were very good',\n",
              " 'a great combination of coconut rum melon  banana and pineapple',\n",
              " 'i tried to make palak paneer an indian dish but was short many ingredients so i decided to fashion the dish after an afghani dish id had',\n",
              " 'for zwt06needs overnight prep that is not included in prep time',\n",
              " 'peanuts are common in african cuisine taken from chef2chefnet and posted for zwt',\n",
              " 'before buffalo wings had even been dreamed of our african ancestors had their own type of hot flavors  and when you use those to flavor todays popular chicken wingslook out  now you can really ratchet up the heat by adding a bit more crushed red pepper to this  just be prepared for the extra zing',\n",
              " 'posting this for zwt 2006 i cant wait to try this one myself any excuse to make a curry dish and well if i have a good chutney i am obliged to make a curry arent i   p   this recipe assumes knowledge of safe canning practices',\n",
              " 'a good grilled chicken recipe',\n",
              " 'posting this for zwt 2006 this is my favorite hot sauce it is not for the faint of heart and even if you love the heat use it sparingly you can of course use milder peppers than i tend to use this is great as a condiment for practically anything a little bit stirred into almost anything is wonderful too',\n",
              " 'this is a great creamy amarula drink',\n",
              " 'a wonderful thick okra soup with bacon corn and tomatoes',\n",
              " 'simple refreshing and colourful salad from africa recipe comes from the vegetarian passport cookbook',\n",
              " 'this recipe comes from the moosewood restaurant it is a great dip for grilled roasted and deepfried vegetables as well as strips of roasted chicken great for parties and snacking it stores well up to 23 weeks in the fridge just reheat and serve',\n",
              " 'i ate this daily when i lived in bellingham washington at the colophon bookstore in fairhaven  its savory and a bit spicy not sweet like youd think',\n",
              " 'i got this recipe about 2 years ago in a magazine which i promptly misplaced    about a month ago i got it again in an email from cuisine at home    this time i promptly made it with mustard greens from my garden and took it to a potluck   all i brought home was an empty pot it was so good    ive adjusted the cayenne because some people found it to be a bit warm at 12 tsp although my dh and i enjoyed it as is',\n",
              " 'delicious sounding recipe that uses beef in place of elephant posted for zaar world tour ii',\n",
              " 'this is a spicy dish perfect for cold and rainy days because it really warms youcan also be turned into something indian by adding chickpeas potatoes and curry spices',\n",
              " 'goes surprisingly well with noodles',\n",
              " 'i found this on the web after searching for african recipes that included broccoli for the zaar world tour 2005 it was on the mommom website',\n",
              " 'this soup is absolutely delicious its habitforming so i strongly suggest to triple the recipe and freeze some this soup freezes excellent you can adjust all ingredients to taste slightly',\n",
              " 'toasting the spices in a skillet brings out their sweet flavors and hot flavors',\n",
              " 'a fun twist on your average shishkebab the recipe calls for the use of either lamb or beef i think it may also be good on chicken serve with rice enjoy note the timing does not include marinating',\n",
              " 'great recipe for the day after because all you have to do is assemble everything together and its done',\n",
              " 'desserts fruit oriental vegetarian asian while looking for something different to make for a party i came across this  i was surprised my the outcomethis does take time to make but i hope it is worth it for you',\n",
              " 'i had this at a church function and searched out the person who brought it so i could request the recipe  this is a fantastic recipe for using up leftover thanksgiving turkey  or if you dont have any leftovers its also very good with rotisserie chicken from the grocery store',\n",
              " 'a drink not too sweet  in this drink we can taste the vodka and triple sec  httpwwwdrinksmixercomdrink754html',\n",
              " 'another drambuie recipe  found on a traditional scottish recipe website',\n",
              " 'from gullah home cooking the daufuskie way i like crackling cornbread about 2 times a year this is one that i find good and simple',\n",
              " 'aghios fanourios or saint fanourios is a byzantine saint who is believed to have lived around the 4th century it is a greek orthodox custom to bake a cake in his honour on august 27th cut it in small pieces and to share iit with the rest of the church congregation who in turn will eat it and say may god forgive agios fanourios mother it is a delicious cake with no eggs or butter this recipe has been in my family for decades hope you like it ',\n",
              " 'this is so quick and easy and makes the most delicious light supper youll ever eat  please try it it really is stunning  ive adapted this recipe from australias better homes and gardens magazine but it is a traditional italian way of serving spaghetti  the quantities given serve 2 but just double them to serve 4',\n",
              " 'i know foodcom probably doesnt need yet another recipe for this classic  drink but this version from saveurs mexico issue seems to have the perfect proportion of sweettartand a hint of spiceso i want to go ahead and share it anywayenjoy',\n",
              " 'a very refreshing summer drink i like it because its not too sweet',\n",
              " 'a very refreshing drink for the summer',\n",
              " 'to my taste the grapefruit makes this more refreshing than plain limeadeit has way more flavorand its just as easy to makeeven if you dont like grapefruit you should try thisthe grapefruit doesnt overpoweryou really have to try thiscook time is chill timeoriginally from the practical encyclopedia of mexican cooking by jane milton',\n",
              " 'this soup looks delicious i found the recipe at wwwlaylitacomrecipes posted for zwt 2008',\n",
              " 'this is just to easy it is a sweetsour side dish from denmark posted for zwt06',\n",
              " 'this is an authentic costa rican dish that my girlfriends mother used to make us she just passed in october and we got this recipe just in time i thought i would put it out there for everyone to enjoy as much as we do',\n",
              " 'this is reportedly the recipe for the topping used on the famous aiken sc city billiards pool hall hot dogs with a minor adjustment made on my part regarding the amount of onions used original recipe states 4 medium onions its a sweet and tangy mixture i like it topped with lots of shredded extrasharp cheddar cheese ive made this with ground turkey and it tastes pretty fine too this makes enough topping for about 4 hot dogs',\n",
              " 'i used to work as a pastry chef and created this cheesecake from a plain pumpkin cheesecake recipe to make it a little more special this cheesecake will take some time and love  but the results are a beautiful and decadent pumpkin dessert that no one will forget make sure you have a good size baking pan or roasting pan that your springform pan can fit inside and a wide roll of heavy duty foil',\n",
              " 'this garlicladen mayo is a sauce for people who take to garlic use as a sauce or dip for a whole host of cooked and raw vegies greens hard cooked eggs and seafood as an appetizer spread for bread',\n",
              " 'i found this recipe on the back of my potato bag and they are so good  i used klamath pearl potatoes that i bought at trader joes but you could use any very small potatoes',\n",
              " 'pretzel crust giving this pie a salty crispness filled with a creamy rich chocolate flavored with coconut and tiny airy marshmallows floating throughout',\n",
              " 'a light salad  cook time is refrigeration time',\n",
              " 'ajiaco is a cuban stew consisting of different indiginous root vegetables it is incredibly tasty and nutritious a native dish that symbolizes who cubans are as a people and how diverse their ethnic backgrounds came to be formed according to famed cuban scholar fernando ortiz the amerindians gave us the maiz corn papapotato malanga arum boniatosweet potato yuca cassavaand ajipepper the spaniards added calabazapumpkin and nabo turnip while the chinese added spices the africans contributed nameyams he says that cubans are  a mestizajemixture of kitchens a mestisaje of races a mestisaje of cultures a dense broth of civilization that bubbles on the stove of the caribbean the cuban ajiaco retains the unique flavors of its diverse ingredients which enrich one another some ingredients may dissolve completely while others may remain more distinct yet all provide flavor to this hearty simmering stew which by its very nature is always in a state of flux the cuts of meat all have something in common aside from being cubanstylecut they are cheaper cuts as this is the dish of the common man i have used many sources to come up with this recipe for you from books published in 1925 to ones that i found on the internet also used a taste of cuba recipe by sonia martinez from el aserecomms ramona v abellas the cuban food fairy and srta maria antonieta reyes gavilan y moenks delicias del la mesa  manual de cocina y reposteria  all you need with this dish is some good cuban bread a french baguette or even foccaccia and some sliced fresh fruit if you arent too stuffed by this point cuban food is highly seasoned but never hot the ajiaco iswas made every saturdaybefore castroand was served as a noon meal which would have a longer lasting effect and in the evening they would have something light this is very good and appetizing hope you will enjoy',\n",
              " 'a spicy scrambled egg to spice up your breakfast',\n",
              " 'this classic arabian dish is saudi arabian in origin and is believed to originate from the nomadic bedouin tribes centuries ago arabic cuisine has its roots in tent cookery nomadic tribes could use only transportable foods such as rice and dates or their nomadic stock like sheep and camels in their recipes as the caravans journeyed throughout the middle east new seasonings and vegetables were discovered and added to the existing repertoire each new discovery was incorporated into the diet in quantities palatable to a particular tribe  a fact that many cooks believe is responsible for the anomalies found in some arabic dishes today you can use lamb or camel  in this dish but it is more usual to make it with chicken nowadaysi have a recipe posted on zaar for the kabsa spice mix needed in this recipe  recipe 290159',\n",
              " 'this recipe came from ',\n",
              " 'a popular party quickie  more flavorful when prepared the day ahead',\n",
              " 'add a little mexicana to your meal a wonderful way to use corn on the cob this recipe came from gourmet magazine',\n",
              " 'this recipe makes a very thick stew thats really good to eat on cold winter days ive been eating this stew since i was a very small child and its deelish it does take a while to make im estimating on the cook time but definitely worth it i like to serve cornbread with this stew',\n",
              " 'a wonderful friend makes this for her open houses and it is a fantastic queso type dip to serve with tortilla chips  just a touch of heat but not too spicy though if you like it spicy  just use hotter picante sauce  im a transplant and moved to alabama in the late 90s and ironically its named alabama dip  hope you enjoy',\n",
              " 'this is a simple recipe and most people have the needed ingredients on hand  it was in a cookbook mother gave me from the huntsville alabama pilot club years ago  i have made my changes to it over the years  hope you enjoy it',\n",
              " 'change it up at your next bbq  sauce with a clean fresh zing  saw this on food network and found the recipe on aboutcom   there are two others on zaar but this one is just a little different  the longer you can wait to use it the better but can be used right away',\n",
              " 'this sounds like an easy and tasty tamale dish',\n",
              " 'i saw these on the food network today and instantly looked for the recipe couldnt find it here so im posting it  courtesy of alan nowell as seen on paulas best dishes',\n",
              " 'from cooking light september 2002  allow an extra 30 minutes for the dough to chill',\n",
              " 'connies recipe from family collection this recipe is delicious on ritz crackers tortilla pinwheels or even a bagel',\n",
              " 'this recipe was included as part of a recipe for roast wild duck with red cabbage stuffing and cranberry dumplings in the collective cookbook cooking alaskan  it is from out of alaskas kitchens  a delicious and unusual addition to meals  if youre in a hurry you can also use wonton wrappers instead of making your own dough  see note below',\n",
              " 'this recipe is quick easy and elegant  it has become a favorite at our house especially when having guests  it is adapted from fast and flashy hors doevres',\n",
              " 'this recipe is based on julesongs recipe 7020 with some modifications and my addition of fresh alaskan blueberries',\n",
              " 'taken from the bonefish grill website  havent tried it yet but sounds so very good',\n",
              " 'another wonderful recipe adapted from the flavors of canada by anita stewart',\n",
              " 'a delicious italian classic often also made with peaches but i prefer it with apricots the apricots are filled with amaretti cookies amaretto sugar and egg yolk and baked in the oven with white wine they can be served warm or at room temperature and are delicious paired with vanilla ice cream or white chocolate mousse however i also love them on their own they were a big hit at a party i catered for however at the party i had far too much filling for the apricots maybe ive made a mistake when multiplying the recipe i will try it out again and make changes to the recipe if necessary',\n",
              " 'spanish tapas recipe this recipe offers an item first introduced by the moors into spain in the midfifteenth century and combined with the local spices that now is very popular on the tapas bar circuit',\n",
              " 'feeling chilled and miserable try this a recipe inspired by chrissy os ginger cordial',\n",
              " 'go back in time to your childhood but with an adult kick',\n",
              " 'this is by far the best homemade chocolate cake i have ever hadthanks vickie',\n",
              " 'sister in law came back from central america with a cookbook and this was something she made out of it can be made as hot n spicy or as mild as you preferstart off mild so that you can judge how much extra sambal you might want to add another time and can be made in advance and popped in the oven for dinner parties and is excellent served with a simple crisp salad and plain while rice enjoy',\n",
              " 'i love making this and putting different fillings etc in itsuch buns are extremely popular in asia',\n",
              " 'here is the story of this recipe in alexs own words but moms punctuation alex was playing on webkinz world and his mother went out shopping when she came back alex asked if she got the ingredients for a webkinz food she didnt  so thats why he invented something new',\n",
              " 'this is my absolute favourite and just a little different from all the others i have seen the whole wheat flour makes all the difference',\n",
              " 'white sauce enchiladas best recipe',\n",
              " 'this delicious version of lasagna is a real big hit with anyone i make it for  it makes a really special vegetarian dish for a dinner party  nobody ever complains about there being no meat  serve with a tossed salad and garlic bread  this also freezes well',\n",
              " 'looks simple and easy  my favorite kind of recipe',\n",
              " 'great tasting pasta dish and easy to throw together at the last minute',\n",
              " 'i downloaded this recipe off of toh and revamped it no chef was given for this recipe   i added more ravioli than 12 called for because it was too saucy for us  i used white brick cheese as that is all i had and it turned out great  dh loved the recipe the recipe called for 2 boneless but i cut mine into four small ones and then put the two chicken breasts close together with one slice of cheese over it  i am going to put 2 to 4 servings  the recipe called for 2 but i could not eat all of mine and dh finished my plate  dh does like to eat',\n",
              " 'recipe from the olive garden cookbook',\n",
              " 'to die for  i never cared for white pasta sauce until i tried this now im hooked  my youngest calls it white spaghetti and will eat it until she pops',\n",
              " 'this is an easy and fast dinner that has lots of flavor i like to use about 1 cup frozen corn kernels cooked and 1 cup ripe tomatoes chopped which i sprinkle on top along with the fresh parsley if using if i use the three cups i use whatever else i have on hand this makes a very attractive dish to serve please note the prep time is for the sauce it would vary depending on the veggies you were using',\n",
              " 'this is a quick and easy alfredo sauce and i always seem to have the ingredients on hand i dont claim it is authentic but it is tasty with the addition of garlic my picky son loves it',\n",
              " 'serve this over cooked noodles or on pizza see recipe 243518 for full batch recipe',\n",
              " nan,\n",
              " 'found in a recipe book from the algarve region of portugal',\n",
              " 'the fillings for bourek really are endless i love the traditional ground lamb  parsley the prawn  bechemel potato  cheesethe list goes on here i combined ground chicken with fresh coriander  a little preserved lemon for a delicious fried snack you can freeze these bourek easily  when you come to cook them allow to 12 thaw before deep frying you can also shallow fry them in a frying pan about 1 deep in sunflower or vegetable oil bourek are wonderful whenever but really they are a ramadan essential in any algerian household if you are new to making bourek  rolls here is a step by step in photos demo for you httpradiancerecipescomchinesespringrolls',\n",
              " 'this is the traditional bread of every home in algeria hence its name which transaltes into english as bread of the house every home has a different version  this particular recipe is from my lovely sister in law um youcef just a word of warning if you have never made this kind of bread before you will be shocked at how sticky  hard to work with the dough is unlike a regular bread when your dough is too sticky you may add more flour  here adding more flour or semolina will make things worseinstead add a little water  knead gently with your fingertips  water will always make the dough come together  away from your hands  the mixing bowl you can also knead the dough in a ka or similar mixer with a sturdy dough hook',\n",
              " 'this combination of dusky dates and tinted marzipan is a north african tradition worthy of a special occasion from cooking lightmay 2001',\n",
              " 'a very delicious low fat dessert great on a warm spring day',\n",
              " 'i usually make this after we have scrambled eggs for breakfast using the leftover scrambled eggs in the rice  for veggie lovers use the recipes two cups of rice but you can add another cup of rice if you like your fried rice morericeier',\n",
              " 'this is and adopted recipe original intro so good i love brownies and these always hit the spot i got this recipe from a very sweet lady named alice who got tired of me begging her for them',\n",
              " 'a non baked version of cheese cake that my mother used to make',\n",
              " 'another great recipe from my 5th grade teacherranch cook this is an old fashioned recipe that calls for lard which you can find in most baking isles at the store do not substitute because that gives it the crusts flaky texture it will remind you of grandmas',\n",
              " 'a favourite in stockbridge massachusetts',\n",
              " 'i found this posted on rawfoodtalkcom  the cumin and sea salt are very important in this recipe so make sure you have added enough of both of these to bring out the flavor of this soup  the original recipe called for almonds instead of cashews  this was so good i had two bowls',\n",
              " 'this came from mr foods quick and easy diabetic cooking',\n",
              " 'a great and simple chili recipe from mccormick  not unusual but i couldnt find this on the site already  easy to monitor your servings because the nutritionals are for a one cup serving',\n",
              " 'this used to be my favorite dessert it hasnt been made in years',\n",
              " nan,\n",
              " 'recipe from cathy logan in sparks nevada',\n",
              " 'this recipe requires a full day of cooking but the effort is worth it  my mom got this recipe over 50 years ago from an italian friend  the baking soda is the secret ingredient to making this recipe a success so dont eliminate it  when finished it can almost be eaten with a fork  i quadruple the recipe so i have some to freeze',\n",
              " 'you will find this recipe posted else where on the web under my real nameit is one of the best ways to grill burgers i ever came up with',\n",
              " 'in slow cooker the best cookbook ever by diane phillips',\n",
              " 'this one dish meal came from and old kraft magazine',\n",
              " 'by pat dolan',\n",
              " 'i like this recipe because it is a very adaptable one ingredients can be added or changed a bit to suit your own personal taste the recipe came from aboutcom website',\n",
              " 'from  food and drink magazine simple and handy will keep for at least six months in an airtight jar',\n",
              " 'this recipe was given to me by my great aunt the reason i say all purpose is because this is always a side dish at thanksgiving and easter and bbqs and on sandwiches etc etc it just goes well with a lot and if you love a sweet tasting cole slaw this is definately one to try the green bell pepper is a must for the unique taste i always have to double this recipe though for larger crowds',\n",
              " 'this basic crepe recipe can be used for all your dinner entree crepes it is great because you can wrap them in plastic wrap them in foil and freeze them for when you want to whip up a quick elegant dinner recipes for fillings will be posted separately',\n",
              " 'i originally concocted this recipe for a party i hostessed i used it on chicken thighs and legs but since then ive tried it beef and pork as well i also think it would be awesome on tuna steaks or shrimp ive also used pineapple coconut juice and its excellent  enough for 3 lbs meat of choice',\n",
              " 'this is my very own all purpose seasoning blend that i use on a daily basis will store on the counter up to 2 months will keep in the freezer for up to 12 months use anyplace you would use regular salt and pepper feel free to experiment with your favorite dried herbs and spices i also keep smaller batches just split a recipe on the counter with 1 strip of dried lemon and another with 1 strip of dried lime in it simply peel a strip of the zest and leave it on the counter overnight to dehydrate it i have yet another with dried mint in it',\n",
              " 'this recipe is easy to double or cut in half so its great for summer picnics or quiet dinners recipe is from simple  delicious',\n",
              " 'this is a easy fairly healthy and delicious bran muffinbread recipe i started with a recipe from the philadelphia orchestra cookbook and changed it little by little it was submitted originally by a lady from scotland i now use splenda brown sugar blend with this instead of regular brown sugar',\n",
              " 'this is another adaptation of mine this is much more filling than i originally thought',\n",
              " 'this spaghetti sauce freezes very well for later  i use standard quartsize ziplock bags and stack them in the freezer',\n",
              " 'this is a quick meal i make sometimes after work when its just me  nothing fancy or gormet just plain comfort food  i sometimes stir in a handful of grated cheddar or italian blend cheese at the end to give it a little extra cheesiness',\n",
              " 'this is an easy onepot spaghetti that goes great with a salad and garlic bread i got this recipe out of southern living magazine november 1998  our family loves this recipe because there is plenty of sauce  also when you add the uncooked spaghetti noodles to the pot and cook all the flavors really meld together  it is delicous',\n",
              " 'great allpurpose herbed butter to keep on hand for all kinds of uses serve with corn on the cob recipe 147254 or recipe 119749 top sizzling hot steaks chicken or fish butter hot cooked veggies buns and breads toasted or not cooking rice roasting potatoes hot cooked pasta adjust seasonings to taste',\n",
              " 'dont let the amount of ingredients scare you off this is a wonderful spice mix',\n",
              " 'this recipe is somewhat similar to my recipe 356853 however there is far less nutritional yeast in this mix  nutritional yeast is an aquired taste for some so this is a nice mild tasting vegan cheese sauce that can be served plain over veggies or with chips or spicedup accordingly ie cumin chili powder diced tomatoes  chillies vegan taco meatpossibilities are endless for the spices listed below feel free to use heaping teaspoons  the cashews can be soaked ahead of time to ensure that they puree smoothly but this is not necessary  i heated my cashews plus the water in a glass measuring cup for about 45 minutes in the microwave to soften them a bit',\n",
              " 'i like to use home made remedies where possible they are safe for the environment and a less expensive this one works a treat  i could not list soapy waterlol although you do need it for this recipethis recipe should not be ingested and keep away from childreni found this recipe from the abc',\n",
              " 'this reminds me of having chicken curry at home as a kid my mom had a special serving dish with compartments for all sorts of condiments for the curry ive tried to replicate those flavors here',\n",
              " 'avocado tomato thick bacon slices crumbled hardboiled egg wedges leafy lettuce gorgonzola am i forgetting anything i love cobb salad lets eat',\n",
              " 'adapted from a cake recipe  for those needs allergy free indulgence  the recipe can be adapted in many ways with cocoa powder to make a chocolate cupcake add chocolate chips add orange extract etc',\n",
              " 'allergies are sooooo annoying can i hear a amen but seriously as soon as spring comes around for me its terrible and the sneezing itchywatery eyes and asthma comes on strong i am literally allergic to almost everything under the sun grass weeds trees flowers etc luckily im not allergic to dogs that would be heartbreaking this year since being on a more natural journey i wanted to find a natural allergy relief well that and my allergy medicine ran out and i didnt want to buy more so i started looking for a natural solution there are more natural solutions than this but this is what i have tried so far and what works for me',\n",
              " 'a translucent goldenbrown crust allows the green of the avocado to be seen  the crispy exterior is a counterpoint to the unctuous interior  these are a signature dish for me and the one i most often get requests to make although my seafood and ricotta stuffed buckwheat pancakes run a close secondthese fritters came about ten years ago when i was shopping for a dinner i was making for a friend who is a ciatrained chef  i was in a vegetable market and saw these gorgeous avocados that i just knew would be ripe in the next two days  i tried to think of what i could do with them since a everyone serves cold avocado and b i really am not fond of guacamole  as i tried to think of what i could make with them that was hot the work fritters jumped into my head  having never made a fritter before i was a little surprised to have that thought but having never known when a vegetable was going to be ripe before i figured i was on a roll and decided to go for itto serve with my neverbeforetriedfritters i decided to make a crme frachelimecayenne dipping sauce  so i made fresh crme frache and used it as a base not only for this dip but for a tia maria sauce to go with the flourless chocolate cake i made for dessert another neverbefore made item but with the recipe from cooks illustrated it was the only thing i wasnt making up as i went alongthe result of the fritters was that i got to taste the test fritter then had to dive across the couch before the last one was devoured in order to have a secondthe one evolution in the recipe is the change from cayenne to chipotle in the dip  i like the smokiness and it gives a rough edge to something very smooth  i am all about contrast  feel free to use whatever chile or combination thereof that you like best  this dip is easy and stands on its own at a party for anything you want to dip into it  i have also made it with vegan sour cream with great resultsthe name alligator claws comes from an alternate name for the avocado the alligator pear as well as the fact that the wedges of avocado look like clawsfor those not familiar with the name alligator pear it derives from both the tough textured exterior  reminiscent of an alligators hide and the fact that you really cant eat one until it softens  just like a pearalligator claws are also a great name to call them if you have kids who either wont eat anything that sounds weird and you want to keep them to yourself or  if you want your kids to eat them  if you have kids wholl only eat things that will gross other people outif you are preparing these for kids and i recommend you do whatever name you choose to call them protect their palates and tone down the heat of the sauce  maybe skip the chiles altogether and put in just a hint of finely ground pepper white pepper wont look like black specks throughout the dip  im normally not that fussy but its something kids will noticeallow half an avocado per person  this is so rich that more is too muchnoteyou can easily cut the recipe in half all the batter is is a onetoone mix of flour  water someone has suggested trying tempura batter which comes in a mix at many supermarkets  i tend to be a fromscratch kind of guy  or do i just mean itchyenjoy text by michael david winter aka the poker roach',\n",
              " 'recipe from the 2003 texas gatorfest these sound tasty serving sizes and yield are estimated prep time includes 10 minutes stand time posted for zwt5',\n",
              " 'we got the inspiration for this cocktail from chef 526666s sauce recipe in recipe 373075 why not also enjoy the burgers to go with the drink posted with permission just one more reason we love zaar creativity ',\n",
              " 'i found this pie in an edition of bhg which i recieved during a cookbook swap here on zaar i really liked the flakey crust and the yummy filling',\n",
              " 'my nieces favourite pasta dish  wonderfully quick for a hungry little girl  not truly carbonara but close enough',\n",
              " 'this is a moist buttery apple cake  the dough is best made the night before put in the fridge and then filled and baked the next morning',\n",
              " 'this is from a vegetarian cookbook  which is probably out of print  called cooking for today simple vegetarian recipes published by whitecap books ive tried lots of different meat loaves and they all sucked  mostly i think bc they contain tofu i love tofu  but i dont think it belongs in meat loaf this roastloaf turned out really delicious i made it for a dinner party and everyone loved it  and they said it went good especially with the mushroom sauce im allergic to mushrooms and ate my slices with ketchup  it was still loverly ',\n",
              " 'this recipe combines with recipe 23840 posted separately',\n",
              " 'what better way to welcome spring than with this sweet strawberry bread yogurt makes this bread very moist and almond extract makes it sweetly delicious tint the icing pink if you wish for a pretty springy look',\n",
              " 'almonds are my favorite nut and this recipe explains why  from the almond board of california',\n",
              " 'great holiday candy recipe',\n",
              " 'addicting and nice to give as gifts at christmas in a decorative tin  im basically posting this as my own reference as i keep loosing the recipe',\n",
              " nan,\n",
              " 'nice alternative to the peanut variety',\n",
              " 'based on a recipe from jennifer cornbleets book raw food made easy jennifer says you can purchase raw almond butter at most natural food stores but homemade is more economical to make this you will need a onecup measure a food processor with an s blade and a rubber spatula',\n",
              " 'prize tested recipe 20000 winner i found this recipe in better homes and gardens magazine i have not tried this recipe but im posting it for safe keeping',\n",
              " 'this buttery and nutty chocolate confection was inspired by the nuts that fall from ohios famous buckeye trees come holiday time they are produced and consumed in mass quantities in the buckeye state as well as in neighboring states throughout the midwest note you may substitute peanut or cashew butter for almond butter omit almond extract if you use a substitution',\n",
              " 'its like peanut butter frosting but with almond butter instead  i suppose it would be good on cake but ive only eaten it on toast',\n",
              " 'soft healthful glutenfree cookies made with simple ingredients with a heavy richness from roasted almond butter lots of raisins and a bit of maple syrup they are my staple breaktime snack for work and freeze very well each cookie comes out to about 125 calories each',\n",
              " 'this is from the cookbook cappuccino espresso the book of beverages by christie and thomas katona',\n",
              " 'slightly dense intensely almond flavored cake',\n",
              " 'delicious crispy chicken nuggets breaded with crunchy almonds makes about 20 nuggets which should serve 23 as a main dish prep time includes time to marinate',\n",
              " 'this is a recipe for one of king arthur flours bestselling cookies  they are chewycrisp cookie with an intense almond flavor',\n",
              " 'a frozen nonalcoholic drink your family will enjoy for best results freeze fresh bananas ahead of time recipe from my daily moments website',\n",
              " 'this is the perfect choice for a elegant dinner party  this cake is being posted in honor of my friend annathe brew mistressi hope you all enjoy this delicious cake',\n",
              " 'yummy',\n",
              " 'more italian goodies  passive cook time is per cookie sheet  this makes a massive batch since they are normally made for weddings and other large events so you may want to make half a batch at a time as i do',\n",
              " 'this is great on spice cake carrot cake banana cake or top a chocolate cake this works nice on slightly warm cake so it is absorbed into the cake can be doubled if you want to frost a 2 layer cake',\n",
              " 'my mother used to make this for very special dairy meals i used to think that when i started cooking i would make this all the time but now i know my mother was right she always is this is so rich you should only eat it a few times a year you have been warned',\n",
              " 'this is my dads favorite pie its pretty easy to prepare if you dont feel like mixing a pie crustmaking your own you can buy a store bought one and just press the almonds into the crust it is extremely rich and yummy i dont even like cherries and i love this piecook time is chill timefor the crust i usually use recipe 51537 and just grind the almonds up and mix them in with the dry ingredients this has seemed to work really well for me',\n",
              " nan,\n",
              " 'this recipe is one i found on epicurious it is delicious i drizzled the sauce on the pork fingers rather than dipping them i hope you enjoy it here is the description that came with the recipesliced almonds add a delectable almostlikefriedchicken crunch to the breading for these tender pieces of pork we slice the pork thinly to keep the cooking time quick the resulting pork fingers are great dipped in this surprisingly simple delicious honey soy and mustard sauce',\n",
              " 'ready set cook  reynolds wrap contest entry  the best thing about using reynolds wrap foil is the easy clean up  these tilapia fillets are like a little gift packet  bursting with flavor',\n",
              " 'these crescents are easy to prepare and it looks as though you have spent the whole day in the kitchen found on odensecom',\n",
              " 'sweet and crunchy  and looks great on the plate too  a sweet ending to a moroccan meal  you can use butter in place of the oils but watch carefully to prevent burning  it will also alter the taste considerably',\n",
              " 'a christmas must these really need to be made with solo almond fillng not almond paste i made bought ways and the paste is no way as tender as made with the solo fillng httpwwwsolofoodscomcprodhtml',\n",
              " 'this is a basic cookie made with real whole foods   you can spice it up by subbing a different flavor extract   next time i am going to try adding a 14 cup of dark baking chocolate powder and maybe some coconut   i am excited about trying different variations',\n",
              " 'from a california almonds are in ad',\n",
              " 'we were eating some almond horns the other evening and we thought that they wouldnt be too difficult to make  well we were wrong however the instructions are long and convuluted but they are worth their while it is a macaroon type dough rolled in sliced almonds and it is delicious cooling time is 20 minutes',\n",
              " 'zwt7 pacific islands',\n",
              " 'what a great idea to make with a cake mix and it tastes like almond joys  simple recipe that looks like you slaved all day in the kitchen  serving size is estimated',\n",
              " 'if you like the candy bar you will love these cookies cooking time is per batch and yield depends on how large you make them',\n",
              " 'no candy thermometer needed for this quick to make chocolate fudge with pieces of almond joy candy bars stirred in will definitely satisfy your sweet tooth',\n",
              " 'almond joy candy bar fans will enjoy this warm delicious treat',\n",
              " 'yummy nutty hot chocolate',\n",
              " 'this is an african adaption of a dessert made of almonds coconut and rice recipe by chef keith famie',\n",
              " 'this is a simplified and much quicker way of making kulfi a traditional indian dessert  serve it now on the zaar world tour 2005 or make it for diwali festival of lights the most widely celebrated festival in india  this year diwali falls on 1 november i think  the recipe comes from a cutting i saved from the november 2001 sainsburys magazine  you can change the teaspoon of vanilla extract for 2 tablespoons of brandy if you wish  freezing time is included in the ccoking time',\n",
              " 'delicious and reasonably low cal i use splenda brown sugar instead of regular but otherwise keep to the recipe',\n",
              " 'this is a simple recipe that produces results everyone will rave about  easy enough to whip up for unexpected company  i also just made this with lemon zest lemon juice and a bit of ginger subtracting the almond extract and everyone loved it  ill post that recipe seperately',\n",
              " 'these little gems will melt in your mouth recipe is from family circle the dough must refrigerate for 2 hours not included in prep time',\n",
              " 'this is wonderful on cool nights  you could also substitute the almond syrup for a tsp of almond extract or you can use 15 ml of amaretto instead',\n",
              " 'making almond paste is so simple and to me it tastes fresher than any you can buy',\n",
              " 'marzipan cover cakes with it make biscuits with it roll it up in cookie dough make animals with it eat it with a spoon save any left over in the fridge in a glass bowl covered with cling film',\n",
              " 'this is a recipe that i found at a bed and breakfast its very tastygreat for guests',\n",
              " 'this recipe is very moist and tastes very good with warm milk or tea it started out as a williamssonoma recipe but i changed it to fit my taste',\n",
              " 'this is a milk pudding that is served in india at open houses or for dessert  to keep a skin from forming on the top of the pudding while it is cooling carefully place a piece of clear plastic wrap or waxed paper directly on the surface of the hot pudding  after the pudding has cooled remove the paper and spoon the pudding into dessert dishes  chilling time is not included in cooking or prep time',\n",
              " 'this is an interesting change of pace if you like working with yeast very light and delicious',\n",
              " 'this cake is a cover girlits picture was on the cover of better homes  gardens back in the 80s it is fairly easy to make and beautiful dessert i usually think of making it in the spring and summer but it would be delicious anytime i love it for entertaining because you can make it the day beforeassembling at the last minute prep time only includes time for cooling though',\n",
              " 'from my collection of recipes havent tried it yet',\n",
              " 'vegetarian cooking for dummies',\n",
              " 'this creamy rice pudding is yummy very easy to prepare and extremely versatile it can be served warm cool or chilled  by adding the seeds of 812 green cardamom pods in step 4 and substituting rose or kewra essence for the almond essence and entirely omitting the amaretto it takes on the flavor of kheer that wonderful indian rice dessert i use basmati or jasmine rice and grind it in my coffee grinder time does not include chilling',\n",
              " 'this recipe came from lynn scully rancho santa fe california via emerils holiday cookie show and its a show stopper',\n",
              " 'movie night treat from copykatcom',\n",
              " 'i love to have this delicious cookie at christmas if you can wait a couple days after baking before you eat them you will be rewarded with a much richer cookie very easy and not at all time consuming',\n",
              " 'posted for zwt',\n",
              " 'even tofu haters will be intrigued by these tasty crunchy little cubes',\n",
              " 'this recipe came from a book of wonderful recipes from a bunch of wonderful people all of which are diagnosed with scleroderma its called cooking up a storm for scleroderma i received it from my support group leader as a christmas gift thank you annie',\n",
              " 'this is a recipe i came up with on a whim while trying to find a way to use refrigerated prerolled pie crusts that i had on hand and didnt want to waste  although not as rich a dough as traditional rugelach these are delicious and they came out even better than i expected',\n",
              " 'this is from toh web site and starts with a brownie mix and you cant tell do yourself a favor and try it but dont use imitation almond extract use the real stuff',\n",
              " 'a great healthy salad adapted from  the almond board of california the recipe calls for julienned veggies but you can chop if you like',\n",
              " 'this really turns plainoldchicken into something interesting ive doubled this recipe and it works just as well goes great with some basmati rice and a green salad prep time includes marinating the chickens  use matzoh meal instead of breadcrumbs and this is perfect for passover',\n",
              " 'delicious chicken with a crisp almond crust add a simple tossed salad for a complete meal',\n",
              " 'i got this recipe last year from the atlanta journalconstitution it is by john kessler and by far the best toffee ive tried to make and i have tried others from the site i made this for christmas gifts and people just loved it for best results use quality ingrediants such as plugra butter and ghirardelli chocolate the original recipe calls for bittersweet chocolate but i prefer milk chocolate just a matter of preference also if you use roasted almonds instead of raw they may overcook',\n",
              " 'when i became a vegan i had to give up all of my favourite pastas so when i came upon this recipe i was pleasantly surprised it tastes pretty good i just want to say that all the amounts i give here are approximate i never follow the recipe exactly you might want to add less salt or lemon and add more peas or olive oil  and dont be intimidated by all of the steps its actually fairly quick and easy to make',\n",
              " 'really easy  vegan pudding  yummy',\n",
              " 'mmmm i love candy especially some that is home madeyoull also need to add some time for chilling',\n",
              " 'this is my version of the outbacks alice spring chicken cooking time is subjectivedoes not include marinating timei have used a mixture of blue and cheddar for this alsosource    shadows',\n",
              " 'while this recipe is good any time it is the first one requested when the fall apples ripen it was passed to me by a family member the recipe calls for an 8x8 deep baking pan family member uses a corning ware casserole dish for the baking which makes for a lovely dessert i often bake it in a pie plate and when cool slice and serve as you would pie using white sugar in the crumb crust has it so tasting like pastry quick and easy to make note  recently found this recipe from an old family cookbook is called  aunties old fashioned crumb cake  and calls for baking in a 425 oven for 40 to 50 minutes or until brown and crisp just made it and found baked at the higher temperature it very like an apple crisp  an absolutely delicious version of almost apple pie and another great apple dessert to serve family and friends  ovens vary  i used a slightly lower oven temp',\n",
              " '9 from cincinnati and suffers pangs of withdrawal his favorite is skyline personally when ive visited i preferred goldstar but thats heresy so dont tell nick   ive played around with the recipeits still not quite perfected but this is a version we enjoy the best thing is that it is open to interpretation best served over pasta and topped with shredded cheese',\n",
              " 'this starts with a pillsbury devils food cake mix and a lot of good stuff easy to make and luscious to eat',\n",
              " 'indian dish of rice and chicken from the food  wine website slightly altered',\n",
              " 'these taste exactly the same as the real thing',\n",
              " 'not technically an asian recipe its quick and very tasty',\n",
              " 'this is a super cake its both easy and fast to make  great for large get togethers',\n",
              " 'this is a copy cat recipe  dont remember where i got it from',\n",
              " 'i have been wanting this and i know the restaurant version has tons of fat ans calories in it so i came up with this recipe i think it is pretty close give it a try',\n",
              " 'great bread and its so simple to make    just takes some advance planning   note that the time to prepare includes risingfermenting time    the only special equipment needed is a large covered pot to bake the bread in  ive tried several methods to bake   both castiron and castaluminum 4 qt dutch ovens as well as used my romertopf clay baker and the results were magnificent   another great cooks illustrated recipe',\n",
              " 'as a young kid running the streets with my friends i remember going to the back door of the neighborhood tavern and begging the cooks for pierogies nothing tasted better than those pleaded for treats since i can no longer do that heres the next best thing hope you enjoy',\n",
              " 'next best to the original on our visit to the caribbean we brought home the best rum cake ive ever had in fact its the very best of all cakes ive ever had i then thought id send for some to be shipped to us and found the price to be 35 for the med size  i paid 18 on the island so my search for the recipe began you can not purchase tortuga rum anywhere except in the caribbean  whalers vanille rum should be a close match this next best copycat comes from newsgroup recfoodrecipes',\n",
              " 'very  tasty applesauce thats easy  why buy processed when you can make it  i often make this up and freeze in small containers to use up those apples that are just past their prime  this recipe has very little sugar in it and you can always use splenda instead if you like',\n",
              " 'from local newspaper simple and lowfat',\n",
              " 'a tropical treat an easy quick bread for any occasion',\n",
              " 'another greattasting recipe from touch of home best holiday recipes 2008 note make sure your candy thermometer is correct by testing it in boiling water  it should read 212 degrees f cooking time is an estimate only',\n",
              " 'i got this recipe when we lived in hawaii and making it brings back fond memories  you can easily leave off the bacon or change cheeses as desired',\n",
              " 'got this recipe from a woman my husband works with  these are soooo good  i cant eat just one so dont make them very often  but oh so addicting',\n",
              " 'i love this recipe because it uses really ripe bananas that you can catch on sale so it saves money and because splenda works well in it ive never tried the other national brands of artificial sweeteners so i cant comment on how theyll work you can also make this with regular sugar if you do omit the honey macadamias are very expensive but wonderful in this recipe pecans and walnuts work just as well use either or a mixture of the two for an extra kick try it for breakfast with a cup of hot tea or coffee this recipe yields 2 good size loaves so you can enjoy one now and freeze the other or pass it along to a friend',\n",
              " 'found this interesting take on sloppy joes in my kenny rogers cookbook',\n",
              " 'a friend found this is a pilsbury cookbook a few years back they can be assembled up to 2 hours ahead and refrigerated covered tightly i make these frequently for appetizers when we get together they are also an interesting addition to a brunch buffet',\n",
              " 'sailu says on her blog site aloo baingan is an easy to make dish from north india eggplant and potato make for a fantastic combo and when roasted together in a perfect combination of spices these vegetables are a match made in heaven  i havent tried this yet but as soon as i have the spices its first on my list',\n",
              " 'this is a delightfully sweet and tangy snack or side dish made with chickpeas and potatoes tamarind paste is readily available in indian grocery stores update based on a review  shallots can be substituted with mild onions and is meant to be raw this imparts a special crunchy flavor that is excellent in all indian chaat and some indian salads also remember that tamarind is a distinctive taste and if youre new to it start with less and go by taste experiment and enjoy',\n",
              " 'this is one of the favorite recipes of my mother and my husband it is nice combination with paratha or indian puree its very tasty and youll keep licking your finger i swear',\n",
              " 'this recipe is from a supermarket handout it is a common dish in the kitchens of northern india and normally served with paranthas it is good served as is or over rice',\n",
              " 'this is an altered version of recipe 39922 after all the changes i made i realized that this is a completely different recipe so i decided to post it i wanted to get the same taste that you would get with aloopsies or cabbage rolls and i think i was able to do that with this recipe i really like aloopsies but they are a lot of work and take time to makethis is a quick and simple way to get the same great taste without the all the time and effort',\n",
              " 'impressive and delicious appetizer that with a little prework assembles quickly just before guests arrive sure to impress with both flavor and presentation',\n",
              " 'a quick soup to throw together with items that you have on hand',\n",
              " 'wonderful goulash recipe another one of my moms',\n",
              " 'posted for zwt7 from a taste of switzerland by sue style times are approximate and do not include time for cooking the macaroni and potatoes',\n",
              " 'from cooking light posting for zwt3 try this on chicken or pork',\n",
              " 'easy little alsatian pizzas',\n",
              " 'this quick and easy to make recipe is from the bakery at the schloss hotel kronberg frankfurt germany',\n",
              " 'i ran out of confectioners sugar for my bundt cake so i improvised this recipe  i found that i used about half of the recipe fro 1 bundt cake',\n",
              " 'from the good eats episode this spuds for you i was looking for information on how long to bake potatoes in the oven and came across this basic recipe from alton brown perfect potatoes every time i wanted to include it here so i can add it to my cookbook',\n",
              " 'saw this episode and knew i had to make this cake ok maybe ill cheat here and there  alton made his own coconut milk coconut cream and coconut extract from scratch  plus he saved the coconut juice from the actual coconut to spray on top of the baked cakes  i havent made this yet  im posting to see nutrition info  this will be my birthday cake in a couple days and im seeing what tweaking less fat i can get away with  prep time is a guess',\n",
              " 'this is a good version of gyro meat i like to mix in a little ground beef with the lamb cooking times are approximate and include resting times there are a lot of steps but it is easier than it looks and the end result is worth it',\n",
              " 'i found this recipe on the internet submitted by caterer jennifer mcgavin  strudel is a traditional austrian pastry usually topped with whipped cream vanilla sauce or vanilla ice cream to make it a sweeter treat',\n",
              " 'phosphate aerator is often an ingredient in commercial baking powder and equates to additive 541 in some products ie sodium aluminum phosphate some reports estimate that commercial baking powder may be 711 aluminum now there are alfree products out there and these tend to use additive 450 sodium acid pyrophosphate but if you cant find these brands heres a homemade alternative use 2 tsp per cup of plain flour recipe originally in grassroots magazine',\n",
              " 'refreshing delicious  authentic shrimp ceviche with avocado  perfect side dish or appetizer for your next mexican meal  i picked up this recipe from my late mil and tweaked it a tad to please my boys  very easy to make it as mild or spicy as you like  you may also add some fish or just use faux crab meat if you are a vegetarian  great for cinco de mayo with a mexican fruit salad fish tacos and some coronas',\n",
              " 'like nanaimo bars butter tarts are a canadian treat and all recipes are very similar increase the corn syrup  they will be runnier increase the brown sugar  they will be less runny the cooking time will also affect the texture of the filling my daughter and granddaughter won second place in the butter tart contest at the good food festival in toronto and yes i am very proud of them  and yes the tarts are delicious my granddaughter came up with the recipe name based on the display platter they used for the contest you can leave out the raisins entirely or decrease the amount  try currants or pecans or walnuts or a mixture my grandchildren like them with chocolate chips  the choice is yours',\n",
              " 'i created this because i got a request for sandwich with no lettuce and no mayonnaise and that didnt mind being smashed a bit this sandwich is good meatless and or grilled add more or subtract the red pepper flakes based on your heat preference',\n",
              " 'this is a morroccan recipe for homemade almond butter  making it yourself lets you control the sodium and oil content  store in an airtight container for use in place of peanut butter for a change of pace',\n",
              " 'a hearty chunky hodgepodge of ingredients brought to the us by germanamericans',\n",
              " 'recipe made for volunteer teafall 2010',\n",
              " 'a wonderful crust for those sensitive to gluten from bobs red mill you can have your pie and eat it too  crust holds up very well after baking  specialty ingredients can be found at wwwbobsredmillcom',\n",
              " 'this muffin recipe is from bobs red mill and i would recommend this to anyone who would like to try amaranth flour in muffins i used coconut oil and also used currants instead of raisins this muffin is delicious and healthy great for breakfast',\n",
              " 'this cherry sundae is traditional treat that is served in german ice cream parlors during the summer the recipe makes enough for 24 ice cream sundaes 2 as a stand alone treat or 4 as dessert you could take out all the alcohol so the kids could have one too but what fun would that be',\n",
              " 'this is from emeril lagasses website  i needed some for a recipe and didnt have any so i tried this very quick and easy even had some left over for a sour  it was great and much cheaper',\n",
              " 'ahhhh amaretto found this breakfast recipe on the disaronno website sounds positively delicious and so romantic after all amaretto is the liquor of love',\n",
              " 'make your night of entertaining special',\n",
              " 'this pie is super quick and easy to put together  it also makes its own crust great for a last minute dessert',\n",
              " 'wonderful christmas gift idea flavored coffee creamer to go along with pretty coffee cups and your favorite coffee blend  adding the liquid extracts to the dry ingredients should not be worrisome with this helpful tip place dry ingredients in a jar sprinkle the wet ingredients over the dry close lid tightly and  shake well for about 2030 seconds include a card with instructions 12 tablespoons of creamer per mug and your gift is ready for giving this recipe was adapted from a cooking information and recipe website',\n",
              " 'cant say much but yum i always mess up rice pudding when i do it on the stove not only is this baked but the amaretto is such a great flavor twist',\n",
              " 'amaretto ice cream treat  quick  easy but delicious  if youd like you can add some half and half or some milk to each serving and make a nice milkshake  cooking time is freezing time',\n",
              " 'a really special breakfast for that special occasion   try irish cream instead of amaretto for a different flavor',\n",
              " 'micowave recipe that is really easy',\n",
              " 'from gourmet magazine march 1996 issue',\n",
              " 'these snowballs have become a tradition in my home theyre just a bit different and very easy to make',\n",
              " 'sweet potatoes amaretto and pecans make a wonderful flavor combination in this autumn side dish',\n",
              " 'from cooking lights 1990 annual cookbook can be spooned over angel food cake ice cream baked apples or ice milk',\n",
              " 'when our dd and sil came for a visit they introduced us to two mouthwatering recipes which they prepared as a birthday treat they prepared these fries along with marinated grilled steaks like the outback needless to say it was an absolutely delicious meal hope you enjoy this as much as we did',\n",
              " 'this recipe has a nice flavor that is not to spicy but still enhances the flavor of the steak i double the marinade and use half to brush on the steak while grilling cook time includes marinating time',\n",
              " 'i cant wait to try these',\n",
              " 'its hard to go wrong with amarula and very easy to make a variety of cocktails this is a shake i make for hot lazy days when i need a little pickme up made with amarula kahlua and cream if you enjoy the flavors of chocolate caramel and vanilla give this a try  im being modest in these measurements i like mine a tot stronger',\n",
              " 'a popular south african drink available in restaurants and bars everywhere  i sound like a commercial',\n",
              " 'this looks so good  from the gauteng province of south africa',\n",
              " 'cinnamon and sugar how can you go wrong   well maybe by eating the whole batch yourself the stirring gets tiring but its worth it in the end   we make these every time we have partys or people over',\n",
              " 'i made this up from a bunch or recipes  it is wonderful served with rice pilaf or noodlesthe meat is so tenderfalls off the bonetime does not include natural steam cooling time',\n",
              " 'i got this recipe from my cousin who took an online cooking class i tried it our for my roommates and we all totally loved it',\n",
              " 'this recipe is amazing i created it myself and this way you can get hot authentic cider using real apples plus you only use real apples and only one pan is needed i hope you enjoy',\n",
              " 'a friend of mine gave me this recipe several years ago after she brought this wonderful dish for a potluck when i made it at home my mother was so impressed she called my aunt to tell her about the recipe well we were surprised to learn that my aunt already had the recipe and has used it for years she got it off of a bag of martha white flour the original recipe calls for 2 cups of sugar but we like it best with 1 12 cups this isnt as hard to make as it soundspromise ',\n",
              " 'wow doesnt taste light but a 12 serving slice is only about 130 calories great for chocolate craving fix',\n",
              " 'a nofail buttery flakey crust topped with the most delicious butter tartlike filling  these take little time to make and are so delicious  please make the crust only on a food processor it will not have the same texture if mixed by hand  servings are only estimated it depends on what size you cut the squares ',\n",
              " 'these onion rings are perfectly coated by the batter not overly thick batter that hides the taste of the onions  i prefer to slice regular onions thin so that the result is a fine crisp onion ring  i challenge you to try this one out on friends using your favorite recipe  i think it is fantastic and hope you will too',\n",
              " 'i needed something for my ham tonight this is zesty sweet  oh so good and it really doesnt get any easier developed for rsc 10 this is suitable for a 57lb ham',\n",
              " 'i saw a few recipes and tried to combine some of them with new additions these are really yummy i love meatballs and this is the best one i have tasted so far',\n",
              " 'this is a great light pancake recipe i recently adjusted the flour in this recipe at the reviewers suggestion it is really important to use whole wheat pastry flour in these i cannot stress that enough it makes them so tender and fluffy i like bobs red mill i adapted this recipe from one on the bobs red mill bag if you want to make this lighter you can leave out the oil and use 14 cup egg whites instead of whole egg this recipe is also high in fiber and you can use nonfat greek yogurt in place of regular yogurt to bring up the protein content as well sometimes i also add a few spoons of milled flax to add omega 3s another option i enjoy is to make these a little sweet by adding in a couple packets of splenda or stevia and a teaspoon of vanillaenjoy this healthy and very delicious recipe it is also great with a little warm maple syrup',\n",
              " 'this recipe is from a cookbook called oldfashioned christmas cookiesit is amazing  the cookies have a wonderful soft cakelike consistency and the cream cheese frosting adds a nice touch of richness  i love making these during the holidays and they always receive rave reviews',\n",
              " 'i have been making this recipe for since 2006 i got it out of a magazine and i wish i could remember the magazine because if all their recipes are this good i would make them my all time recipes',\n",
              " 'this is a recipe that i have been working onperfecting for some time inspired by the rack of lamb at outback i found a seasoning recipe online a few years ago that was similar to mine the most laborious part is mixing the seasonings the seasoning is incredible great for any meat really the cabernet sauce is a variation the outback one and is great too i served this recently with mashed red potatoes sometimes ill do 1 teaspoon kosher salt and 12 teaspoon granulated salt to make the saltiness more uniform',\n",
              " 'this is a swedish cake recipe i got it from a dear friend who made it at several parties during college and always got rave reviews now im the one who gets all the credit when i make it   my family loves it i play the guessthesecretingredient game the vinegar and no one ever has though theyve guessed everything from peanut butter to cheese i love it because its relatively healthy no dairy no eggs lowfat while its still amazingly moist and chocolaty and dense you can make it even lower fat if you use only 14 c oil and sub 12 c applesauce',\n",
              " 'be sure to make lots of this dip cause it will not last long',\n",
              " 'this is the best stuffing ever even my picky inlaws love it this recipe takes some planning but all of the prep work can be done well ahead of time i make the bread then combine all the ingredients except broth then freeze it in a foil baking dish next i freeze the broth in muffin tins and when its solid i toss it on top of the frozen stuffing come the holidays i pop the whole thing straight from the freezer into the oven prep time does not include baking the bread',\n",
              " 'these are wonderful my cousin brought them as an appetizer for thanksgiving dinner one year and i got the recipe i make them for work parties and even quick snacks at home you can always make more or less by using more or less cream cheese and crescent rolls trust me these are excellent',\n",
              " 'this is the easiest way to make a quick twocrust pie crust forget measurements and pastry blenders whatever amount of flour you need you then take half that amount for your lardmargarine amount motto half as much fat as flour do as the english do and use half lard and half butter for the shortening',\n",
              " 'due to health concerns about raw eggs ive forgone eggnog for a number of years  until i came across this recipe  the mixture is cooked so no danger from raw eggs  its delicious  i usually keep some separate without rum for either kids or those who prefer no alcohol',\n",
              " 'this is the juciest best flavored roasted chicken i have ever made or ever eaten i have been experiementing and it has turned out with the exact same wonderful results 3 times in a row now so im confident that anyone can make this with the same results never again will i purchase a precooked rotisserie chicken its so easy too',\n",
              " 'a yummy classic sweet peach iced tea this tasty cool refreshing treat is sure to quench any thirst filled with a fresh peach taste that will remind of you a lazy summer day long after summers pastto servedip the rim of a tall ice tea glass with peach syrup then dip in granulated sugar top it off with a peach slice affixed to the rim and some ice cubes and enjoy',\n",
              " 'i rallied my favorite recipes and taste buds to create this creamy flavorpacked dressing makes me want to eat salad forever ',\n",
              " 'i love this cakeso easy and so good perfect for when you want something sweet but not too rich',\n",
              " 'this recipe was originally made into a 9 pie but i sometimes enjoy the simplicity of using it as a pudding the junket brand danish dessert also comes in a raspberry flavor if you can find it on the grocery shelf preparation time does not include time needed to chill',\n",
              " 'uses fatfree evaporated milk instead of condensed milk or sour cream  this has always turned out well for us  from the carnation milk recipe site  time includes 30 minutes of chilling time  they called for fruit cocktail but i really prefer using the tropical fruit instead',\n",
              " 'this is from taste of home with the holidays coming up i thought this sounded good enjoy note cooking time is chilling time',\n",
              " 'yummy crusty cheesy goodness from americas test kitchen  garlicky but not overpowering  using a small cheese grater or zester to grate the garlic cloves will give a better texture  better than storebought',\n",
              " 'this recipe was published in the july 1980 issue of family circle magazine',\n",
              " 'i got this from a recipe site called wwwlaguna2001com',\n",
              " 'yummy egg and pototoes and ham dish',\n",
              " 'easy quick meal that the kids love',\n",
              " nan,\n",
              " 'a classic coffee house drink in north america',\n",
              " 'kind of a cookie or is it cake the size of an open finger spread hand best if glazed in black and white chocolate and vanilla a treat we got as children when we were very very good',\n",
              " 'i found this in a september 1981 issue of bob appetit in an advertisement for kraft cheese it has all the right ingredients for a tasty quick and kidfriendly meal you could top it with a dollop of sour cream or guacamole for an even tastier treat',\n",
              " 'i enjoy making simple amish dishes and have been making this for years at thanksgiving',\n",
              " 'when i visited amish country in penn i fell in love with the fried chicken they made here is one of their recipes very tasty',\n",
              " 'an amish recipe im putting here to try later',\n",
              " 'lol you might notice a lot of these recipes that im posting serve a lot of people its because i have a huge family ',\n",
              " 'oh yes this is a good hearty filling soup you wont need much else when serving this dish',\n",
              " 'amish friendship bread is a great bread for those special occasions when youve made your bread you can give your friends a sample and the starter that came from the original batter that helped to make the sample bread then your friends can make their own and pass it along to their  friends this is why the bread is called friendship bread its time consuming but its worth itamish friendship bread is a starter bread if you know someone with a starter you are in luck for those of you without access to a starter i have placed the directions for the starter in step one  when passing the recipe on be sure they realize that part of step one is not day one for them  or you may want to eliminate the part of step one that does not pertain to them when passing on your starters',\n",
              " 'a simple and rustic coffee cake from the amish',\n",
              " nan,\n",
              " 'many recipes have been posted for the amish bread but none have included the starter so i thought id send this along  happy baking  amish friendship bread and starter',\n",
              " 'this recipe uses the amish friendship starter see recipe posted by kim d amish friendship starter recipe 64793 it is the exact one i use after 5 years of using this starter and  making breads i have created several versions of the bread this is the family favorite please note you can make your starter and if you do not make bread that day or do not want to give any away measure out 1 14 cups and put in zippy lock freezer bags write the date on bag and freeze for up to 6 mos i put the 14 cup in to count for the stuff that never seems to get out of the bag to use take required amount out of freezer and place in fridge to thaw for 48 hours when completely thawed just use as normal with no feeding to use frozen starter to create a new series of starter thaw on cabinet place in plastic or glass jar and feed it with 1 cup sugar 1 cup flour and 1 cup milk count that as day 1one thing i have noticed  some people put the starter in the refrigerator it works but leaving it out at room temp is fine and when this recipe was created people did not have that luxury the starter i am using today has been on the cabinet for over 3 years everyone here is just fine  healthy  trust the old people we know things',\n",
              " 'this makes a most delightful lemon pie',\n",
              " 'this is a nice breakfast alternative to regular oatmeal  it is versatile and tasty  i eat mine with milk like cereal  others like to top it with brown sugar or fruit  i got this recipe from my boyfriends mom about a year ago and have been busy making and eating it and forgetting to post it ever since  i did reduce the sugar and change it to brown sugar  we love the results',\n",
              " 'this is a great way to fry that chicken without all of the splatter on top of the stove a good recipe and i think it is good cold too',\n",
              " 'from an old handwritten card  this recipe originally called for fresh ice cream straight out of the ice cream churn i took this to be at that time when the ice cream is still soft before you set it in the freezer to harden  anyway if you want to follow the recipe as written substitute homemade ice cream in here and use it straight from the churn  cooking time is freezing time',\n",
              " 'these take a little workbut are well worth iti sometimes use frozen rhubarb for this in the winter',\n",
              " 'these beans are so good the bacon and tomato give a lot of flavor and color the beans',\n",
              " 'found this recipe in my mothers recipe box  i dont remember her ever making it but i have and it makes gorgeous bread  starter takes 10 days to ferment but after this you can make bread anytime you want traditionally starter is given to friends and family in 1 cup increments after the 10 days  you can also freeze 1 cup in zip lock bags for future use  i know it sounds like a lot of sweetener but the yeast needs this sugar to feed itself bread will not be sweet  starter can be used for many other breads such as doughnuts cinnamon buns etc  follow recipe using 1 pkg yeast and 1 cup of starter  prep time doesnt count 10 days to prepare starter nutrition information is for total ingredients so wont be accurate',\n",
              " 'this pie does not have very many ingredients in it but it is ohhh so good i dont know why its called tears on your pillow pie funny name but great pie',\n",
              " 'my mennonite grandmothers recipe for meadow tea  keeps well all winter long yummy enjoy',\n",
              " 'a quick deliciously moist ',\n",
              " 'a drink from finland posted for zwt6',\n",
              " 'the sweet and sour sauce works well with beef or pork ribs or roasts the original recipe was intended for grilling but it works equally well under a broiler',\n",
              " 'the original recipe came from my aunt debbie and it used ham  i use canned chicken for convenience but you could use any leftover cooked chicken  the french fried onions are what makes you go back for another bowl use more or less to suit your taste use whole wheat noodles to make it a lil healthier  i also like to coat my casserole dish with cooking spray to make clean up easier  this is a great dish for potlucks too',\n",
              " 'i learned to make this when i lived in santa cruz  it was a breakfast staple in my house for a long time  i know chillequilles is something completely different but this is what we called it  i like to add hot sauce and black olives to this as well',\n",
              " 'just delicious',\n",
              " 'created this for a backyard cookout one night at mom and pops house with the neighbors  i call it slaw because its texture and consistency is like a slaw but the ingredients are not  i am a total dill pickle freak as my mother is not  i can drink the juice if left alone with the empty jar long enough  we were pleasantly surprised with the outcome of the taste  just like with any slaw recipe you will need to adjust the mayo please use only mayo it does make a difference to how saucy you like it  we like ours pretty saucy  also the amounts of the ingredients are at your own taste',\n",
              " 'my friend gave me this recipe  i have been making it for years  it is my favorite  you will notice a spice not normally found in lasagna  the left overs are ever good  i always use the kind of noodles you dont have to precook makes life a lot easier  i also usually sprinkle some italian seasoning on top for color not really for seasoning  you can also sprinkle some parmesan cheese on top of last layer of mozzarella cheese  i guessed on the prep time',\n",
              " 'i found this recipe online a long time ago and have tweeked it over time to perfection low calorie low fat tasty muffins these freeze very well also we eat them for breakfast everyday i double the recipe and freeze and then put them in the microwave for about 30 seconds i also use 5050 flour instead of 2 different ones',\n",
              " 'this will hit the spot for all you chocoholics  the recipe comes from amy grant and i found it on the internet',\n",
              " 'i watched emerils tribute to the folks cleaning up new orleans and their restaurants and they started talking about the poboy sammies  i love panfried oysters and thought hey why not  i came up with the creole mayo by just throwing a few typical creole ingredients together  i think that even this poboy would impress mr lagasse',\n",
              " 'i like to zap the onion in the microwave with a bit of butter for a couple of minutes just to soften it up a bit but this is optional',\n",
              " 'i dont usually have a lot of time to make myself lunch or dinner but i still like to eat good things so i made up this recipe',\n",
              " 'i love this marinade  i marinated fajita steak strips for less than an hour and it was still very flavorful  ancho chile power is mild so dont be afraid  oh i cant say it enoughseason meat with salt before cooking',\n",
              " 'for those of you who love anchovies here is a quick and easy spread my grandfather and uncle used to make this spread can be made with the rolled anchovies with capers too this spread goes well with unsalted crackers and your choice of ice cold beer',\n",
              " 'this is from the australian magazine new idea  by their calculations this comes in at just 395 per serve',\n",
              " 'from the australian womens weekly tapas mezze antipasto and other bites  as i am not a fan of anchovy and even though i dont think you would notice the flavour in a tapenade they are not something i ever have in the pantry so this quick and easy tapenade is perfect for me to whip up',\n",
              " 'greek chef and restaurateur theodore kyriakou widely considered to be the finest greek chef in britain says of this recipe this dish is best made with the strongly flavoured salted anchovy fillets be sure to rinse them well but the anchovies from tins or jars will do as well  you can either use a food processor or pound everything with a pestle and mortar  this paste will keep for several weeks in the fridge and is served on biscuits or bread  this recipe is from his book real greek food which he coauthored with food writer charles campion  its obviously a recipe for those who love anchovies  im posting it here for the 2005 zaar world tour',\n",
              " 'when the romans invaded greece their eating habits changed drastically  the greeks were better bakers  the greek slaves taught the romans to use several different flours in a single loaf instead of one common flour as they did in rome',\n",
              " 'the beet is one of the most nutritious vegetables a good source of vitamin c k folate and magnesium paired with carrots and celery its a good cancer preventitive also good for the unrinary tract and ulcers',\n",
              " 'have you got the andaljucian crunch bug you will after tucking into this perfect for a predinner nibble or casual snack',\n",
              " 'delicious great party soup and a good way to use leftovers  this makes a huge batch  i use chicken stock from concentrate minors or better than bouillon which have a good flavor and take up less cupboard space than cans or cartons of readytouse stock  from sunset magazine 1976',\n",
              " 'this came from the los angeles times via liz at recipegoldminecom it was a stove top soup but the closest ive yet found to andersons which is a tradition in california i modified it just a bit for the crock pot and made it a hair thicker to suit our tastes you can also add bacon ham or ham hocks to enhance the flavor a bit',\n",
              " 'this recipe is from week seven of my food blog travel by stove i am attempting to cook one meal from every country on earth and andorra is my seventh stop this onepot dish is called the national dish of andorra its very rich and fatty so serve it with a lot of bread',\n",
              " 'andorra is a small country sandwiched between france and spain so their food is influenced by both this is a good breakfast lunch or dinner recipe that will leave you feeling satisfied this recipe mostly french inspired',\n",
              " 'this is a spicy and creamy sauce that whips up in a flash  this is a perfect way to use up precooked sausage left over from your last barbecue',\n",
              " 'from andreas viestad a lovely slightly sweet onion soup  prep time includes cooking time because you do have to stir now and then while the onions saute',\n",
              " 'a crepe fit for a king that my uncle used to make for me that i would now liketo share with all of you',\n",
              " 'yet another from nigella lawsons feast cookbook awesome book  this is a recipe from a little deli in fairfield connecticut called the pantry   nigella notes that she makes a chocolate peanut butter version by using 2 cups raw peanuts in place of the almonds and adding 14 cup good quality cocoa powder along with the oats and omitting the raisins',\n",
              " 'honey is the best blood enricher by raising corpuscle content the darker the honey like buckwheat the more minerals it containsdisclaimer statements contained herein have not been evaluated by the food and drug administration this recipe is not intended to diagnose treat and cure or prevent disease personally i make these home remedies that i researched i believed in it and hope you give it a try',\n",
              " 'beautiful pizza base soft and tasty really easy to make i have made many to perfect this recipeyou may not need it to sit for an hour i mainly do as i like to make it ahead of time makes 4 good size pizzas',\n",
              " 'these are so so beautiful',\n",
              " 'very tasty recipe great for when guests come easy and flavorful',\n",
              " 'from the 1961 lutheran favorites of st james lutheran church howard lake minnesota submitted by mrs albert stuevens and mrs don horsch',\n",
              " 'this cake is from the famous roses resaturant and bakery in portland or the woman who opened roses came to america from russia as a young woman and used to bake in her very own kitchen then transport the baked goods to her small bakery every morning she eventually expanded to a few resturantsbakery sadly i think she passed and the restaurants eventually closed back in the 80s she made 2 cookbooksthis is the description of the cake follow these instructions exactly the result will delight you the recipe is worth the price of this book also there is a chocolate version with a marshmallow icing that i will also post seperately that we serve  every birthday',\n",
              " 'i got this recipe from a coworker and i believe it may have come from weight watchers not sure it is a delicious dessert which can be made with low fat ingredients',\n",
              " 'it looks as good as it tastes',\n",
              " 'this is from a publix sales flyer i made it for breakfast i know i am weird and it was so easy to make and so delicious try it for yourself perhaps for dinner uses supermarket items',\n",
              " 'my family makes it ',\n",
              " 'this is quick you may also substitute chicken breast cubes for the fish either way it is delicious you can also use canned broth edamame is soy beans',\n",
              " 'so easy and delicious  they will want seconds',\n",
              " 'this came from a store ad a while back for their new sea food department i cut it out and tried it and its definitely a keeper great flavorif you want compliments make this for dinner',\n",
              " 'a delicious pasta dish ideal to make with all of that zucchini you have',\n",
              " 'simple yet delicious this pasta is good anytime of the year',\n",
              " 'from taste of home submitted by susan davidson i altered some of the steps tried and true my family loves it easy to prepare easy cleanup refreshing change from the same old pasta dishes',\n",
              " 'this a simple and lovely dessert',\n",
              " 'oh yesrefreshingly yum',\n",
              " 'just like moms meatloaf with a nice tangy saucey topping  give it a try with some mashed potatoes or mac and cheese',\n",
              " 'whenever i prepare dinner for a friend new baby death in family etc i always include this yummy pie along with a carton of cool whip its the perfect ending to any meal prep time does not include chilling',\n",
              " 'this is a very refreshing nice summer dessert very simple to prepare you can use any pie filling that you wish but we like lemon the bestit makes a nice contrast with the sweetness of the cream cheese mixture',\n",
              " 'this is definitely a favorite of mine unlike bottled dressings it enhances the salad instead of overpowering it a simple blend of oil white wine vinegar and ingredients most people have on hand this is absolutely delicious on every tossed salad ive tried it on and its a lot less expensive than bottled dressing',\n",
              " 'no bake peanut butter cookies',\n",
              " 'this is a doubleduty sauce  it also does a stellar job as a basting sauce for a roasted whole bird',\n",
              " 'this recipe boasts the caribbean anguilla island pleasurable pineapple chunks and delicate steak covered with a marinade of molasses and vinegarposted for zwt3 07 cooking time does not include marinating time',\n",
              " 'in honor of the caribbean island of the month here is a great taste of de islands  this makes much more barbecue sauce than you need for a single chicken it keeps well in the refrigerator adapted from the cookin  grillin',\n",
              " 'iceberglike pieces of ice cream melt quickly to mellow steaminghot coffee mimic the idea for kids by using hot chocolate instead of coffee this is for those who enjoy the flavor of anise',\n",
              " 'this is posted for the zwt 2006  i have not tried this recipe it is compliments of allrecipescom by ruben jerez',\n",
              " 'this tea is commonly used in mid east and puerto rico especially for upset tummies and it is commonly given to colicky babies if you like anise try this tea and you will be pleased that it makes a nice light tea',\n",
              " 'this is what homecooking is all about heavenly   this is one of my most requested recipes for family gettogethers',\n",
              " 'this salad is fabulous',\n",
              " 'i found this recipe in a newspaper many years ago and i believe that it is an african dish if my memory is correct although dont quote me on itthis takes a little while to make but its very delicious and worth theeffort   the flavors are unique and wonderful',\n",
              " 'a from scratch homemade ranch recipe so yummy',\n",
              " 'we all loved this growing up  it was the one thing mom could make that didnt get even one complaint from any of us five kids',\n",
              " 'got this from a woman who worked with me ages ago  the garlic gives it a nice bouquet and aroma',\n",
              " 'adapted over the years for my familys taste original recipe calls for 8 oz tomato sauce instead of chili sauce over the top if you dont like sauce on top of your meatloaf then leave it off this is an old recipe written long before msg accent was determined to be evil use at your own risk',\n",
              " 'found on facebook want to try',\n",
              " 'an old family recipe',\n",
              " 'this stew is great when you have errands to run go shopping go skiing the original name was anns skier stewwhatever great with crusty hot french bread or sourdough bread',\n",
              " 'this is my version of the sheds famous posole  if you cant make it to santa fe try this on a cold night  if you can get new mexicos red chile flakesthats the way you want to go  if not i believe mccormick makes the red chile flakesdont forget the warm corn tortillas',\n",
              " 'everyone calls my daughter anna banana and she happens to adore bananas i made this cake in the shape of a heart i wrote happy birthday in bright yellow on the chocolate fudge icing and made little perfect marzipan bananas for decorations',\n",
              " 'from canadian chef anna olson posted for zwt4',\n",
              " 'these hashbrowns are really good they were originally made with mashed potatoes but i experimented with the recipe and came up with these you can add whatever seasonings you like or prefer these are really tasty with eggs for breakfast this recipe is also a doubled recipe',\n",
              " 'no tomatoes no condensed soup authentic all the way this is my ultimate comfort food',\n",
              " 'this recipe is from the anne of green gables cookbook by kate macdonald ',\n",
              " 'one of our reentry students at orange coast college has brought this recipe in to share with other students for the last two years everyone loves it since this takes so long to cook i usually make 46 at the same time',\n",
              " 'this dressing spruces up a fruit salad for a special occasion or an ordinary brunch my family always requests i bring this to our gatherings along with a platter of fruit i choose melons bananas pineapple  assorted berries',\n",
              " 'posted on scdrecipecom a collection of recipes intended to help people with inflammatory bowel disease ibs crohns colitis diverticulitis sibo autism andor adhd all recipes adhere to the specific carbohydrate diet as described in elaine gottschalls book breaking the vicious cycle',\n",
              " 'i found this recipe in the australian womens weekly i thought it sounded great as it contains ingredients i always have on hand i even made this for my toddler dd without the nuts and she gobbled it up its really simple  tasty',\n",
              " 'this is a classic and basic soup thats absolutely delicious i dont know that it really cures what ails you but it sure makes you feel better',\n",
              " 'i was too lazy to make a stuffed chicken breast so came up with this i just started adding ingredients on hand any thing will go in the middle',\n",
              " 'a soup from the stone age my greatgrandmothers were making this one but have to admit those grandmas could make anything worthwhile',\n",
              " 'posting in reply to recipe request taken from jean pares appetizer book',\n",
              " 'delicioustastes like a cross between a cobbler and a danish',\n",
              " 'this recipe comes from the kraft food and family magazine  simple and easy to make and great for using  vanilla wafers orange flavor gelatin and cool whip along with fresh peaches  great to have on a warm summer day for those special family get together cookoutscooking time is the chilling time',\n",
              " 'this is not like any of the other ones on the site i have no idea where the ',\n",
              " 'i got this from a magazine but cannot remember which  i consider this a company dish i made a double batch of the pecans after mixing in the 12 cup pecans the recipe calls for i gave it a taste test  i sprinkled a little more in guess thats a preferance for the individual cook to decide i also made a double batch of the orange juicehoney mixture so i would make sure i had enough i also sprayed the bake dish with vegetable cooking spray  i didnt check the prep time so am guessing i am thinking that adding maybe 12 cup chopped dried cranberries would be good alsotoni in colorado',\n",
              " 'i have a few meatball recipes that i make according to mood however none of them seem to call for only 1 pound of ground beef which is all that i had  i needed to improvise a bit so i came up with this recipe which turned out very nice  luckily i had a batch of homemade marinara sauce in the freezer which was the perfect sauce to simmer them in  once finished they freeze very well',\n",
              " 'heres a recipe that is sweet hot and salty serve on a bed of rice with some louisana hot sauce on the side',\n",
              " 'this recipe is really quick  simple  this is a good on the go breakfast that keeps me filled until lunch time',\n",
              " 'this is very different but very tasty',\n",
              " 'yes another taco casserole this one is really quick and easy and the kids seem to like it too',\n",
              " 'from grouprecipescomat first the recipe showed 0 garlic cloves i corrected the mistake the more the better',\n",
              " 'ive always loved the flavors of jambalaya but can rarely enjoy it because i hate seafood so i created my own new orleansstyle jambalaya without seafood just sausage and chicken',\n",
              " 'from cooking light these spicy kebabs are enjoyed day and night in peruvian restaurants and at the pushcarts of street vendors if you live in an area with a large peruvian community you may be able to buy whole or ground aji amarillo if not use hot paprika in its place as we did in testing the recipe we also tried spanish smoked paprika which you can find at wwwtiendacom',\n",
              " 'serve with stoned wheat thins as an appetizerthey will want more you could add jalapeno peppers if you like hot',\n",
              " 'good ol rachel ray',\n",
              " 'this is from razzle dazzle recipes  cook time is refrigeration time',\n",
              " 'this is an oftenrequested recipe around here i make it in quantity for my kids team dinners and never have any left',\n",
              " 'a lovely cool salad posted in response to a recipe request',\n",
              " 'i love to make this when we have bbqs in the summer  super easy to make and really good on those hot days when you dont want to fire up the kitchen cooks notes be creative please note this is an adopted recipe and i hope to make it soonest if you make it before i do i would appreciate feedback thanks  zwt region italy',\n",
              " 'these marinated vegetables are so versatile you can use the spread on crackers or hot french bread slices or as a savory sandwich filling with fresh tomatoes and lettuce place a teaspoonfull on endive spears celery sticks or artichoke bottoms to make beautiful appetizers',\n",
              " 'these sweet and salty critters make a welcome addition to any picnic',\n",
              " 'try any kind of bean you like',\n",
              " 'i like this recipe because it is so versatile and uses what you may have in the refrigerator andor pantrynot to mention the wonderful refreshing flavor',\n",
              " 'this is my familys favorite lo mein recipe  we love the versatility  add any veggies or meat you want',\n",
              " nan,\n",
              " 'suzanne goin serves this delicious dish at her acclaimed la restaurant aoc  the kale is the kale is cooked slowly until it caramelizes for an incredibly rich color and depth of flavour  cavolo nero is also known as black kale dinosaur kale or laciniato recipe was printed in the la times',\n",
              " 'delicious  a veggie pizza that meat eaters will actually love the mediterranean flavors and cheeses make it filling without the traditionally overwhelming healthy garden taste if you chop and marinate the vegetables in advance dinner can be ready in just 15 minutes now thats a blessing from the greek gods',\n",
              " 'posted for zwt 7switzerland adapted from a taste of switzerland by sue style',\n",
              " 'delicious dutch treat traditionally served on new years eve',\n",
              " 'this recipe was a winner in the pillsbury bake off in 1998 i have cut the amount of mayonnaise in half you can also add whatever toppings you might like',\n",
              " nan,\n",
              " 'this is not a rich or heavy cake it is a simple cake that is great served with tea or coffee  either cold or warm with cream if desired eat within 2 days australian measurements used  aust womens weekly',\n",
              " 'i tweaked the magnolia bakerys recipe for apple tart with hazelnut brown sugar topping to come up with this simple and quick crumble it is absolutely delicious i received so many complements that im thinking of making it my signature dessert notes i use either a 9 or 10 inch round pie dish for this recipe but you can also use individual ramekins  just remember to shorten the baking time as ramekins are smaller and wont take as long to cook in the ovenalso note that measuring cups are required for this recipe',\n",
              " 'i served this with a thanksgiving dinner and it complimented the meal make the day ahead refrigerate and heat just before the dinner',\n",
              " 'another nice muffin to have with a cup of tea or coffee  i like to butter mine ',\n",
              " 'super fast cake to make  and very delicious the ingredients seem odd because there is no oil but it makes a wonderful cake we really prefer it made in the loaf pans for a breakfast cake',\n",
              " 'from rachel ray magazine  october 2008 i have not tried this recipe but i put it here because it was different than the other cinnamon bun recipes',\n",
              " 'this is our favorite salad    sometimes we just make a meal out of itnote  ive found that the romaine is best very crisp if its soaked in ice water for approximately 30 minutes then spin dry  i use my recipe 175543  however a good quality bottled blue cheese dressing can be substituted',\n",
              " 'use a good flavored apple for this old favorite such as fuji gala granny smith jonathan cortland empire or winesap  from the mississippi valley chapter of the united states regional cookbook culinary arts institute of chicago 1947  chilling time not included in preparation time',\n",
              " 'this is really to simple to call a recipebut i think it is a great afternoon snack for kids and adults',\n",
              " 'this beautiful openfaced pastry glistens with scarlet cranberries nestled among golden apple slices filled with alreadysimmered fruit the galette bakes quickly and evenly from williamsonoma posting for safekeeping i think i would just use a puff pastry or premade pie shell to save time if i was in a hurry prep time does not include time to peel apples or chill time for dough',\n",
              " 'adopted recipe  cooking time includes the two rising times',\n",
              " 'from super food ideas magazine  kids love it',\n",
              " 'i was playing around with mean chefs pie dough recipe trying to get it down pat and this was one of the recipes i put together in the process prep time does not include any cooling or setting times',\n",
              " 'this mincemeatlike pie was found in sunset best recipes 2010 preparation time does not include the time needed for the finished pie to cool',\n",
              " 'i made and canned this for christmas gifts one year  then i got requests for more  a very pretty and unusual relish  this recipe is from  httpwwwthe4cscomcathyapplesrelishhtml',\n",
              " 'applesauce kickedup a notch or two great with your favorite pork dishes',\n",
              " 'from vegetarian cookbook by nava atlas i love her cookbooks recipe has only a few minor changes try this as a filling in pita pockets',\n",
              " 'i discovered a recipe in joy of cooking and tweaked it a bit  im not sure its worth the trouble of stuffing the squash  personally id just peel and dice the squash while its raw then roast the squash while sauteeing the rest of the filling then toss the whole mess in a baking dish and be done with it  but if youre into fancy presentation go for it   no matter what it tastes great and its nutritious',\n",
              " 'such a delicious oldfashioned dessert  everyone enjoys it ',\n",
              " 'quick and easy youll notice this is a muffintype batter but i prefer making this as a cake and serving it simply in squares with coffee or tea its also very good served with ice cream',\n",
              " 'this is adapted from the cwa country womens association of australia cookbook country classics simple and delicious',\n",
              " 'this recipe is from my friend joan and is one of our favorites  i am guessing on the amounts for the salad ingredients  you can proportion them to taste or based on how many people you are feeding  the dressing recipe makes enough for two goodsized salads  you can make this a main dish salad by adding cooked chicken',\n",
              " 'from cooking for babies and toddlers for dummies',\n",
              " 'this spiced apples andor quince pie can be prepared with both fruit kinds together or with only one depending from what you have available i like the combination and have 2 different flavors in one',\n",
              " 'this is a delicious cake enriched with fresh fruit and lusciously spiced it tastes better the next day when the flavors really come together and the tartness of the apples settles it is worth warming slightly before serving i use coconut oil but you can substitute for extra virgin olive oil or melted sweet butter if you do not have turbinado sugar substitute for other loosely granulated brown sugar adding allspice takes away the slightly bitter taste of the whole wheat flour happy baking',\n",
              " 'a favorite retaurant was featured making this dish to serve over pork tenderloin or chops a true fall southern dish',\n",
              " 'this stuffing has a nice background note of orange and apples you wont taste it in every bite but once in a while you have a taste and think hmmmm whats that its a nice balance of flavors with the bacon and the orange and apples the spinach keeps it moist and heatthy and if  youre like me you always run out of room in the oven on turkey day use your crock pot for the dressing and youve solved the problem i use a crock pot liner and theres no clean up also the crock pot keeps the dressing moist how many times have you had dry thanksgiving dressing at a relatives house  me more than i can count i promise you this dressing will be easy no clean up tasty and moist',\n",
              " 'from the magnolia bakery',\n",
              " 'although not listed in the ingredients my mom has been known to mix up a glaze with confectionary sugar to drizzle over this  she has a slight sweet tooth',\n",
              " 'this is from a new cookbook that i just purchased yesterday called ',\n",
              " 'got this recipe from the cook at the child care center i worked at during college the kids and staff loved this very healthy too',\n",
              " 'my familys most favorite bread this one has a crumbly topping that makes it seem almost like dessert  enjoymakes 1 loaf',\n",
              " 'one of the better recipes for bread puddingthe vanilla sauce recipe may be cut in half if desired but it is so good you might just want to prepare it with the stated amounts',\n",
              " 'this is my husbands absolute favorite bread pudding  im torn between this one and the old fashioned version from southern living  both are fantastic this comes from rosies bakery book which i love despite there not being any pictures',\n",
              " nan,\n",
              " 'im always looking for new different dishes to have as sides for bbqs i loved this one because its so easy to throw together without too much chopping and mixing i found this in an old cooking light special edition',\n",
              " 'from the crisco websiteposting for safe keepingi am including the crepe recipe but feel free to use your favorite crepe recipetimes are approximateand do not include batter chill timeyou can probably use any apple that cooks wellnote the recipe on the website stated 1 crepe recipe but it makes 12 crepes but the apple brown betty recipe says it makes 6 crepesyou can always freeze any unfilled  leftover crepes',\n",
              " nan,\n",
              " 'i hope you enjoy',\n",
              " 'posted in response to a request from a betty crocker book i have not tried this',\n",
              " 'an easy side dish for picnics   a great way to dress up canned baked beans',\n",
              " 'this recipe is a combination of a great little barbecue sauce specifically made for the burger imagine that and a superb burger i came across on the internet and made a few little changes to when i first read the ingredients for the sauce i was thinking hmmm i dont know but better homes  gardens just knows their stuff burger fanatic that i am this heavenly match has become a household favorite',\n",
              " 'this is a perfect cake for the holidays you can add more or less spice as you chose the icing brings out the flavor as well and since it is canned icing it saves time during busy holiday baking',\n",
              " nan,\n",
              " 'adapted from a recipe on healthygreenkitchencom',\n",
              " 'i overcooked my apples and i saw in a grocery store apple caramel syrup and thought i could do this and tried it i have a baking apple tree and so they are tart apples i was just trying something new and different can use as ice cream topping or pancakewaffle syrup',\n",
              " 'traditionally these were served in denmark during carnival celebrations and are usually served with nuts and raisins i edited the recipe to include apples which i love and omitted the nuts dont exceed the amount of filling though because they may burst when baking',\n",
              " 'it is very tasty and goes excellent with pork dishes',\n",
              " 'a delicious way to get your fruits and veggies in one dish',\n",
              " 'this recipe dates back to 15thcentury england and legend has it that it was named after queen charlotte wife of king george iii',\n",
              " 'delicious on a toasted bagel plain toast or serve as an appetizer with crackersit will keep covered in the fridge for a couple of days  recipe originated from direct recipes on the internet',\n",
              " 'from ricardo  sure looks tasty',\n",
              " 'this is from a book called celebrating chocolate written by beverley sutherland smiththis pudding is light not too sweet and has a moist almost sticky textureit looks like a cake and can be served as one and slices beautifully once cooled i also substituted flaked almonds instead of the walnuts and apricots can also be use in place of applesjust divine served with the cream',\n",
              " 'recipe from best of taste of home 2009',\n",
              " 'this recipe was on the lid of some whipped cream  i always have instant apple cider on hand so this is an easy addition to my quick to make desserts  prep time is refrigeration time',\n",
              " 'yummmdoughnuts that arent bad for you and a perfect accompaniment to some nice fresh apple cider from the detroit free press on oct 14 2003',\n",
              " 'this is best right out of the oven',\n",
              " 'its not too sweet as less sugar is needed i use the dark cider or use your homemade cider for more robust cider taste',\n",
              " 'this recipe comes from the johnson county kentucky apple festival cookbook 25th anniversary 1987',\n",
              " 'i found this on the how sweet it is food blog and i decided to make it for thanksgiving  i used barefoot pinot grigio generic apple cider and the cheapest ginger brandy that i could find and it was still really yummy  make sure you let the apples soak for a while because they draw some of the bite from the liquor  i made mine in the morning and served it at 6 pm and it was great  kind of like a grown up apple cider punch cook time is chill time',\n",
              " 'good use of that healthy tangy nectar',\n",
              " 'i found this recipe about 5 years ago in cooking light and have been using it ever since it makes the best turkey ever and couldnt imagine preparing mine any other way now very juicy and delicious  this is for a 12 12 lb turkey i usually double it for a bigger turkey',\n",
              " 'make this yummy cooked oatmeal ahead and refrigerate for quick wholesome and fun start to the day  in the  morning heat in the microwave and invite everyone to sprinkle on their own favorite topping',\n",
              " 'quite a mouthful but so deliciously healthy  this simple wholesome muffin uses flax seed meal in place of butter or oil and comes out fluffy and moist',\n",
              " 'oh look more cinnamon lol',\n",
              " 'i created this when i was craving my moms apple pie but wanted to stay lower calorie i suggest spreading this in a shallow dish to eat so the graham cracker stays crunchy',\n",
              " 'i adapted my own version of this from 3 or four other recipes  i wanted a low fat low cal granola so this is what i came up with  this version isnt real sweet but it has an excellent flavor  i wanted my granola pretty crunchy so i left it in the oven for almost 90 minutes  the only thing is you have to keep a close eye on it or it could burn  for the first 60 minutes i stirred it every 1015 minutes  for the last 30 minutes i stirred it about every 5',\n",
              " 'this is an adaptation of recipe 58189 that can be made one serving at a time in the microwave it does not contain eggs or dairy',\n",
              " 'i dont recall where i got this recipe and how much ive done to it to change it for my own liking however i eat this almost every morning i havent grown tired of it and it is so good for those who arent fans of traditionally prepared oatmeal this is quick easy and best of all not gooey i cant stand gooey salty oatmeal i use individual packs of apple sauce mostly because after opening regular apple sauce you have to refrigerate it since the apple sauce in this recipe is added after its cooked it can make the oatmeal slightly cold if its from the jar in the fridge i have tried adding the apple sauce and cooking it with the oatmeal and milk it didnt turn out that great make sure to use unsweetened apple sauce to keep within point range i am not sure how much the regular apple sauce will raise the points this tastes great with or without added sweetener i use unsweetened because i can control the sugarsweetness that way enjoy ww points  45',\n",
              " 'taken from the 2010 milk calendar',\n",
              " 'these are tasty and fast they are perfect for breakfast in a hurry both kids love these and they are hubbyapproved',\n",
              " 'delicious snack thats big on flavor and low on fat this isnt a super sweet bread but the powdered sugar glaze helps to give it just enough extra sweetness',\n",
              " 'found this recipe in a magazine  it is worth the effort',\n",
              " 'a nice fruity cocktail',\n",
              " 'this recipe was found in betty crocker holiday easy entertaining cookbooklet from nov 02',\n",
              " 'rachaels recipe notes this can also be used as a jam or jelly tastes great on toast i use this as a ',\n",
              " 'ive been making this pie for over 10 years its like no other recipe ive found the secret ingredient is the crushed fruit sauce which by the way can be found near the poultry this recipe was printed in our local newspaper which had a beautiful picture  i had to try it now its become a must have at thanksgiving the only pie that has even come close is a marie calendar pie  i thought id lost this recipe but recently found it so i wanted to get in on zaar before i lost it again its one of those you go crazy trying to find enjoy v',\n",
              " 'my boss makes this bread every holiday season and it is soooo good i couldnt believe my life was devoid of cranberry bread before i met my boss  note  this makes 2 loaves of bread note2  the bread requires 2 days of refrigeration before serving and it freezes really really well',\n",
              " 'this is from a food and family magazine its made on the stove top ready in just a few minutes',\n",
              " 'a three step flavorful pork roast',\n",
              " 'these have a terrific aroma and taste great for breakfast or brunch this is my recipe of apple cranberry scones',\n",
              " 'this is really really good  i love apples so much  theyre so versatile and the different apples give each dish such unique flavor  this one is so easy to throw in the oven and makes a beautiful presentation for dessert  serve with a really good vanilla ice cream and youve got some really good eatin',\n",
              " 'remember the smell and taste of home baked apple crisp in the morning these bars revive that experience by making a portable pocketsized version of this old favorite its a quick breakfast onthego or healthy lunchtime snack',\n",
              " 'this is really good',\n",
              " 'in case you havent seen any of my other recipes i should tell you that im pretty much partial to cookies this recipe is pretty much a staple in my kitchenits easy adaptable really yummy and everyone who drops by eats them by the handful i have used other pie fillings as well but the apple is just so cozy and fitting for the coming seasons if you get a chance to try these i hope you enjoy them',\n",
              " 'a small batch dessert recipe from somewhere in my old recipe files',\n",
              " 'i got this recipe off the internet but i dont remember the website',\n",
              " 'a great casserole dish that is great for potlucks or a dessert',\n",
              " 'a great dessert for any occasion',\n",
              " 'great gift',\n",
              " 'one of our favorite apples cakesalways welcome',\n",
              " 'comfort dessert',\n",
              " 'from a toh recipe booklet on muffins  i love the bits of apple within the muffin and just love the crunchy topping  ive used chopped almonds instead of the walnuts for the topping and it works great so feel free to adjust the nuts in the topping to your liking but dont leave them out as they are a key to the flavors of this muffin',\n",
              " 'from an old recipe card i found while cleaning i think it belonged to my great aunt mildred makes about 2 12 quarts',\n",
              " 'a different chicken dish  ive also taken the crouton mixture and used it for stuffing a roasted birdalso excellent  dont worry about being too exact with 34 and 18 teaspoons i just throw it in by feelalso curry powder poultry seasoning  you get different brands and types in different countries  use a mild  to medium curry powder whatever you preferfrom cooking class cookbook',\n",
              " 'i have not made this yet  im just posting it so i have it storedprepare before dinner and bake after dinner for a quick dessert',\n",
              " 'when i found out i was diabetic i started the struggle of finding desserts that are good for me but dont make me feel deprived this is a good one it actually almost tastes like apple pie give it a try let me know if you have any ideas to make it even better',\n",
              " 'this is from an amish recipe book and truly delicious',\n",
              " 'got this in a recipe swap a few years ago from a woman who owned a small diner  she says customers really enjoyed these maybe you will too  eat warm from the oven or reheat in microwave scrumptious with vanilla ice cream  ovens vary so bake time is a guess',\n",
              " 'this is my favorite salad it has so many yummy things in it',\n",
              " 'a pillsbury recipe i cant wait to try out this fall  time listed does not include cooling time',\n",
              " 'from ready steady cook and presented by janelle bloom  times and servings are estimates',\n",
              " 'this is a delicious salad that is simple and elegant it is different from the others ive seen as it has a lower sugar content so it doesnt take away from the goodness of the salad itself',\n",
              " 'i recently was given the official vermont maple cookbook 3rd edition and this recipe is in that booklet  very nice flavor and very easy to make',\n",
              " 'when fall rolls around i cant wait to dive head first into all the wonderful traditions of the season includingapples  this cross between apple pie and cinnamon rolls sound delishi have not tried yet so any comments are very welcome  from better homes and gardens make ahead cooking',\n",
              " 'recipe from the seven gables inn pacific grove ca',\n",
              " 'this came to my inbox today and since its almost apple season here in the northeastern us i thought id share it the descriptions says this is a moist and cake like spicy nutty apple cookie i cant wait to try it the recipe is from aunt mikie at allrecipescom although i added my own touches if you make it with the soy milk and unsalted margarine its lactosefree',\n",
              " 'one of the vendorgrowers up in apple hill in camino california sells these pies for a pretty penny so when i found the recipe posted in the local paper years ago i made sure it was added to my recipe file since my sweet eddiebear always loved an apple piethe recipe for recipe 237148 is posted seperately',\n",
              " 'serve plain or with ice cream',\n",
              " 'a great chutney recipe pairs well with meats and chips',\n",
              " 'yummy yummy yummy i have alcoholly in my belly  i actually stumbled upon this recipe while i was in the hospital getting an ovarian cyst removedbut that is neither here nor there  i got home made the martini and well i feel as though i am walking on air  i hope you will enjoy as much as i enjoyed   koodos to michael chiarello whose recipe for apple martini with sour apple hard candy would have never got to you all',\n",
              " 'this is excellentit has a hint of apple pie taste built right in  it is really good',\n",
              " 'i make this almost every rosh hashana its a great dish for autumn its dairyfree good for those who are lactose intolerant',\n",
              " 'recipe from httpwwwindianfoodforevercom and posted here for zwt8  sounds yummy',\n",
              " 'posted this for another zaar chef have not tried this yet myself  this recipe comes from  sandra woodruff rd fat free baking cookbook',\n",
              " 'this is called a mystery because its difficult to decide whether its a cake pudding or pie i happen to love all three so its no mystery why i love this comfort food one bonus is that the cake part does not contain any buttershortening so have another piece',\n",
              " 'from taste of home magazine we made for dinner tonight and it was wonderful great blend of flavors and really filling we served with baked potato soup you could use this for appetizer and slice in smaller pieces or cut in 4 pieces and make a meal',\n",
              " 'moist and delicious  perfect to give as a gift',\n",
              " 'these muffins are fantastic and rise very high when baked if you prefer a sweeter muffin add in more brown or white sugar i have even made these in mini loaf pans and they were great if you like nutmeg just add in 12 teaspoon to the flour mixture if desired',\n",
              " 'a yummy moist apple walnut cake and so easy just dump everything into one bowl and stir recipe found on the web',\n",
              " 'one of my familys favorite apple muffin recipe the topping on these muffins is delicious this recipe makes about 3032 mini muffins also',\n",
              " 'these muffins are delicious and loaded with fiber and heartfriendly oat bran they may truly be the breakfast of champions you may use granny smith or gravenstein apples but feel free to try your favorite green apple you can freeze what you dont consume right away for a later date',\n",
              " 'a good start on a chilly day',\n",
              " 'a wonderful concoction that is perfect with potato pancakes or vegetable fritters or alongside grilled chicken  from provencal chef maximum',\n",
              " 'yum',\n",
              " nan,\n",
              " 'this version of the old fashioned recipe has apples nuts and raisins together with spices brown sugar and molasses under a very rich pastry crust  the other recipe on zaar seems to top the apples with a cakelike topper but this is wonderful too  from the march 1981 bon appetit magazine',\n",
              " 'i have been making oven pancakes for years in my iron skillets but just recently purchased a special oven pancake pan it looks like a flat wok  this recipe was adapted from the recipes that came with the pan  we serve it with sour or whipped cream honey maple syrup etc  its good with any of the topping choices  its relatively low in sugar so my diabetic mother can enjoy it although you are supposed to let the batter rest at least 30 minutes i have gone ahead and baked it i do usually let it rest though  i have also made the batter the night before and refrigerated it overnight then i let it come to room temperature before i bake it  that works okay when i know ill be in a hurry the next morning but i still prefer the original version  the 30 minute wait for the batter is included in the prep time',\n",
              " 'i am not gluten intolerant but i do like to bake with different types of flours i have made this with more pears than apples more apples than pears asian pears bartlett pears and an assortment of apples you can vary the amount of sugar depending on the sweetness of the fruit add fresh or frozen cranberries for a nice tart addition',\n",
              " 'you can enjoy this healthy and delicious dessert any time of day  a twist on the traditional carrot cake this recipe  produces a moist and flavorful bartype cake with a delectable apple pecan topping',\n",
              " 'this recipe was published in quick and simple magazine and it is a great way to use up apples during the fall season',\n",
              " 'after baking turn this delicious cake upside down onto a serving platter the apple nut topping and sauce will fall onto the top of the cake serve warm with whipped cream',\n",
              " 'to answer the reviewer who questioned the lack of apples i believe this is what is called mock apple pie  that is it tastes like apple pie but uses no apples  my grandmother makes something like this  that said this is not my recipe  it is an adopted recipe that i have asked be removed from my account along with all other adoptees  most were removed but a couple were apparently missed',\n",
              " 'from august 04 cooking light a hit with adults and kids alike sub whatever cookies you have around i used vanilla wafers original recipe called for oatmeal cookie crumbs 284 calories 44g protein 3g fiber 77g fat',\n",
              " 'apple pie to go sounds good to me',\n",
              " 'this is such a handy recipe to have during apple season  this filling is amazing  just can a bunch of apple pie filling and those apple pies for thanksgiving and chrstmas will take you no time at all   just make a crust and bake it also works great for cobbler or just heated up with some vanilla ice cream  just a note if you are baking an apple pie with this canned pie filling bake it at 425 degrees for 15 minutes reduce heat to 325 degrees and bake for another 40 minutes  the apples are already cooked',\n",
              " 'a nice holiday candy treat combines the holiday tradition of fudge candy with the flavor of apple pie',\n",
              " 'recipe from natalie bruton and ryan wied',\n",
              " 'apple pie nachos baked instead of fried and with nofat topping  still really yummy but without all of the calories and fat',\n",
              " 'very kid friendly and healthy',\n",
              " 'written recipes for apple pie go back as far as the 1500s  today it is an alltime comfort food and a musthave on the holiday dinner table  the twist in this basic apple pie recipe is baking it for 2 hours  yes thats right 2 hours  this will give the pie a rich gold nearly caramelized filling and a spectacular crust both top and bottom  it works  adapted from kingauthorflourcom',\n",
              " 'spice up this comforting crumb topped fruit with cinnamon and nutmeg for a delightfully down home dessert with chopped macadamia nuts it has a pleasant crunch that contrasts with the tender apples and pineapple i found this recipe in taste of home quick cooking 2005 i have not tried this crisp im posting this for safe keeping',\n",
              " 'pork chops poached in apple juice  the juice makes a rich apple sauce  really delicious even my picky 3 year old likes it',\n",
              " 'fast tasty and only 4 ingredients',\n",
              " 'this is an old time recipe and was in my aunts cookbook from her church  kathryn esham submitted the recipe   there isnt anything like it here on recipezaar  my husband enjoys this  i think the sauce is almost like my grandmothers that i so loved  i hope you will try this one',\n",
              " 'its amazing when two ingredients intertwine so perfectly that regardless of how hard the palate may try it cant coax them apart thats what happens to the applesauce and pumpkin pure in this sweet and savory soup the pumpkin gives substance to the apple the apple makes the pumpkin sweet and tangy eaten together they become a totally new taste sensation  and a great way to fit fruit and veggies incourtesy of mealtimeorg',\n",
              " 'i love both apple and pumpkin pie and always enjoy creating new things i can make in my dorm this i am convinced is even better than pie and its even healthy',\n",
              " 'i think i got this recipe from mccormick from a spice can but im not sure it is sooo good',\n",
              " 'i really enjoy making bread in the colder months this loaf is one that i have played with a lot and it works no matter what i do to it i have added nuts vanilla cinnamonginger changed the apples to dried cherries non sugared i have used applebutter in place of applesauce and trimmed down the honey well you get the idea 8 cake pans are the perfect thing for baking this bread it will make 3 loaves',\n",
              " 'i have not made this pie but this sounds delicious  i plan on making this for easter dinner i cant wait  just the thought of  apple pie sounds great but then throw in the raisinssuperb   let me know what you think i know i cant wait',\n",
              " 'cook time includes the cooling time',\n",
              " 'this delicious recipe came from yankee magazine it calls for raspberry jam and fresh apples rich and buttery yum',\n",
              " 'perfect for breakfast or a brunch',\n",
              " 'you may adjust the amount of sage to taste this stuffing is baked in the oven in a dish ',\n",
              " 'from whole foods this is kid friendly adult friendly easy and healthy amounts are approximate use the ingredients to your liking i really like this with nutella',\n",
              " 'my husbands favorite dessert ',\n",
              " 'great for pack lunch sandwiches',\n",
              " 'a healthy filling snack posted for a cookbook i am putting together for my stepson who is dieting if you want a large supply of cinnamon sugar mix 12 cup sugar with 1 tablespoon cinnamon and store in an airtight jar',\n",
              " 'refreshing with just a hint of spice',\n",
              " 'love this cake it is very moist but not overly sweet i got this recipe from a friend who got it from a friend who got it from a friend',\n",
              " 'found that on the back of a coolwhip label and it is a favourite for potlucks this recipe is for an 8inch round but i normally double it for a 9x13inch cake',\n",
              " 'a neighbor brought these over as a thankyou gift when we helped them shovel out last winter we all enjoyed them very much original recipe calls for 1 12 cups sugar but cut back on it since we use it for a coffeecake',\n",
              " 'a light breakfast or nutritious snack i like a crunchy tart apple like granny smith',\n",
              " 'this is from my grandmother2110  recipe has been updated',\n",
              " 'a delicious bundt cake that is perfect for coffee break breakfast or desert',\n",
              " 'from king arthur flour website i have not tried but would like to very different technique for muffins which includes layering the struesel',\n",
              " 'from hostess with the mostess',\n",
              " 'you can substitute another fruit for the apples such as cherries pears or apricots  posted for zwt 2006',\n",
              " 'i generally dont like traditional stuffings but this has always been a winner in my cookbook i like to add some extra dried sage on top of the stuffing right before baking',\n",
              " 'from my publix grocery store greenwise magazine a recipe for good health',\n",
              " 'this is the perfect side dish on a chilly autumn evening the apples give it just the right amount of sweetness and it smells heavenly cooking i actually cooked this in a smaller oval casserole dish and used 2 sweet potatoes and 3 apples so obviously the amounts are very flexible just reduce the other ingredients and make sure you use enough oj so that it covers about 23 of the sweet potatoes and apples yum i got this wonderful recipe from my friend shell marr',\n",
              " 'this is a great stuffing for crown roast of pork you may also stuff porkchops use very thick chops or any other pork roast  follow instruction for stuffing that accompanies the cut you are using the cook time is the time needed to make the stuffing',\n",
              " 'a quick dessert and a great way to make use of the wonderful fall apple harvest',\n",
              " 'a different burger with a sweet sauce',\n",
              " 'good cold weather side dish goes well with pork  i didnt have any apple juice on hand so i used chicken stock and almonds instead of pecans  very tasty',\n",
              " 'this is a scaleddown version of an oldfashioned apple dessert it came from taste of home magazine subscriber phyllis fahey from fergus falls minnesota',\n",
              " 'from what i understand this is a recipe from disneyland i have never been there but this sure sounds rich and delicious the passive cooking time is actually the chill time',\n",
              " 'refreshing apple salad great for  family get togethers',\n",
              " 'a moist dessert that is best topped with vanilla ice cream',\n",
              " 'a quick  healthy way to start the day you must love apple i always add extra walnuts because i love them and sometimes a little milk over the top',\n",
              " 'this is a recipe from a 1987 issue of better homes  gardens from a tyson chicken ad its meant to be stuffing for cornish game hens but because i dont eat meat and poultry this serves as a nice vegetarian side dish nonvegans can use butter for a richer flavor this would be great for thanksgiving christmas or any other feast i dont normally keep storebought wild rice on hand so i used 13 cup each brown rice black rice and longgrain yellow rice the ingredients were listed in the ad but no actual instructions wereso my instructions pretty much work i had to add the extra 2 tb oil for cooking the onion it wasnt originally listed i chose those two oils based on what was on hand and what i thought would have the most interesting flavors',\n",
              " 'a refreshing apple and nut salad with the addition of fresh mint i use a mixture of crisp apples including galas and pink ladies i dont peel them but you may peel your apples if you wish please feel free to adjust the amount of honey to suit your taste note best made with a fresh light tasting mint such as spearmint or lemonmint cook time is chill time',\n",
              " 'a delicious bread try not to eat the whole loaf at one sitting adapted from cook now serve later cookbook new england scandinavian mid atlantic south west mid west',\n",
              " 'thurgau switzerland is known as the cider capital of switzerland in thurgau roast beef and apple wine are often combined in cookingthe original recipe calls for apple wine and food does not recognize apple wine so posted wine with apple noted as type found on internet at myswitzerland',\n",
              " 'i am not sure where i got this recipe but i am glad i did find it everones favorite points 4',\n",
              " 'posted in response to a request a recipe my friend makes regularly',\n",
              " 'this recipe is modified from a recipe of a food item served in gloria jeans coffee it may be sort of a strange combination but despite that it soon became my favourite afternoon snack and brain food',\n",
              " 'delicious mix of flavors',\n",
              " 'i found this in a supermarket magazine i fully intended to make this for christmas but work and other commitments conspired against me and i havent made it my plan when i made it was to change the cup of currants to a cup of cranberries and throw in some slivered almonds as an extra the grams vs cups mix up is because prunes and peaches come in this size pack',\n",
              " 'i found this in a betty crocker book  breakfast or brunch food is a delight to find if its easy to make at the same time you can use turkey sauage if you want to substitute at the same time',\n",
              " 'this appetizer or lunch is the 200 winner of the bhg magazines lookslikeyoufussed category recipe courtesy monica glass',\n",
              " 'i am on a fresh ginger kick plus its the time of year its autumn as i write this to use those fresh apples i really appreciate that this recipe makes such a small amount that you can keep it in the fridge without the bother of processing it makes a great hostess gift too',\n",
              " 'if you like apple pancakes and you like bacon youll love the taste of these sweet smoky pancakes any kind of apple works well a quick cider syrup drizzled on top enhances the apple flavor',\n",
              " 'this one is really sweet kids love it and its made in no time all through the year',\n",
              " 'this was a quick and easy freezer jam recipe i got from the ball canning site  it is delicious  i love using the new plastic 8 oz freezer jam containers too',\n",
              " 'frozen blueberries can be used in this pie in place of the fresh berries partially thaw the frozen berries before adding them to the filling from pillsbury',\n",
              " 'a fruity and cheesy omelet  serve with toasted english muffin with apple butter',\n",
              " 'from a jewish newspaper  i clipped this some years ago  may be prepared up to 2 days ahead of time',\n",
              " 'they were giving out samples of this and the recipe at a grocery store and it was really good  you can eat them with buns or plain  weve since tried out the recipe at home and my husband really likes them as well sounds a little funny but give them a try',\n",
              " 'delicious',\n",
              " 'quick easy and cheap mug cake',\n",
              " 'from a fatfreevegancom blog yummy vegan pancakes with a twist',\n",
              " 'from cooks country by americas test kitchen episode 105 autumn supper',\n",
              " 'we love tuna melts and this one is very different love the combination of ingredients',\n",
              " nan,\n",
              " nan,\n",
              " 'this is one of my favorite recipes to show off to friends stuffed with leeks and bacon with an apple dijon mustard glaze it is a very moist and tasty pork chop i like to serve it with roasted red potatoes with fresh rosemary and sea salt and sauteed fresh green beans',\n",
              " 'it takes 6 ingredients and 20 minutes to put together this beautiful bruschetta provided by light  tasty magazine',\n",
              " ...]"
            ]
          },
          "metadata": {},
          "execution_count": 50
        }
      ]
    },
    {
      "cell_type": "markdown",
      "metadata": {
        "id": "UTovhb8-BTA2"
      },
      "source": [
        "### Расстояние редактирования"
      ]
    },
    {
      "cell_type": "markdown",
      "metadata": {
        "id": "ULS60esbBTA2"
      },
      "source": [
        "1.1 Загрузите предобработанные описания рецептов из файла `preprocessed_descriptions.csv`. Получите набор уникальных слов `words`, содержащихся в текстах описаний рецептов (воспользуйтесь `word_tokenize` из `nltk`). "
      ]
    },
    {
      "cell_type": "code",
      "source": [
        "# words = \" \".join(filee[\"preprocessed_descriptions\"].tolist())\n",
        "#main\n",
        "words = map(str, filee[\"preprocessed_descriptions\"].tolist())\n",
        "words = \" \".join(words)\n",
        "words = word_tokenize(words)\n",
        "print(len(words))\n",
        "words = set(words)\n",
        "words\n"
      ],
      "metadata": {
        "id": "aSckwHYxAcBw"
      },
      "execution_count": null,
      "outputs": []
    },
    {
      "cell_type": "code",
      "source": [
        "\"an\" in words"
      ],
      "metadata": {
        "colab": {
          "base_uri": "https://localhost:8080/"
        },
        "id": "YCIIjzgxOWHy",
        "outputId": "b7e18bfb-f9c8-48c6-d59d-6c7de9d813b2"
      },
      "execution_count": 229,
      "outputs": [
        {
          "output_type": "execute_result",
          "data": {
            "text/plain": [
              "True"
            ]
          },
          "metadata": {},
          "execution_count": 229
        }
      ]
    },
    {
      "cell_type": "code",
      "source": [
        "filee[\"preprocessed_descriptions\"].tolist()[1]"
      ],
      "metadata": {
        "colab": {
          "base_uri": "https://localhost:8080/",
          "height": 53
        },
        "id": "mg9Shgi8NBsY",
        "outputId": "8726ea4f-4294-4cfb-e1bf-386ff1ebd035"
      },
      "execution_count": null,
      "outputs": [
        {
          "output_type": "execute_result",
          "data": {
            "text/plain": [
              "'my children and their friends ask for my homemade popsicles morning noon and night i never turn them down who am i to tell them that they are good for them for variety i substitute different flavours of frozen juice  grape fruit punch tropical etc'"
            ],
            "application/vnd.google.colaboratory.intrinsic+json": {
              "type": "string"
            }
          },
          "metadata": {},
          "execution_count": 69
        }
      ]
    },
    {
      "cell_type": "code",
      "source": [],
      "metadata": {
        "colab": {
          "base_uri": "https://localhost:8080/"
        },
        "id": "y6ICGjmQG9pm",
        "outputId": "0d86780d-a150-4e6e-8f98-a7137d2d995a"
      },
      "execution_count": null,
      "outputs": [
        {
          "output_type": "stream",
          "name": "stdout",
          "text": [
            "<class 'list'>\n"
          ]
        }
      ]
    },
    {
      "cell_type": "markdown",
      "metadata": {
        "id": "mphu6mLXBTA2"
      },
      "source": [
        "1.2 Сгенерируйте 5 пар случайно выбранных слов и посчитайте между ними расстояние редактирования."
      ]
    },
    {
      "cell_type": "code",
      "source": [
        "#main\n",
        "import random\n",
        "def random_word_pairs(words):\n",
        "    pairs = []\n",
        "    for i in range(5):\n",
        "        word1, word2 = random.sample(words, 2)\n",
        "        pairs.append((word1, word2))\n",
        "    return pairs\n",
        "\n",
        "def edit_distance(word1, word2):\n",
        "    m, n = len(word1), len(word2)\n",
        "    dp = [[0] * (n+1) for _ in range(m+1)]\n",
        "    for i in range(m+1):\n",
        "        dp[i][0] = i\n",
        "    for j in range(n+1):\n",
        "        dp[0][j] = j\n",
        "    for i in range(1, m+1):\n",
        "        for j in range(1, n+1):\n",
        "            if word1[i-1] == word2[j-1]:\n",
        "                dp[i][j] = dp[i-1][j-1]\n",
        "            else:\n",
        "                dp[i][j] = 1 + min(dp[i][j-1], dp[i-1][j], dp[i-1][j-1])\n",
        "    return dp[m][n]\n",
        "\n",
        "\n",
        "wordss = words.copy()\n",
        "pairs = random_word_pairs(wordss)\n",
        "\n",
        "for pair in pairs:\n",
        "    word1, word2 = pair\n",
        "    distance = edit_distance(word1, word2)\n",
        "    print(f\"Дистанция редактирования между словом '{word1}' и словом  '{word2}' = {distance}\")"
      ],
      "metadata": {
        "colab": {
          "base_uri": "https://localhost:8080/"
        },
        "id": "mmXbMVFFDwPD",
        "outputId": "e7c64e7f-acb5-43ea-c89e-abc7a23e739f"
      },
      "execution_count": 233,
      "outputs": [
        {
          "output_type": "stream",
          "name": "stdout",
          "text": [
            "Дистанция редактирования между словом 'pods' и словом  'ever' = 4\n",
            "Дистанция редактирования между словом 'kikuchan' и словом  'sixty' = 7\n",
            "Дистанция редактирования между словом 'ack' и словом  'instantly' = 8\n",
            "Дистанция редактирования между словом 'belgioioso' и словом  'brazilian' = 7\n",
            "Дистанция редактирования между словом 'veggis' и словом  'fuse' = 6\n"
          ]
        },
        {
          "output_type": "stream",
          "name": "stderr",
          "text": [
            "<ipython-input-233-9045ad011083>:5: DeprecationWarning: Sampling from a set deprecated\n",
            "since Python 3.9 and will be removed in a subsequent version.\n",
            "  word1, word2 = random.sample(words, 2)\n"
          ]
        }
      ]
    },
    {
      "cell_type": "markdown",
      "metadata": {
        "id": "th9gocgdBTA3"
      },
      "source": [
        "1.3 Напишите функцию, которая для заданного слова `word` возвращает `k` ближайших к нему слов из списка `words` (близость слов измеряется с помощью расстояния Левенштейна)"
      ]
    },
    {
      "cell_type": "code",
      "source": [
        "#main\n",
        "def find_closest_words(word, words, k):\n",
        "    distances = {}\n",
        "    for w in words:\n",
        "        distance = edit_distance(word, w)\n",
        "        distances[w] = distance\n",
        "    sorted_words = sorted(distances.keys(), key=lambda x: distances[x])\n",
        "    return sorted_words[:k]\n",
        "\n",
        "\n",
        "word = 'cookies'\n",
        "k = 3\n",
        "closest_words = find_closest_words(word, words, k)\n",
        "print(f\"{k} слов(а) близких к слову '{word}' это:\")\n",
        "for w in closest_words:\n",
        "    print(w)"
      ],
      "metadata": {
        "colab": {
          "base_uri": "https://localhost:8080/"
        },
        "id": "V6Kl9xCKISgY",
        "outputId": "f13891bb-0252-4098-d7f9-d02cf87390fe"
      },
      "execution_count": 93,
      "outputs": [
        {
          "output_type": "stream",
          "name": "stdout",
          "text": [
            "3 слов(а) близких к слову 'cookies' это:\n",
            "cookies\n",
            "cookiesi\n",
            "cookiei\n"
          ]
        }
      ]
    },
    {
      "cell_type": "markdown",
      "metadata": {
        "id": "XFPUO-7NBTA3"
      },
      "source": [
        "### Стемминг, лемматизация"
      ]
    },
    {
      "cell_type": "code",
      "source": [
        "from nltk.stem import SnowballStemmer"
      ],
      "metadata": {
        "id": "PWbgQt86SLVR"
      },
      "execution_count": 113,
      "outputs": []
    },
    {
      "cell_type": "code",
      "source": [
        "pip install pymorphy2"
      ],
      "metadata": {
        "colab": {
          "base_uri": "https://localhost:8080/"
        },
        "id": "uwPRgtt0Wo8G",
        "outputId": "78821fde-7bbb-4775-a85b-daddefd60d71"
      },
      "execution_count": 136,
      "outputs": [
        {
          "output_type": "stream",
          "name": "stdout",
          "text": [
            "Looking in indexes: https://pypi.org/simple, https://us-python.pkg.dev/colab-wheels/public/simple/\n",
            "Collecting pymorphy2\n",
            "  Downloading pymorphy2-0.9.1-py3-none-any.whl (55 kB)\n",
            "\u001b[2K     \u001b[90m━━━━━━━━━━━━━━━━━━━━━━━━━━━━━━━━━━━━━━━━\u001b[0m \u001b[32m55.5/55.5 KB\u001b[0m \u001b[31m3.5 MB/s\u001b[0m eta \u001b[36m0:00:00\u001b[0m\n",
            "\u001b[?25hCollecting pymorphy2-dicts-ru<3.0,>=2.4\n",
            "  Downloading pymorphy2_dicts_ru-2.4.417127.4579844-py2.py3-none-any.whl (8.2 MB)\n",
            "\u001b[2K     \u001b[90m━━━━━━━━━━━━━━━━━━━━━━━━━━━━━━━━━━━━━━━━\u001b[0m \u001b[32m8.2/8.2 MB\u001b[0m \u001b[31m51.9 MB/s\u001b[0m eta \u001b[36m0:00:00\u001b[0m\n",
            "\u001b[?25hCollecting docopt>=0.6\n",
            "  Downloading docopt-0.6.2.tar.gz (25 kB)\n",
            "  Preparing metadata (setup.py) ... \u001b[?25l\u001b[?25hdone\n",
            "Collecting dawg-python>=0.7.1\n",
            "  Downloading DAWG_Python-0.7.2-py2.py3-none-any.whl (11 kB)\n",
            "Building wheels for collected packages: docopt\n",
            "  Building wheel for docopt (setup.py) ... \u001b[?25l\u001b[?25hdone\n",
            "  Created wheel for docopt: filename=docopt-0.6.2-py2.py3-none-any.whl size=13721 sha256=07fa57b14e6ddc4f90c6d0c535b3c0177e614f70d5783e4bd0b03858b70a905a\n",
            "  Stored in directory: /root/.cache/pip/wheels/70/4a/46/1309fc853b8d395e60bafaf1b6df7845bdd82c95fd59dd8d2b\n",
            "Successfully built docopt\n",
            "Installing collected packages: pymorphy2-dicts-ru, docopt, dawg-python, pymorphy2\n",
            "Successfully installed dawg-python-0.7.2 docopt-0.6.2 pymorphy2-0.9.1 pymorphy2-dicts-ru-2.4.417127.4579844\n"
          ]
        }
      ]
    },
    {
      "cell_type": "code",
      "source": [
        "\n",
        "import pymorphy2\n"
      ],
      "metadata": {
        "id": "OJsJUrvAXgoS"
      },
      "execution_count": 142,
      "outputs": []
    },
    {
      "cell_type": "markdown",
      "metadata": {
        "id": "1isrIa8pBTA3"
      },
      "source": [
        "2.1 На основе результатов 1.1 создайте `pd.DataFrame` со столбцами: \n",
        "    * word\n",
        "    * stemmed_word \n",
        "    * normalized_word \n",
        "\n",
        "Столбец `word` укажите в качестве индекса. \n",
        "\n",
        "Для стемминга воспользуйтесь `SnowballStemmer`, для нормализации слов - `WordNetLemmatizer`. Сравните результаты стемминга и лемматизации."
      ]
    },
    {
      "cell_type": "code",
      "source": [
        "morph = pymorphy2.MorphAnalyzer()\n",
        "a = [\"стали\",\"встали\"]"
      ],
      "metadata": {
        "id": "VFIu6_4OYzou"
      },
      "execution_count": 156,
      "outputs": []
    },
    {
      "cell_type": "code",
      "source": [
        "stemmer = SnowballStemmer(\"english\")\n",
        "a = [\"hi\", \"dogs\"]\n",
        "print([stemmer.stem(str(i)) for i in a])\n",
        "a"
      ],
      "metadata": {
        "colab": {
          "base_uri": "https://localhost:8080/"
        },
        "id": "_Wbx3cNyTCXb",
        "outputId": "58635859-f90c-4083-d763-69d29386510a"
      },
      "execution_count": 135,
      "outputs": [
        {
          "output_type": "stream",
          "name": "stdout",
          "text": [
            "['hi', 'dog']\n"
          ]
        },
        {
          "output_type": "execute_result",
          "data": {
            "text/plain": [
              "['hi', 'dogs']"
            ]
          },
          "metadata": {},
          "execution_count": 135
        }
      ]
    },
    {
      "cell_type": "code",
      "source": [
        "stemmer.stem(\"endlesshave\")"
      ],
      "metadata": {
        "colab": {
          "base_uri": "https://localhost:8080/",
          "height": 36
        },
        "id": "4CwnCtkkcMXw",
        "outputId": "b3fba5f9-6c00-4e11-dee9-4f4f51ca510d"
      },
      "execution_count": 175,
      "outputs": [
        {
          "output_type": "execute_result",
          "data": {
            "text/plain": [
              "'endlesshav'"
            ],
            "application/vnd.google.colaboratory.intrinsic+json": {
              "type": "string"
            }
          },
          "metadata": {},
          "execution_count": 175
        }
      ]
    },
    {
      "cell_type": "code",
      "source": [
        "morph.parse(\"endlesshave\")[0].normalized.word"
      ],
      "metadata": {
        "colab": {
          "base_uri": "https://localhost:8080/",
          "height": 36
        },
        "id": "MhHzYkyObzKJ",
        "outputId": "2d9955bb-8d42-4348-d01f-1afb150aef2d"
      },
      "execution_count": 174,
      "outputs": [
        {
          "output_type": "execute_result",
          "data": {
            "text/plain": [
              "'endlesshave'"
            ],
            "application/vnd.google.colaboratory.intrinsic+json": {
              "type": "string"
            }
          },
          "metadata": {},
          "execution_count": 174
        }
      ]
    },
    {
      "cell_type": "code",
      "source": [
        "#main\n",
        "data = pd.DataFrame({\"stemmed_word\" : [stemmer.stem(str(i)) for i in words],\n",
        "                    \"normalized_word\" : [morph.parse(str(i))[0].normalized.word for i in words]}, index = words )\n",
        "data"
      ],
      "metadata": {
        "colab": {
          "base_uri": "https://localhost:8080/",
          "height": 423
        },
        "id": "zGf767vvS1sy",
        "outputId": "e39d3313-57ff-44dd-c079-0aa6055eab81"
      },
      "execution_count": 240,
      "outputs": [
        {
          "output_type": "execute_result",
          "data": {
            "text/plain": [
              "                                                          stemmed_word  \\\n",
              "merchants                                                     merchant   \n",
              "dalals                                                           dalal   \n",
              "endlesshave                                                 endlesshav   \n",
              "traveling                                                       travel   \n",
              "touristy                                                      touristi   \n",
              "...                                                                ...   \n",
              "familyowned                                                  familyown   \n",
              "drumstick                                                    drumstick   \n",
              "blackened                                                      blacken   \n",
              "carblow                                                        carblow   \n",
              "athttpwwwgoodlookingcookingcoukyou  athttpwwwgoodlookingcookingcoukyou   \n",
              "\n",
              "                                                       normalized_word  \n",
              "merchants                                                    merchants  \n",
              "dalals                                                          dalals  \n",
              "endlesshave                                                endlesshave  \n",
              "traveling                                                    traveling  \n",
              "touristy                                                      touristy  \n",
              "...                                                                ...  \n",
              "familyowned                                                familyowned  \n",
              "drumstick                                                    drumstick  \n",
              "blackened                                                    blackened  \n",
              "carblow                                                        carblow  \n",
              "athttpwwwgoodlookingcookingcoukyou  athttpwwwgoodlookingcookingcoukyou  \n",
              "\n",
              "[32868 rows x 2 columns]"
            ],
            "text/html": [
              "\n",
              "  <div id=\"df-9968ea29-6770-4bb4-8243-f6eb1cc95e55\">\n",
              "    <div class=\"colab-df-container\">\n",
              "      <div>\n",
              "<style scoped>\n",
              "    .dataframe tbody tr th:only-of-type {\n",
              "        vertical-align: middle;\n",
              "    }\n",
              "\n",
              "    .dataframe tbody tr th {\n",
              "        vertical-align: top;\n",
              "    }\n",
              "\n",
              "    .dataframe thead th {\n",
              "        text-align: right;\n",
              "    }\n",
              "</style>\n",
              "<table border=\"1\" class=\"dataframe\">\n",
              "  <thead>\n",
              "    <tr style=\"text-align: right;\">\n",
              "      <th></th>\n",
              "      <th>stemmed_word</th>\n",
              "      <th>normalized_word</th>\n",
              "    </tr>\n",
              "  </thead>\n",
              "  <tbody>\n",
              "    <tr>\n",
              "      <th>merchants</th>\n",
              "      <td>merchant</td>\n",
              "      <td>merchants</td>\n",
              "    </tr>\n",
              "    <tr>\n",
              "      <th>dalals</th>\n",
              "      <td>dalal</td>\n",
              "      <td>dalals</td>\n",
              "    </tr>\n",
              "    <tr>\n",
              "      <th>endlesshave</th>\n",
              "      <td>endlesshav</td>\n",
              "      <td>endlesshave</td>\n",
              "    </tr>\n",
              "    <tr>\n",
              "      <th>traveling</th>\n",
              "      <td>travel</td>\n",
              "      <td>traveling</td>\n",
              "    </tr>\n",
              "    <tr>\n",
              "      <th>touristy</th>\n",
              "      <td>touristi</td>\n",
              "      <td>touristy</td>\n",
              "    </tr>\n",
              "    <tr>\n",
              "      <th>...</th>\n",
              "      <td>...</td>\n",
              "      <td>...</td>\n",
              "    </tr>\n",
              "    <tr>\n",
              "      <th>familyowned</th>\n",
              "      <td>familyown</td>\n",
              "      <td>familyowned</td>\n",
              "    </tr>\n",
              "    <tr>\n",
              "      <th>drumstick</th>\n",
              "      <td>drumstick</td>\n",
              "      <td>drumstick</td>\n",
              "    </tr>\n",
              "    <tr>\n",
              "      <th>blackened</th>\n",
              "      <td>blacken</td>\n",
              "      <td>blackened</td>\n",
              "    </tr>\n",
              "    <tr>\n",
              "      <th>carblow</th>\n",
              "      <td>carblow</td>\n",
              "      <td>carblow</td>\n",
              "    </tr>\n",
              "    <tr>\n",
              "      <th>athttpwwwgoodlookingcookingcoukyou</th>\n",
              "      <td>athttpwwwgoodlookingcookingcoukyou</td>\n",
              "      <td>athttpwwwgoodlookingcookingcoukyou</td>\n",
              "    </tr>\n",
              "  </tbody>\n",
              "</table>\n",
              "<p>32868 rows × 2 columns</p>\n",
              "</div>\n",
              "      <button class=\"colab-df-convert\" onclick=\"convertToInteractive('df-9968ea29-6770-4bb4-8243-f6eb1cc95e55')\"\n",
              "              title=\"Convert this dataframe to an interactive table.\"\n",
              "              style=\"display:none;\">\n",
              "        \n",
              "  <svg xmlns=\"http://www.w3.org/2000/svg\" height=\"24px\"viewBox=\"0 0 24 24\"\n",
              "       width=\"24px\">\n",
              "    <path d=\"M0 0h24v24H0V0z\" fill=\"none\"/>\n",
              "    <path d=\"M18.56 5.44l.94 2.06.94-2.06 2.06-.94-2.06-.94-.94-2.06-.94 2.06-2.06.94zm-11 1L8.5 8.5l.94-2.06 2.06-.94-2.06-.94L8.5 2.5l-.94 2.06-2.06.94zm10 10l.94 2.06.94-2.06 2.06-.94-2.06-.94-.94-2.06-.94 2.06-2.06.94z\"/><path d=\"M17.41 7.96l-1.37-1.37c-.4-.4-.92-.59-1.43-.59-.52 0-1.04.2-1.43.59L10.3 9.45l-7.72 7.72c-.78.78-.78 2.05 0 2.83L4 21.41c.39.39.9.59 1.41.59.51 0 1.02-.2 1.41-.59l7.78-7.78 2.81-2.81c.8-.78.8-2.07 0-2.86zM5.41 20L4 18.59l7.72-7.72 1.47 1.35L5.41 20z\"/>\n",
              "  </svg>\n",
              "      </button>\n",
              "      \n",
              "  <style>\n",
              "    .colab-df-container {\n",
              "      display:flex;\n",
              "      flex-wrap:wrap;\n",
              "      gap: 12px;\n",
              "    }\n",
              "\n",
              "    .colab-df-convert {\n",
              "      background-color: #E8F0FE;\n",
              "      border: none;\n",
              "      border-radius: 50%;\n",
              "      cursor: pointer;\n",
              "      display: none;\n",
              "      fill: #1967D2;\n",
              "      height: 32px;\n",
              "      padding: 0 0 0 0;\n",
              "      width: 32px;\n",
              "    }\n",
              "\n",
              "    .colab-df-convert:hover {\n",
              "      background-color: #E2EBFA;\n",
              "      box-shadow: 0px 1px 2px rgba(60, 64, 67, 0.3), 0px 1px 3px 1px rgba(60, 64, 67, 0.15);\n",
              "      fill: #174EA6;\n",
              "    }\n",
              "\n",
              "    [theme=dark] .colab-df-convert {\n",
              "      background-color: #3B4455;\n",
              "      fill: #D2E3FC;\n",
              "    }\n",
              "\n",
              "    [theme=dark] .colab-df-convert:hover {\n",
              "      background-color: #434B5C;\n",
              "      box-shadow: 0px 1px 3px 1px rgba(0, 0, 0, 0.15);\n",
              "      filter: drop-shadow(0px 1px 2px rgba(0, 0, 0, 0.3));\n",
              "      fill: #FFFFFF;\n",
              "    }\n",
              "  </style>\n",
              "\n",
              "      <script>\n",
              "        const buttonEl =\n",
              "          document.querySelector('#df-9968ea29-6770-4bb4-8243-f6eb1cc95e55 button.colab-df-convert');\n",
              "        buttonEl.style.display =\n",
              "          google.colab.kernel.accessAllowed ? 'block' : 'none';\n",
              "\n",
              "        async function convertToInteractive(key) {\n",
              "          const element = document.querySelector('#df-9968ea29-6770-4bb4-8243-f6eb1cc95e55');\n",
              "          const dataTable =\n",
              "            await google.colab.kernel.invokeFunction('convertToInteractive',\n",
              "                                                     [key], {});\n",
              "          if (!dataTable) return;\n",
              "\n",
              "          const docLinkHtml = 'Like what you see? Visit the ' +\n",
              "            '<a target=\"_blank\" href=https://colab.research.google.com/notebooks/data_table.ipynb>data table notebook</a>'\n",
              "            + ' to learn more about interactive tables.';\n",
              "          element.innerHTML = '';\n",
              "          dataTable['output_type'] = 'display_data';\n",
              "          await google.colab.output.renderOutput(dataTable, element);\n",
              "          const docLink = document.createElement('div');\n",
              "          docLink.innerHTML = docLinkHtml;\n",
              "          element.appendChild(docLink);\n",
              "        }\n",
              "      </script>\n",
              "    </div>\n",
              "  </div>\n",
              "  "
            ]
          },
          "metadata": {},
          "execution_count": 240
        }
      ]
    },
    {
      "cell_type": "code",
      "source": [
        "data.shape"
      ],
      "metadata": {
        "colab": {
          "base_uri": "https://localhost:8080/"
        },
        "id": "qCE36KbWiurR",
        "outputId": "1468a32a-20bf-46bb-9e48-01fe0529a081"
      },
      "execution_count": 215,
      "outputs": [
        {
          "output_type": "execute_result",
          "data": {
            "text/plain": [
              "(32868, 2)"
            ]
          },
          "metadata": {},
          "execution_count": 215
        }
      ]
    },
    {
      "cell_type": "code",
      "source": [
        "# data = pd.DataFrame()\n",
        "# data[\"stemmed_word\"] = [stemmer.stem(str(i)) for i in words]\n",
        "# data"
      ],
      "metadata": {
        "id": "LUY7sjsFbQ-6"
      },
      "execution_count": 176,
      "outputs": []
    },
    {
      "cell_type": "code",
      "source": [
        "[stemmer.stem(str(i)) for i in words]"
      ],
      "metadata": {
        "id": "0DGAHehjZzBz"
      },
      "execution_count": null,
      "outputs": []
    },
    {
      "cell_type": "markdown",
      "metadata": {
        "id": "lz8qSS9tBTA3"
      },
      "source": [
        "2.2. Удалите стоп-слова из описаний рецептов. Какую долю об общего количества слов составляли стоп-слова? Сравните топ-10 самых часто употребляемых слов до и после удаления стоп-слов."
      ]
    },
    {
      "cell_type": "code",
      "source": [
        "from nltk.corpus import stopwords\n",
        "nltk.download('stopwords')"
      ],
      "metadata": {
        "colab": {
          "base_uri": "https://localhost:8080/"
        },
        "id": "fFYdZg6tdttJ",
        "outputId": "2bd915c9-7f2c-4f70-94f0-bd4db73c7227"
      },
      "execution_count": 178,
      "outputs": [
        {
          "output_type": "stream",
          "name": "stderr",
          "text": [
            "[nltk_data] Downloading package stopwords to /root/nltk_data...\n",
            "[nltk_data]   Unzipping corpora/stopwords.zip.\n"
          ]
        },
        {
          "output_type": "execute_result",
          "data": {
            "text/plain": [
              "True"
            ]
          },
          "metadata": {},
          "execution_count": 178
        }
      ]
    },
    {
      "cell_type": "code",
      "source": [
        "stop_words = set(stopwords.words('english'))\n",
        "\"an\" in stop_words"
      ],
      "metadata": {
        "colab": {
          "base_uri": "https://localhost:8080/"
        },
        "id": "P16YQX7Fds6C",
        "outputId": "6aeb7eef-5461-4c01-dfb5-b30e6eaabd16"
      },
      "execution_count": 228,
      "outputs": [
        {
          "output_type": "execute_result",
          "data": {
            "text/plain": [
              "True"
            ]
          },
          "metadata": {},
          "execution_count": 228
        }
      ]
    },
    {
      "cell_type": "code",
      "source": [
        "#main\n",
        "count = 0\n",
        "data2 = data.copy()\n",
        "top_10 = data.stack().value_counts().head(10)\n",
        "print(top_10)\n",
        "\n",
        "print(data.shape[0])\n",
        "for i in data2[\"normalized_word\"]:\n",
        "  if i in stop_words:\n",
        "    \n",
        "    data2 = data2.drop(labels=str(i))\n",
        "    \n",
        "    count+=1\n",
        "    \n",
        "top_10 = data2.stack().value_counts().head(10)\n",
        "print(top_10)\n",
        "data2.shape[0]\n",
        "print(f' Количество стоп-слов {count}, доля об общего количества слов которые составляли стоп-слова {count/data2.shape[0]}')"
      ],
      "metadata": {
        "colab": {
          "base_uri": "https://localhost:8080/"
        },
        "id": "n9_ktpZadt1U",
        "outputId": "2037d99d-5033-4ac6-9747-ad2cc3b647f6"
      },
      "execution_count": 254,
      "outputs": [
        {
          "output_type": "stream",
          "name": "stdout",
          "text": [
            "origin    12\n",
            "tender    11\n",
            "prefer    11\n",
            "altern    10\n",
            "decor     10\n",
            "travel    10\n",
            "adapt     10\n",
            "invent     9\n",
            "tast       9\n",
            "pure       9\n",
            "dtype: int64\n",
            "32868\n",
            "origin    12\n",
            "tender    11\n",
            "prefer    11\n",
            "decor     10\n",
            "altern    10\n",
            "travel    10\n",
            "adapt     10\n",
            "invent     9\n",
            "tast       9\n",
            "pure       9\n",
            "dtype: int64\n",
            " Количество стоп-слов 136, доля об общего количества слов которые составляли стоп-слова 0.004154955395331786\n"
          ]
        }
      ]
    },
    {
      "cell_type": "code",
      "source": [
        "\"merchants\" in data"
      ],
      "metadata": {
        "colab": {
          "base_uri": "https://localhost:8080/"
        },
        "id": "avlZGxFmdt4W",
        "outputId": "a1315e3b-42b0-4711-907f-92803767a61e"
      },
      "execution_count": 187,
      "outputs": [
        {
          "output_type": "execute_result",
          "data": {
            "text/plain": [
              "False"
            ]
          },
          "metadata": {},
          "execution_count": 187
        }
      ]
    },
    {
      "cell_type": "code",
      "source": [
        "data2.shape"
      ],
      "metadata": {
        "colab": {
          "base_uri": "https://localhost:8080/"
        },
        "id": "gJY-mS7xduB_",
        "outputId": "c13e57b8-15b2-40bf-9320-70ec8b33e1ba"
      },
      "execution_count": 216,
      "outputs": [
        {
          "output_type": "execute_result",
          "data": {
            "text/plain": [
              "(32732, 2)"
            ]
          },
          "metadata": {},
          "execution_count": 216
        }
      ]
    },
    {
      "cell_type": "code",
      "source": [
        "count =0\n",
        "for i in data[\"normalized_word\"]:\n",
        "  if i in stop_words:\n",
        "    count+=1\n",
        "count"
      ],
      "metadata": {
        "colab": {
          "base_uri": "https://localhost:8080/"
        },
        "id": "IixJ5YcPduEH",
        "outputId": "c213c95a-9cf6-4c96-9cfc-f58b30d3b772"
      },
      "execution_count": 255,
      "outputs": [
        {
          "output_type": "execute_result",
          "data": {
            "text/plain": [
              "136"
            ]
          },
          "metadata": {},
          "execution_count": 255
        }
      ]
    },
    {
      "cell_type": "markdown",
      "metadata": {
        "id": "rkEY4z37BTA3"
      },
      "source": [
        "### Векторное представление текста"
      ]
    },
    {
      "cell_type": "code",
      "execution_count": null,
      "metadata": {
        "id": "WTEhqhKhBTA3"
      },
      "outputs": [],
      "source": [
        "#до конца еще не успел сделать"
      ]
    },
    {
      "cell_type": "markdown",
      "metadata": {
        "id": "SNooxwvEBTA3"
      },
      "source": [
        "3.1 Выберите случайным образом 5 рецептов из набора данных. Представьте описание каждого рецепта в виде числового вектора при помощи `TfidfVectorizer`"
      ]
    },
    {
      "cell_type": "markdown",
      "metadata": {
        "id": "D07STz0PBTA3"
      },
      "source": [
        "3.2 Вычислите близость между каждой парой рецептов, выбранных в задании 3.1, используя косинусное расстояние (`scipy.spatial.distance.cosine`) Результаты оформите в виде таблицы `pd.DataFrame`. В качестве названий строк и столбцов используйте названия рецептов."
      ]
    },
    {
      "cell_type": "markdown",
      "metadata": {
        "id": "QymM-On0BTA3"
      },
      "source": [
        "3.3 Какие рецепты являются наиболее похожими? Прокомментируйте результат (словами)."
      ]
    }
  ],
  "metadata": {
    "kernelspec": {
      "display_name": "Python 3 (ipykernel)",
      "language": "python",
      "name": "python3"
    },
    "language_info": {
      "codemirror_mode": {
        "name": "ipython",
        "version": 3
      },
      "file_extension": ".py",
      "mimetype": "text/x-python",
      "name": "python",
      "nbconvert_exporter": "python",
      "pygments_lexer": "ipython3",
      "version": "3.9.12"
    },
    "colab": {
      "provenance": []
    }
  },
  "nbformat": 4,
  "nbformat_minor": 0
}